{
 "cells": [
  {
   "cell_type": "markdown",
   "id": "158c3989",
   "metadata": {},
   "source": [
    "**TASK**"
   ]
  },
  {
   "cell_type": "markdown",
   "id": "12731577",
   "metadata": {},
   "source": [
    "\"You've been asked to help the marketing team in increasing performance of their marketing campaign. The team wants to leverage Advanced Analytics to improve campaign targeting. In other words they want to identify customers for which the gain from being contacted is the highest. To establish a proof of concept they provided data from previous campaign for both control and targeted groups, which were selected at random from non-users before the campaign start. Aim of the campaign was to persuade customers to subscribe to the term deposit. The product (term deposit) was available also to the control group (but not marketed).\n",
    "\n",
    "Assuming the total campaign budget is fixed calculate expected lift from using model predictions vs random selection (as done before).\n",
    "\n",
    "We would like you to leverage relevant analytical methods to develop proof of concept for the next wave of the campaign (same message) and it's expected lift. \""
   ]
  },
  {
   "cell_type": "markdown",
   "id": "b21e5313",
   "metadata": {},
   "source": [
    "**DATASET**"
   ]
  },
  {
   "cell_type": "markdown",
   "id": "8d329610",
   "metadata": {},
   "source": [
    "The dataset contains information about direct marketing campaign (phone calls) of a Portuguese banking institution."
   ]
  },
  {
   "cell_type": "code",
   "execution_count": 1,
   "id": "a9e7b98e",
   "metadata": {},
   "outputs": [
    {
     "name": "stdout",
     "output_type": "stream",
     "text": [
      "Requirement already satisfied: xgboost in c:\\users\\user\\anaconda3\\lib\\site-packages (1.5.2)\n",
      "Requirement already satisfied: scipy in c:\\users\\user\\anaconda3\\lib\\site-packages (from xgboost) (1.7.1)\n",
      "Requirement already satisfied: numpy in c:\\users\\user\\anaconda3\\lib\\site-packages (from xgboost) (1.20.3)\n",
      "Note: you may need to restart the kernel to use updated packages.\n"
     ]
    }
   ],
   "source": [
    "pip install xgboost"
   ]
  },
  {
   "cell_type": "code",
   "execution_count": 23,
   "id": "209717ff",
   "metadata": {},
   "outputs": [],
   "source": [
    "#importing packages\n",
    "import numpy as np\n",
    "import pandas as pd\n",
    "import os\n",
    "import matplotlib.pyplot as plt\n",
    "from sklearn.model_selection import train_test_split\n",
    "from sklearn.preprocessing import OneHotEncoder\n",
    "import seaborn as sns\n",
    "import xgboost as xgb \n",
    "import warnings\n",
    "import sklearn\n",
    "from sklearn.metrics import roc_auc_score, accuracy_score\n",
    "from sklearn.model_selection import train_test_split\n",
    "from sklearn.metrics import precision_recall_curve\n",
    "from sklearn.metrics import average_precision_score\n",
    "from sklearn import preprocessing\n",
    "from sklearn.model_selection import KFold\n",
    "from sklearn import metrics\n",
    "from sklearn.ensemble import RandomForestClassifier\n",
    "from sklearn.metrics import roc_auc_score\n",
    "\n",
    "import matplotlib.pyplot as plt\n",
    "plt.style.use('seaborn-ticks')\n",
    "%matplotlib inline\n",
    "\n",
    "from IPython.display import display\n",
    "import statsmodels.api as sm\n",
    "\n",
    "from random import shuffle\n",
    "from random import randint\n",
    "import pickle\n",
    "from sklearn.model_selection import train_test_split\n",
    "from sklearn.model_selection import StratifiedKFold\n",
    "from operator import itemgetter\n",
    "import time\n",
    "import xgboost as xgb\n",
    "\n",
    "import matplotlib.pyplot as plt\n",
    "%matplotlib inline\n",
    "\n",
    "import gc\n",
    "\n",
    "xgb.set_config(verbosity=0)"
   ]
  },
  {
   "cell_type": "code",
   "execution_count": 24,
   "id": "458bc0b1",
   "metadata": {},
   "outputs": [
    {
     "data": {
      "text/html": [
       "<div>\n",
       "<style scoped>\n",
       "    .dataframe tbody tr th:only-of-type {\n",
       "        vertical-align: middle;\n",
       "    }\n",
       "\n",
       "    .dataframe tbody tr th {\n",
       "        vertical-align: top;\n",
       "    }\n",
       "\n",
       "    .dataframe thead th {\n",
       "        text-align: right;\n",
       "    }\n",
       "</style>\n",
       "<table border=\"1\" class=\"dataframe\">\n",
       "  <thead>\n",
       "    <tr style=\"text-align: right;\">\n",
       "      <th></th>\n",
       "      <th>Unnamed: 0</th>\n",
       "      <th>age</th>\n",
       "      <th>job</th>\n",
       "      <th>marital</th>\n",
       "      <th>education</th>\n",
       "      <th>default</th>\n",
       "      <th>housing</th>\n",
       "      <th>loan</th>\n",
       "      <th>contact</th>\n",
       "      <th>month</th>\n",
       "      <th>...</th>\n",
       "      <th>pdays</th>\n",
       "      <th>previous</th>\n",
       "      <th>poutcome</th>\n",
       "      <th>emp_var_rate</th>\n",
       "      <th>cons_price_idx</th>\n",
       "      <th>cons_conf_idx</th>\n",
       "      <th>euribor3m</th>\n",
       "      <th>nr_employed</th>\n",
       "      <th>y</th>\n",
       "      <th>test_control_flag</th>\n",
       "    </tr>\n",
       "  </thead>\n",
       "  <tbody>\n",
       "    <tr>\n",
       "      <th>0</th>\n",
       "      <td>1</td>\n",
       "      <td>37</td>\n",
       "      <td>services</td>\n",
       "      <td>married</td>\n",
       "      <td>high.school</td>\n",
       "      <td>no</td>\n",
       "      <td>yes</td>\n",
       "      <td>no</td>\n",
       "      <td>telephone</td>\n",
       "      <td>may</td>\n",
       "      <td>...</td>\n",
       "      <td>999</td>\n",
       "      <td>0</td>\n",
       "      <td>nonexistent</td>\n",
       "      <td>1.1</td>\n",
       "      <td>93.994</td>\n",
       "      <td>-36.4</td>\n",
       "      <td>4.857</td>\n",
       "      <td>5191.0</td>\n",
       "      <td>no</td>\n",
       "      <td>campaign group</td>\n",
       "    </tr>\n",
       "    <tr>\n",
       "      <th>1</th>\n",
       "      <td>2</td>\n",
       "      <td>56</td>\n",
       "      <td>services</td>\n",
       "      <td>married</td>\n",
       "      <td>high.school</td>\n",
       "      <td>no</td>\n",
       "      <td>no</td>\n",
       "      <td>yes</td>\n",
       "      <td>telephone</td>\n",
       "      <td>may</td>\n",
       "      <td>...</td>\n",
       "      <td>999</td>\n",
       "      <td>0</td>\n",
       "      <td>nonexistent</td>\n",
       "      <td>1.1</td>\n",
       "      <td>93.994</td>\n",
       "      <td>-36.4</td>\n",
       "      <td>4.857</td>\n",
       "      <td>5191.0</td>\n",
       "      <td>no</td>\n",
       "      <td>campaign group</td>\n",
       "    </tr>\n",
       "    <tr>\n",
       "      <th>2</th>\n",
       "      <td>3</td>\n",
       "      <td>41</td>\n",
       "      <td>blue-collar</td>\n",
       "      <td>married</td>\n",
       "      <td>unknown</td>\n",
       "      <td>unknown</td>\n",
       "      <td>no</td>\n",
       "      <td>no</td>\n",
       "      <td>telephone</td>\n",
       "      <td>may</td>\n",
       "      <td>...</td>\n",
       "      <td>999</td>\n",
       "      <td>0</td>\n",
       "      <td>nonexistent</td>\n",
       "      <td>1.1</td>\n",
       "      <td>93.994</td>\n",
       "      <td>-36.4</td>\n",
       "      <td>4.857</td>\n",
       "      <td>5191.0</td>\n",
       "      <td>yes</td>\n",
       "      <td>campaign group</td>\n",
       "    </tr>\n",
       "    <tr>\n",
       "      <th>3</th>\n",
       "      <td>4</td>\n",
       "      <td>25</td>\n",
       "      <td>services</td>\n",
       "      <td>single</td>\n",
       "      <td>high.school</td>\n",
       "      <td>no</td>\n",
       "      <td>yes</td>\n",
       "      <td>no</td>\n",
       "      <td>telephone</td>\n",
       "      <td>may</td>\n",
       "      <td>...</td>\n",
       "      <td>999</td>\n",
       "      <td>0</td>\n",
       "      <td>nonexistent</td>\n",
       "      <td>1.1</td>\n",
       "      <td>93.994</td>\n",
       "      <td>-36.4</td>\n",
       "      <td>4.857</td>\n",
       "      <td>5191.0</td>\n",
       "      <td>no</td>\n",
       "      <td>campaign group</td>\n",
       "    </tr>\n",
       "    <tr>\n",
       "      <th>4</th>\n",
       "      <td>5</td>\n",
       "      <td>25</td>\n",
       "      <td>services</td>\n",
       "      <td>single</td>\n",
       "      <td>high.school</td>\n",
       "      <td>no</td>\n",
       "      <td>yes</td>\n",
       "      <td>no</td>\n",
       "      <td>telephone</td>\n",
       "      <td>may</td>\n",
       "      <td>...</td>\n",
       "      <td>999</td>\n",
       "      <td>0</td>\n",
       "      <td>nonexistent</td>\n",
       "      <td>1.1</td>\n",
       "      <td>93.994</td>\n",
       "      <td>-36.4</td>\n",
       "      <td>4.857</td>\n",
       "      <td>5191.0</td>\n",
       "      <td>no</td>\n",
       "      <td>campaign group</td>\n",
       "    </tr>\n",
       "  </tbody>\n",
       "</table>\n",
       "<p>5 rows × 23 columns</p>\n",
       "</div>"
      ],
      "text/plain": [
       "   Unnamed: 0  age          job  marital    education  default housing loan  \\\n",
       "0           1   37     services  married  high.school       no     yes   no   \n",
       "1           2   56     services  married  high.school       no      no  yes   \n",
       "2           3   41  blue-collar  married      unknown  unknown      no   no   \n",
       "3           4   25     services   single  high.school       no     yes   no   \n",
       "4           5   25     services   single  high.school       no     yes   no   \n",
       "\n",
       "     contact month  ... pdays  previous     poutcome  emp_var_rate  \\\n",
       "0  telephone   may  ...   999         0  nonexistent           1.1   \n",
       "1  telephone   may  ...   999         0  nonexistent           1.1   \n",
       "2  telephone   may  ...   999         0  nonexistent           1.1   \n",
       "3  telephone   may  ...   999         0  nonexistent           1.1   \n",
       "4  telephone   may  ...   999         0  nonexistent           1.1   \n",
       "\n",
       "   cons_price_idx cons_conf_idx  euribor3m  nr_employed    y  \\\n",
       "0          93.994         -36.4      4.857       5191.0   no   \n",
       "1          93.994         -36.4      4.857       5191.0   no   \n",
       "2          93.994         -36.4      4.857       5191.0  yes   \n",
       "3          93.994         -36.4      4.857       5191.0   no   \n",
       "4          93.994         -36.4      4.857       5191.0   no   \n",
       "\n",
       "   test_control_flag  \n",
       "0     campaign group  \n",
       "1     campaign group  \n",
       "2     campaign group  \n",
       "3     campaign group  \n",
       "4     campaign group  \n",
       "\n",
       "[5 rows x 23 columns]"
      ]
     },
     "execution_count": 24,
     "metadata": {},
     "output_type": "execute_result"
    }
   ],
   "source": [
    "#data\n",
    "df = pd.read_csv('bank_data_prediction_task.csv', low_memory=False).rename(columns = {'emp.var.rate':'emp_var_rate','cons.price.idx':'cons_price_idx',\n",
    "                         'cons.conf.idx':'cons_conf_idx', 'nr.employed':'nr_employed'})\n",
    "\n",
    "df.head()"
   ]
  },
  {
   "cell_type": "code",
   "execution_count": 25,
   "id": "4a19a5af",
   "metadata": {},
   "outputs": [
    {
     "data": {
      "text/plain": [
       "0            1\n",
       "1            2\n",
       "2            3\n",
       "3            4\n",
       "4            5\n",
       "         ...  \n",
       "41183    41184\n",
       "41184    41185\n",
       "41185    41186\n",
       "41186    41187\n",
       "41187    41188\n",
       "Name: Unnamed: 0, Length: 41188, dtype: int64"
      ]
     },
     "execution_count": 25,
     "metadata": {},
     "output_type": "execute_result"
    }
   ],
   "source": [
    "df.pop('Unnamed: 0')"
   ]
  },
  {
   "cell_type": "code",
   "execution_count": 26,
   "id": "ecefc8fa",
   "metadata": {},
   "outputs": [
    {
     "data": {
      "text/html": [
       "<div>\n",
       "<style scoped>\n",
       "    .dataframe tbody tr th:only-of-type {\n",
       "        vertical-align: middle;\n",
       "    }\n",
       "\n",
       "    .dataframe tbody tr th {\n",
       "        vertical-align: top;\n",
       "    }\n",
       "\n",
       "    .dataframe thead th {\n",
       "        text-align: right;\n",
       "    }\n",
       "</style>\n",
       "<table border=\"1\" class=\"dataframe\">\n",
       "  <thead>\n",
       "    <tr style=\"text-align: right;\">\n",
       "      <th></th>\n",
       "      <th>age</th>\n",
       "      <th>duration</th>\n",
       "      <th>campaign</th>\n",
       "      <th>pdays</th>\n",
       "      <th>previous</th>\n",
       "      <th>emp_var_rate</th>\n",
       "      <th>cons_price_idx</th>\n",
       "      <th>cons_conf_idx</th>\n",
       "      <th>euribor3m</th>\n",
       "      <th>nr_employed</th>\n",
       "    </tr>\n",
       "  </thead>\n",
       "  <tbody>\n",
       "    <tr>\n",
       "      <th>count</th>\n",
       "      <td>41188.00000</td>\n",
       "      <td>16476.000000</td>\n",
       "      <td>16476.000000</td>\n",
       "      <td>41188.000000</td>\n",
       "      <td>41188.000000</td>\n",
       "      <td>41188.000000</td>\n",
       "      <td>40938.000000</td>\n",
       "      <td>41188.000000</td>\n",
       "      <td>41188.000000</td>\n",
       "      <td>41188.000000</td>\n",
       "    </tr>\n",
       "    <tr>\n",
       "      <th>mean</th>\n",
       "      <td>40.02406</td>\n",
       "      <td>259.660172</td>\n",
       "      <td>2.546856</td>\n",
       "      <td>962.475454</td>\n",
       "      <td>0.172963</td>\n",
       "      <td>0.081886</td>\n",
       "      <td>93.575950</td>\n",
       "      <td>-40.502600</td>\n",
       "      <td>3.621291</td>\n",
       "      <td>5167.035911</td>\n",
       "    </tr>\n",
       "    <tr>\n",
       "      <th>std</th>\n",
       "      <td>10.42125</td>\n",
       "      <td>260.660561</td>\n",
       "      <td>2.699664</td>\n",
       "      <td>186.910907</td>\n",
       "      <td>0.494901</td>\n",
       "      <td>1.570960</td>\n",
       "      <td>0.578889</td>\n",
       "      <td>4.628198</td>\n",
       "      <td>1.734447</td>\n",
       "      <td>72.251528</td>\n",
       "    </tr>\n",
       "    <tr>\n",
       "      <th>min</th>\n",
       "      <td>17.00000</td>\n",
       "      <td>0.000000</td>\n",
       "      <td>1.000000</td>\n",
       "      <td>0.000000</td>\n",
       "      <td>0.000000</td>\n",
       "      <td>-3.400000</td>\n",
       "      <td>92.201000</td>\n",
       "      <td>-50.800000</td>\n",
       "      <td>0.634000</td>\n",
       "      <td>4963.600000</td>\n",
       "    </tr>\n",
       "    <tr>\n",
       "      <th>25%</th>\n",
       "      <td>32.00000</td>\n",
       "      <td>103.000000</td>\n",
       "      <td>1.000000</td>\n",
       "      <td>999.000000</td>\n",
       "      <td>0.000000</td>\n",
       "      <td>-1.800000</td>\n",
       "      <td>93.075000</td>\n",
       "      <td>-42.700000</td>\n",
       "      <td>1.344000</td>\n",
       "      <td>5099.100000</td>\n",
       "    </tr>\n",
       "    <tr>\n",
       "      <th>50%</th>\n",
       "      <td>38.00000</td>\n",
       "      <td>180.000000</td>\n",
       "      <td>2.000000</td>\n",
       "      <td>999.000000</td>\n",
       "      <td>0.000000</td>\n",
       "      <td>1.100000</td>\n",
       "      <td>93.749000</td>\n",
       "      <td>-41.800000</td>\n",
       "      <td>4.857000</td>\n",
       "      <td>5191.000000</td>\n",
       "    </tr>\n",
       "    <tr>\n",
       "      <th>75%</th>\n",
       "      <td>47.00000</td>\n",
       "      <td>321.000000</td>\n",
       "      <td>3.000000</td>\n",
       "      <td>999.000000</td>\n",
       "      <td>0.000000</td>\n",
       "      <td>1.400000</td>\n",
       "      <td>93.994000</td>\n",
       "      <td>-36.400000</td>\n",
       "      <td>4.961000</td>\n",
       "      <td>5228.100000</td>\n",
       "    </tr>\n",
       "    <tr>\n",
       "      <th>max</th>\n",
       "      <td>98.00000</td>\n",
       "      <td>4918.000000</td>\n",
       "      <td>43.000000</td>\n",
       "      <td>999.000000</td>\n",
       "      <td>7.000000</td>\n",
       "      <td>1.400000</td>\n",
       "      <td>94.767000</td>\n",
       "      <td>-26.900000</td>\n",
       "      <td>5.045000</td>\n",
       "      <td>5228.100000</td>\n",
       "    </tr>\n",
       "  </tbody>\n",
       "</table>\n",
       "</div>"
      ],
      "text/plain": [
       "               age      duration      campaign         pdays      previous  \\\n",
       "count  41188.00000  16476.000000  16476.000000  41188.000000  41188.000000   \n",
       "mean      40.02406    259.660172      2.546856    962.475454      0.172963   \n",
       "std       10.42125    260.660561      2.699664    186.910907      0.494901   \n",
       "min       17.00000      0.000000      1.000000      0.000000      0.000000   \n",
       "25%       32.00000    103.000000      1.000000    999.000000      0.000000   \n",
       "50%       38.00000    180.000000      2.000000    999.000000      0.000000   \n",
       "75%       47.00000    321.000000      3.000000    999.000000      0.000000   \n",
       "max       98.00000   4918.000000     43.000000    999.000000      7.000000   \n",
       "\n",
       "       emp_var_rate  cons_price_idx  cons_conf_idx     euribor3m   nr_employed  \n",
       "count  41188.000000    40938.000000   41188.000000  41188.000000  41188.000000  \n",
       "mean       0.081886       93.575950     -40.502600      3.621291   5167.035911  \n",
       "std        1.570960        0.578889       4.628198      1.734447     72.251528  \n",
       "min       -3.400000       92.201000     -50.800000      0.634000   4963.600000  \n",
       "25%       -1.800000       93.075000     -42.700000      1.344000   5099.100000  \n",
       "50%        1.100000       93.749000     -41.800000      4.857000   5191.000000  \n",
       "75%        1.400000       93.994000     -36.400000      4.961000   5228.100000  \n",
       "max        1.400000       94.767000     -26.900000      5.045000   5228.100000  "
      ]
     },
     "execution_count": 26,
     "metadata": {},
     "output_type": "execute_result"
    }
   ],
   "source": [
    "df.describe()"
   ]
  },
  {
   "cell_type": "code",
   "execution_count": 27,
   "id": "db0a77fd",
   "metadata": {},
   "outputs": [
    {
     "data": {
      "text/plain": [
       "(array([16476.,     0.,     0.,     0.,     0.,     0.,     0.,     0.,\n",
       "            0., 24712.]),\n",
       " array([0. , 0.1, 0.2, 0.3, 0.4, 0.5, 0.6, 0.7, 0.8, 0.9, 1. ]),\n",
       " <BarContainer object of 10 artists>)"
      ]
     },
     "execution_count": 27,
     "metadata": {},
     "output_type": "execute_result"
    },
    {
     "data": {
      "image/png": "[encoded data removed]",
      "text/plain": [
       "<Figure size 432x288 with 2 Axes>"
      ]
     },
     "metadata": {
      "needs_background": "light"
     },
     "output_type": "display_data"
    }
   ],
   "source": [
    "#targets\n",
    "fig, axs = plt.subplots(1, 2, sharey=True, tight_layout=True)\n",
    "\n",
    "axs[0].hist(df.y, bins=10)\n",
    "axs[1].hist(df.test_control_flag, bins=10)"
   ]
  },
  {
   "cell_type": "code",
   "execution_count": 28,
   "id": "0f5f4dc9",
   "metadata": {},
   "outputs": [
    {
     "data": {
      "text/plain": [
       "999    39673\n",
       "3        439\n",
       "6        412\n",
       "4        118\n",
       "9         64\n",
       "2         61\n",
       "7         60\n",
       "12        58\n",
       "10        52\n",
       "5         46\n",
       "13        36\n",
       "11        28\n",
       "1         26\n",
       "15        24\n",
       "14        20\n",
       "8         18\n",
       "0         15\n",
       "16        11\n",
       "17         8\n",
       "18         7\n",
       "19         3\n",
       "22         3\n",
       "21         2\n",
       "26         1\n",
       "20         1\n",
       "25         1\n",
       "27         1\n",
       "Name: pdays, dtype: int64"
      ]
     },
     "execution_count": 28,
     "metadata": {},
     "output_type": "execute_result"
    }
   ],
   "source": [
    "df['pdays'].value_counts()"
   ]
  },
  {
   "cell_type": "code",
   "execution_count": 68,
   "id": "a3324fbc",
   "metadata": {},
   "outputs": [],
   "source": [
    "#transformation for dychotomic variable\n",
    "df['pdays'] = df['pdays'].replace(999, 'yes')\n",
    "for i in df.pdays:\n",
    "    if type(i) == int:\n",
    "        df['pdays'] = df['pdays'].replace(i, 'no')"
   ]
  },
  {
   "cell_type": "code",
   "execution_count": 69,
   "id": "fdecf674",
   "metadata": {
    "scrolled": true
   },
   "outputs": [
    {
     "data": {
      "text/plain": [
       "yes    39673\n",
       "no      1515\n",
       "Name: pdays, dtype: int64"
      ]
     },
     "execution_count": 69,
     "metadata": {},
     "output_type": "execute_result"
    }
   ],
   "source": [
    "df.pdays.value_counts()"
   ]
  },
  {
   "cell_type": "code",
   "execution_count": 31,
   "id": "0a5068e0",
   "metadata": {},
   "outputs": [
    {
     "data": {
      "text/plain": [
       "age                  0.000000\n",
       "job                  0.000000\n",
       "marital              0.000000\n",
       "education            0.000000\n",
       "default              0.000000\n",
       "housing              0.000000\n",
       "loan                 0.000000\n",
       "contact              0.599981\n",
       "month                0.599981\n",
       "day_of_week          0.599981\n",
       "duration             0.599981\n",
       "campaign             0.599981\n",
       "pdays                0.000000\n",
       "previous             0.000000\n",
       "poutcome             0.000000\n",
       "emp_var_rate         0.000000\n",
       "cons_price_idx       0.006070\n",
       "cons_conf_idx        0.000000\n",
       "euribor3m            0.000000\n",
       "nr_employed          0.000000\n",
       "y                    0.000000\n",
       "test_control_flag    0.000000\n",
       "dtype: float64"
      ]
     },
     "execution_count": 31,
     "metadata": {},
     "output_type": "execute_result"
    }
   ],
   "source": [
    "df.isnull().sum()/len(df)"
   ]
  },
  {
   "cell_type": "markdown",
   "id": "6b285b1a",
   "metadata": {},
   "source": [
    "XGBOOST!!!"
   ]
  },
  {
   "cell_type": "markdown",
   "id": "1dd00707",
   "metadata": {},
   "source": [
    " XGBoost, because it's working with missing values AND HAS A LOT OF OTHER ADVENTAGES"
   ]
  },
  {
   "cell_type": "code",
   "execution_count": 71,
   "id": "1ce28cb8",
   "metadata": {},
   "outputs": [
    {
     "data": {
      "text/plain": [
       "Index(['age', 'job', 'marital', 'education', 'default', 'housing', 'loan',\n",
       "       'contact', 'month', 'day_of_week', 'duration', 'campaign', 'pdays',\n",
       "       'previous', 'poutcome', 'emp_var_rate', 'cons_price_idx',\n",
       "       'cons_conf_idx', 'euribor3m', 'nr_employed', 'y', 'test_control_flag'],\n",
       "      dtype='object')"
      ]
     },
     "execution_count": 71,
     "metadata": {},
     "output_type": "execute_result"
    }
   ],
   "source": [
    "df.columns"
   ]
  },
  {
   "cell_type": "code",
   "execution_count": 72,
   "id": "dce396a3",
   "metadata": {},
   "outputs": [],
   "source": [
    "target = 'y'\n",
    "numFeatures = ['age', 'duration', 'campaign','previous', 'emp_var_rate', 'cons_price_idx', 'cons_conf_idx', 'euribor3m', 'nr_employed']\n",
    "catFeatures = ['pdays', 'job', 'marital', 'education', 'default', 'housing', 'loan', 'contact', 'month', 'day_of_week', 'poutcome', 'test_control_flag']"
   ]
  },
  {
   "cell_type": "code",
   "execution_count": 73,
   "id": "8d9fa405",
   "metadata": {},
   "outputs": [],
   "source": [
    "#ENCODING\n",
    "df_prim = df.copy()\n",
    "mapy = {}\n",
    "for feature in catFeatures:\n",
    "    le = preprocessing.LabelEncoder()\n",
    "    df_prim[feature] = le.fit_transform(df[feature])\n",
    "    mapy[feature] = le"
   ]
  },
  {
   "cell_type": "code",
   "execution_count": 74,
   "id": "38c71aae",
   "metadata": {},
   "outputs": [
    {
     "name": "stdout",
     "output_type": "stream",
     "text": [
      "['age', 'job', 'marital', 'education', 'default', 'housing', 'loan', 'contact', 'month', 'day_of_week', 'duration', 'campaign', 'pdays', 'previous', 'poutcome', 'emp_var_rate', 'cons_price_idx', 'cons_conf_idx', 'euribor3m', 'nr_employed', 'test_control_flag']\n"
     ]
    }
   ],
   "source": [
    "features = df_prim.columns.tolist()\n",
    "\n",
    "\n",
    "features.remove(target)\n",
    "print(features)"
   ]
  },
  {
   "cell_type": "code",
   "execution_count": 75,
   "id": "419a4e1e",
   "metadata": {},
   "outputs": [],
   "source": [
    "df_prim[target] = (df_prim[target]==\"yes\").astype(int)\n"
   ]
  },
  {
   "cell_type": "code",
   "execution_count": 76,
   "id": "9d9e0616",
   "metadata": {},
   "outputs": [],
   "source": [
    "\n",
    "#wrapper\n",
    "def run_xgb(train, test, features, target,\n",
    "            eta=0.03, max_depth=7, subsample = 0.7, colsample_bytree = 0.7, # hiperparams\n",
    "            colsample_bylevel=1,lambdaX = 1, alpha=0, gamma=0, min_child_weight=0, # hiperparams\n",
    "            rate_drop = 0.2, skip_drop=0.5, # hiperparams\n",
    "            num_boost_round = 1000, early_stopping_rounds = 40, # hiperparams\n",
    "            debug=True, eval_metric= [\"auc\"], objective = \"binary:logistic\", # konfiguracja\n",
    "            seed=2019, booster = \"gbtree\", tree_method=\"exact\", grow_policy=\"depthwise\"):\n",
    "  \n",
    "\n",
    "   \n",
    "    start_time = time.time()\n",
    "    paramList= ['eta', 'max_depth',\n",
    "         'subsample', 'colsample_bytree', 'colsample_bylevel',\n",
    "         'lambdaX', 'alpha', 'gamma', 'min_child_weight',\n",
    "         'num_boost_round', 'early_stopping_rounds',\n",
    "         'rate_drop', 'skip_drop',\n",
    "         'eval_metric', 'objective', \n",
    "          'seed', 'booster', 'tree_method', 'grow_policy']\n",
    "    \n",
    "\n",
    "    params = dict()\n",
    "    for param in paramList:\n",
    "        params[param]=eval(param)\n",
    "    if(debug):\n",
    "        for param in paramList:\n",
    "            print(param, eval(param), end=\", \")\n",
    "        print('\\nLength train:', len(train.index))\n",
    "        print('Length test:', len(test.index))\n",
    "\n",
    "\n",
    "    if (params[\"objective\"]==\"multi:softmax\" or params[\"objective\"]==\"multi:softprob\"):\n",
    "        params[\"num_class\"]=train[target].nunique()\n",
    "    params[\"silent\"]=1\n",
    "    \n",
    "    params[\"lambda\"]=lambdaX\n",
    "    \n",
    "\n",
    "    dtrain = xgb.DMatrix(train[features].values, train[target].values, feature_names=train[features].columns.values)\n",
    "    dtest = xgb.DMatrix(test[features].values, test[target].values, feature_names=test[features].columns.values)\n",
    "\n",
    "    evals = [(dtrain, 'train'), (dtest, 'test')]\n",
    "    \n",
    "    train_history = dict()\n",
    "\n",
    "    gbm = xgb.train(params, dtrain, \n",
    "                    num_boost_round, early_stopping_rounds=early_stopping_rounds,\n",
    "                    evals=evals, evals_result=train_history, verbose_eval=debug)\n",
    "    \n",
    "    score = gbm.best_score\n",
    "\n",
    "    trainHistory = dict()\n",
    "    for key in train_history.keys():\n",
    "        for metric in train_history[key].keys():\n",
    "            trainHistory[key+metric.upper()]=train_history[key][metric]\n",
    "    train_history = pd.DataFrame(trainHistory)\n",
    "\n",
    "    trainPred = gbm.predict(dtrain, ntree_limit=gbm.best_iteration)\n",
    "    testPred = gbm.predict(dtest, ntree_limit=gbm.best_iteration)\n",
    "\n",
    "    imp = gbm.get_fscore()\n",
    "    imp = sorted(imp.items(), key=itemgetter(1), reverse=True)\n",
    "\n",
    "    impFig=None\n",
    "    if(debug):\n",
    "        print('TIME: {} min'.format(round((time.time() - start_time)/60, 2)))\n",
    "        impFig, ax = plt.subplots()\n",
    "        xgb.plot_importance(gbm, ax=ax)\n",
    "    return score, trainPred, testPred, train_history, impFig, imp"
   ]
  },
  {
   "cell_type": "markdown",
   "id": "f19a0590",
   "metadata": {},
   "source": [
    "RANDOM SEARCH"
   ]
  },
  {
   "cell_type": "code",
   "execution_count": 77,
   "id": "f0905bad",
   "metadata": {},
   "outputs": [],
   "source": [
    "X_train, X_test = train_test_split(df_prim, test_size=0.3, random_state=2019, stratify=df_prim[target].values)\n"
   ]
  },
  {
   "cell_type": "code",
   "execution_count": null,
   "id": "9b2a91ce",
   "metadata": {},
   "outputs": [],
   "source": [
    "#ALL VARIABLES"
   ]
  },
  {
   "cell_type": "code",
   "execution_count": 78,
   "id": "15d110ed",
   "metadata": {},
   "outputs": [
    {
     "name": "stdout",
     "output_type": "stream",
     "text": [
      "eta 0.03, max_depth 7, subsample 0.7, colsample_bytree 0.7, colsample_bylevel 1, lambdaX 1, alpha 0, gamma 0, min_child_weight 0, num_boost_round 1000, early_stopping_rounds 40, rate_drop 0.2, skip_drop 0.5, eval_metric ['auc'], objective binary:logistic, seed 2019, booster gbtree, tree_method exact, grow_policy depthwise, \n",
      "Length train: 28831\n",
      "Length test: 12357\n",
      "[0]\ttrain-auc:0.77127\ttest-auc:0.76452\n",
      "[1]\ttrain-auc:0.78103\ttest-auc:0.77282\n",
      "[2]\ttrain-auc:0.80527\ttest-auc:0.79323\n",
      "[3]\ttrain-auc:0.81196\ttest-auc:0.79798\n",
      "[4]\ttrain-auc:0.81506\ttest-auc:0.80084\n",
      "[5]\ttrain-auc:0.81499\ttest-auc:0.80073\n",
      "[6]\ttrain-auc:0.81384\ttest-auc:0.79913\n",
      "[7]\ttrain-auc:0.81515\ttest-auc:0.80140\n",
      "[8]\ttrain-auc:0.81778\ttest-auc:0.80396\n",
      "[9]\ttrain-auc:0.81797\ttest-auc:0.80417\n",
      "[10]\ttrain-auc:0.81900\ttest-auc:0.80478\n",
      "[11]\ttrain-auc:0.81994\ttest-auc:0.80558\n",
      "[12]\ttrain-auc:0.81810\ttest-auc:0.80396\n",
      "[13]\ttrain-auc:0.81858\ttest-auc:0.80395\n",
      "[14]\ttrain-auc:0.81870\ttest-auc:0.80381\n",
      "[15]\ttrain-auc:0.81891\ttest-auc:0.80375\n",
      "[16]\ttrain-auc:0.81969\ttest-auc:0.80427\n",
      "[17]\ttrain-auc:0.82017\ttest-auc:0.80498\n",
      "[18]\ttrain-auc:0.82095\ttest-auc:0.80556\n",
      "[19]\ttrain-auc:0.81990\ttest-auc:0.80506\n",
      "[20]\ttrain-auc:0.82018\ttest-auc:0.80482\n",
      "[21]\ttrain-auc:0.82080\ttest-auc:0.80534\n",
      "[22]\ttrain-auc:0.82190\ttest-auc:0.80550\n",
      "[23]\ttrain-auc:0.82198\ttest-auc:0.80558\n",
      "[24]\ttrain-auc:0.82224\ttest-auc:0.80630\n",
      "[25]\ttrain-auc:0.82273\ttest-auc:0.80636\n",
      "[26]\ttrain-auc:0.82313\ttest-auc:0.80616\n",
      "[27]\ttrain-auc:0.82294\ttest-auc:0.80609\n",
      "[28]\ttrain-auc:0.82240\ttest-auc:0.80579\n",
      "[29]\ttrain-auc:0.82287\ttest-auc:0.80632\n",
      "[30]\ttrain-auc:0.82416\ttest-auc:0.80716\n",
      "[31]\ttrain-auc:0.82529\ttest-auc:0.80793\n",
      "[32]\ttrain-auc:0.82516\ttest-auc:0.80761\n",
      "[33]\ttrain-auc:0.82534\ttest-auc:0.80778\n",
      "[34]\ttrain-auc:0.82620\ttest-auc:0.80866\n",
      "[35]\ttrain-auc:0.82714\ttest-auc:0.81010\n",
      "[36]\ttrain-auc:0.82730\ttest-auc:0.81009\n",
      "[37]\ttrain-auc:0.82784\ttest-auc:0.80991\n",
      "[38]\ttrain-auc:0.82735\ttest-auc:0.80934\n",
      "[39]\ttrain-auc:0.82766\ttest-auc:0.80918\n",
      "[40]\ttrain-auc:0.82788\ttest-auc:0.80933\n",
      "[41]\ttrain-auc:0.82796\ttest-auc:0.80933\n",
      "[42]\ttrain-auc:0.82799\ttest-auc:0.80924\n",
      "[43]\ttrain-auc:0.82853\ttest-auc:0.80973\n",
      "[44]\ttrain-auc:0.82880\ttest-auc:0.80989\n",
      "[45]\ttrain-auc:0.82898\ttest-auc:0.80971\n",
      "[46]\ttrain-auc:0.82937\ttest-auc:0.80986\n",
      "[47]\ttrain-auc:0.82976\ttest-auc:0.80973\n",
      "[48]\ttrain-auc:0.83020\ttest-auc:0.81008\n",
      "[49]\ttrain-auc:0.83082\ttest-auc:0.81032\n",
      "[50]\ttrain-auc:0.83092\ttest-auc:0.81048\n",
      "[51]\ttrain-auc:0.83147\ttest-auc:0.81071\n",
      "[52]\ttrain-auc:0.83138\ttest-auc:0.81065\n",
      "[53]\ttrain-auc:0.83169\ttest-auc:0.81070\n",
      "[54]\ttrain-auc:0.83231\ttest-auc:0.81111\n",
      "[55]\ttrain-auc:0.83281\ttest-auc:0.81131\n",
      "[56]\ttrain-auc:0.83277\ttest-auc:0.81134\n",
      "[57]\ttrain-auc:0.83259\ttest-auc:0.81123\n",
      "[58]\ttrain-auc:0.83328\ttest-auc:0.81126\n",
      "[59]\ttrain-auc:0.83392\ttest-auc:0.81146\n",
      "[60]\ttrain-auc:0.83457\ttest-auc:0.81200\n",
      "[61]\ttrain-auc:0.83479\ttest-auc:0.81214\n",
      "[62]\ttrain-auc:0.83486\ttest-auc:0.81216\n",
      "[63]\ttrain-auc:0.83514\ttest-auc:0.81237\n",
      "[64]\ttrain-auc:0.83559\ttest-auc:0.81239\n",
      "[65]\ttrain-auc:0.83620\ttest-auc:0.81271\n",
      "[66]\ttrain-auc:0.83659\ttest-auc:0.81297\n",
      "[67]\ttrain-auc:0.83723\ttest-auc:0.81291\n",
      "[68]\ttrain-auc:0.83776\ttest-auc:0.81322\n",
      "[69]\ttrain-auc:0.83795\ttest-auc:0.81305\n",
      "[70]\ttrain-auc:0.83826\ttest-auc:0.81296\n",
      "[71]\ttrain-auc:0.83888\ttest-auc:0.81314\n",
      "[72]\ttrain-auc:0.83917\ttest-auc:0.81332\n",
      "[73]\ttrain-auc:0.83955\ttest-auc:0.81364\n",
      "[74]\ttrain-auc:0.83998\ttest-auc:0.81371\n",
      "[75]\ttrain-auc:0.84037\ttest-auc:0.81379\n",
      "[76]\ttrain-auc:0.84086\ttest-auc:0.81395\n",
      "[77]\ttrain-auc:0.84127\ttest-auc:0.81405\n",
      "[78]\ttrain-auc:0.84143\ttest-auc:0.81402\n",
      "[79]\ttrain-auc:0.84171\ttest-auc:0.81394\n",
      "[80]\ttrain-auc:0.84199\ttest-auc:0.81394\n",
      "[81]\ttrain-auc:0.84232\ttest-auc:0.81396\n",
      "[82]\ttrain-auc:0.84270\ttest-auc:0.81422\n",
      "[83]\ttrain-auc:0.84310\ttest-auc:0.81441\n",
      "[84]\ttrain-auc:0.84330\ttest-auc:0.81446\n",
      "[85]\ttrain-auc:0.84390\ttest-auc:0.81437\n",
      "[86]\ttrain-auc:0.84436\ttest-auc:0.81445\n",
      "[87]\ttrain-auc:0.84481\ttest-auc:0.81444\n",
      "[88]\ttrain-auc:0.84549\ttest-auc:0.81457\n",
      "[89]\ttrain-auc:0.84608\ttest-auc:0.81494\n",
      "[90]\ttrain-auc:0.84674\ttest-auc:0.81491\n",
      "[91]\ttrain-auc:0.84700\ttest-auc:0.81504\n",
      "[92]\ttrain-auc:0.84724\ttest-auc:0.81517\n",
      "[93]\ttrain-auc:0.84783\ttest-auc:0.81549\n",
      "[94]\ttrain-auc:0.84811\ttest-auc:0.81575\n",
      "[95]\ttrain-auc:0.84859\ttest-auc:0.81589\n",
      "[96]\ttrain-auc:0.84882\ttest-auc:0.81610\n",
      "[97]\ttrain-auc:0.84920\ttest-auc:0.81620\n",
      "[98]\ttrain-auc:0.84966\ttest-auc:0.81603\n",
      "[99]\ttrain-auc:0.84999\ttest-auc:0.81587\n",
      "[100]\ttrain-auc:0.85032\ttest-auc:0.81578\n",
      "[101]\ttrain-auc:0.85067\ttest-auc:0.81568\n",
      "[102]\ttrain-auc:0.85076\ttest-auc:0.81551\n",
      "[103]\ttrain-auc:0.85107\ttest-auc:0.81532\n",
      "[104]\ttrain-auc:0.85127\ttest-auc:0.81527\n",
      "[105]\ttrain-auc:0.85136\ttest-auc:0.81530\n",
      "[106]\ttrain-auc:0.85170\ttest-auc:0.81554\n",
      "[107]\ttrain-auc:0.85198\ttest-auc:0.81538\n",
      "[108]\ttrain-auc:0.85217\ttest-auc:0.81527\n",
      "[109]\ttrain-auc:0.85247\ttest-auc:0.81540\n",
      "[110]\ttrain-auc:0.85259\ttest-auc:0.81562\n",
      "[111]\ttrain-auc:0.85282\ttest-auc:0.81578\n",
      "[112]\ttrain-auc:0.85315\ttest-auc:0.81597\n",
      "[113]\ttrain-auc:0.85328\ttest-auc:0.81592\n",
      "[114]\ttrain-auc:0.85383\ttest-auc:0.81603\n",
      "[115]\ttrain-auc:0.85439\ttest-auc:0.81600\n",
      "[116]\ttrain-auc:0.85463\ttest-auc:0.81608\n",
      "[117]\ttrain-auc:0.85500\ttest-auc:0.81616\n",
      "[118]\ttrain-auc:0.85549\ttest-auc:0.81602\n",
      "[119]\ttrain-auc:0.85578\ttest-auc:0.81590\n",
      "[120]\ttrain-auc:0.85631\ttest-auc:0.81584\n",
      "[121]\ttrain-auc:0.85666\ttest-auc:0.81576\n",
      "[122]\ttrain-auc:0.85697\ttest-auc:0.81567\n",
      "[123]\ttrain-auc:0.85759\ttest-auc:0.81558\n",
      "[124]\ttrain-auc:0.85790\ttest-auc:0.81564\n",
      "[125]\ttrain-auc:0.85842\ttest-auc:0.81576\n",
      "[126]\ttrain-auc:0.85883\ttest-auc:0.81581\n",
      "[127]\ttrain-auc:0.85909\ttest-auc:0.81567\n",
      "[128]\ttrain-auc:0.85948\ttest-auc:0.81572\n",
      "[129]\ttrain-auc:0.85958\ttest-auc:0.81557\n",
      "[130]\ttrain-auc:0.86001\ttest-auc:0.81566\n",
      "[131]\ttrain-auc:0.86046\ttest-auc:0.81591\n",
      "[132]\ttrain-auc:0.86076\ttest-auc:0.81598\n",
      "[133]\ttrain-auc:0.86108\ttest-auc:0.81612\n",
      "[134]\ttrain-auc:0.86135\ttest-auc:0.81621\n",
      "[135]\ttrain-auc:0.86183\ttest-auc:0.81624\n",
      "[136]\ttrain-auc:0.86196\ttest-auc:0.81633\n",
      "[137]\ttrain-auc:0.86207\ttest-auc:0.81638\n",
      "[138]\ttrain-auc:0.86233\ttest-auc:0.81645\n",
      "[139]\ttrain-auc:0.86254\ttest-auc:0.81644\n",
      "[140]\ttrain-auc:0.86267\ttest-auc:0.81639\n",
      "[141]\ttrain-auc:0.86314\ttest-auc:0.81632\n",
      "[142]\ttrain-auc:0.86327\ttest-auc:0.81630\n",
      "[143]\ttrain-auc:0.86342\ttest-auc:0.81626\n",
      "[144]\ttrain-auc:0.86358\ttest-auc:0.81621\n",
      "[145]\ttrain-auc:0.86384\ttest-auc:0.81619\n",
      "[146]\ttrain-auc:0.86395\ttest-auc:0.81619\n",
      "[147]\ttrain-auc:0.86416\ttest-auc:0.81627\n",
      "[148]\ttrain-auc:0.86456\ttest-auc:0.81631\n",
      "[149]\ttrain-auc:0.86477\ttest-auc:0.81650\n",
      "[150]\ttrain-auc:0.86503\ttest-auc:0.81642\n",
      "[151]\ttrain-auc:0.86526\ttest-auc:0.81661\n",
      "[152]\ttrain-auc:0.86542\ttest-auc:0.81649\n",
      "[153]\ttrain-auc:0.86555\ttest-auc:0.81652\n",
      "[154]\ttrain-auc:0.86575\ttest-auc:0.81651\n",
      "[155]\ttrain-auc:0.86592\ttest-auc:0.81672\n",
      "[156]\ttrain-auc:0.86598\ttest-auc:0.81669\n",
      "[157]\ttrain-auc:0.86637\ttest-auc:0.81670\n",
      "[158]\ttrain-auc:0.86658\ttest-auc:0.81673\n",
      "[159]\ttrain-auc:0.86693\ttest-auc:0.81668\n",
      "[160]\ttrain-auc:0.86713\ttest-auc:0.81671\n",
      "[161]\ttrain-auc:0.86723\ttest-auc:0.81662\n",
      "[162]\ttrain-auc:0.86730\ttest-auc:0.81659\n",
      "[163]\ttrain-auc:0.86755\ttest-auc:0.81653\n",
      "[164]\ttrain-auc:0.86778\ttest-auc:0.81648\n",
      "[165]\ttrain-auc:0.86806\ttest-auc:0.81645\n",
      "[166]\ttrain-auc:0.86851\ttest-auc:0.81634\n",
      "[167]\ttrain-auc:0.86860\ttest-auc:0.81640\n",
      "[168]\ttrain-auc:0.86878\ttest-auc:0.81631\n",
      "[169]\ttrain-auc:0.86907\ttest-auc:0.81612\n",
      "[170]\ttrain-auc:0.86927\ttest-auc:0.81612\n",
      "[171]\ttrain-auc:0.86947\ttest-auc:0.81612\n",
      "[172]\ttrain-auc:0.86987\ttest-auc:0.81628\n",
      "[173]\ttrain-auc:0.87004\ttest-auc:0.81625\n",
      "[174]\ttrain-auc:0.87039\ttest-auc:0.81641\n",
      "[175]\ttrain-auc:0.87048\ttest-auc:0.81634\n",
      "[176]\ttrain-auc:0.87056\ttest-auc:0.81633\n",
      "[177]\ttrain-auc:0.87073\ttest-auc:0.81632\n",
      "[178]\ttrain-auc:0.87104\ttest-auc:0.81627\n",
      "[179]\ttrain-auc:0.87131\ttest-auc:0.81635\n",
      "[180]\ttrain-auc:0.87138\ttest-auc:0.81632\n",
      "[181]\ttrain-auc:0.87182\ttest-auc:0.81638\n",
      "[182]\ttrain-auc:0.87207\ttest-auc:0.81642\n",
      "[183]\ttrain-auc:0.87244\ttest-auc:0.81635\n",
      "[184]\ttrain-auc:0.87254\ttest-auc:0.81634\n",
      "[185]\ttrain-auc:0.87293\ttest-auc:0.81627\n",
      "[186]\ttrain-auc:0.87311\ttest-auc:0.81629\n",
      "[187]\ttrain-auc:0.87332\ttest-auc:0.81627\n",
      "[188]\ttrain-auc:0.87339\ttest-auc:0.81632\n",
      "[189]\ttrain-auc:0.87362\ttest-auc:0.81646\n",
      "[190]\ttrain-auc:0.87377\ttest-auc:0.81644\n",
      "[191]\ttrain-auc:0.87391\ttest-auc:0.81650\n",
      "[192]\ttrain-auc:0.87414\ttest-auc:0.81655\n",
      "[193]\ttrain-auc:0.87435\ttest-auc:0.81653\n"
     ]
    },
    {
     "name": "stdout",
     "output_type": "stream",
     "text": [
      "[194]\ttrain-auc:0.87446\ttest-auc:0.81652\n",
      "[195]\ttrain-auc:0.87495\ttest-auc:0.81645\n",
      "[196]\ttrain-auc:0.87519\ttest-auc:0.81653\n",
      "[197]\ttrain-auc:0.87533\ttest-auc:0.81659\n",
      "[198]\ttrain-auc:0.87546\ttest-auc:0.81660\n"
     ]
    },
    {
     "name": "stderr",
     "output_type": "stream",
     "text": [
      "C:\\Users\\User\\anaconda3\\lib\\site-packages\\xgboost\\core.py:105: UserWarning: ntree_limit is deprecated, use `iteration_range` or model slicing instead.\n",
      "  warnings.warn(\n"
     ]
    },
    {
     "name": "stdout",
     "output_type": "stream",
     "text": [
      "TIME: 0.18 min\n"
     ]
    },
    {
     "data": {
      "image/png": "[encoded data removed]",
      "text/plain": [
       "<Figure size 432x288 with 1 Axes>"
      ]
     },
     "metadata": {
      "needs_background": "light"
     },
     "output_type": "display_data"
    }
   ],
   "source": [
    "score, trainPred, testPred, train_history, impFig, imp = run_xgb(X_train, X_test, features, target, early_stopping_rounds=40)"
   ]
  },
  {
   "cell_type": "code",
   "execution_count": 39,
   "id": "e7dae4fe",
   "metadata": {},
   "outputs": [
    {
     "data": {
      "image/png": "[encoded data removed]",
      "text/plain": [
       "<Figure size 432x288 with 1 Axes>"
      ]
     },
     "metadata": {
      "needs_background": "light"
     },
     "output_type": "display_data"
    }
   ],
   "source": [
    "train_history.plot()\n",
    "plt.title('Learning curve')\n",
    "plt.show()"
   ]
  },
  {
   "cell_type": "markdown",
   "id": "44b8a1c7",
   "metadata": {},
   "source": [
    "   "
   ]
  },
  {
   "cell_type": "markdown",
   "id": "88e6b3fc",
   "metadata": {},
   "source": [
    "FIRSTLY I DID LOGISTIC REGRESSION AND CORRELATION, THEN I REJECTED VARIABLES"
   ]
  },
  {
   "cell_type": "code",
   "execution_count": null,
   "id": "4dffdd32",
   "metadata": {},
   "outputs": [],
   "source": [
    "#REJECTING VARIABLES\n",
    "df_prim.pop('contact')\n",
    "df_prim.pop('month')\n",
    "df_prim.pop('day_of_week')\n",
    "df_prim.pop('emp_var_rate')\n",
    "df_prim.pop('nr_employed')"
   ]
  },
  {
   "cell_type": "code",
   "execution_count": 150,
   "id": "aadb0474",
   "metadata": {},
   "outputs": [],
   "source": [
    "#REJECTING FROM FEATURES\n",
    "features.remove('contact')\n",
    "features.remove('month')\n",
    "features.remove('day_of_week')\n",
    "features.remove('emp_var_rate')\n",
    "features.remove('nr_employed')"
   ]
  },
  {
   "cell_type": "code",
   "execution_count": 151,
   "id": "f43b2241",
   "metadata": {},
   "outputs": [],
   "source": [
    "X_train, X_test = train_test_split(df_prim, test_size=0.3, random_state=2019, stratify=df_prim[target].values)\n"
   ]
  },
  {
   "cell_type": "markdown",
   "id": "bea7f8ed",
   "metadata": {},
   "source": [
    "CROSS VALIDATION"
   ]
  },
  {
   "cell_type": "code",
   "execution_count": 152,
   "id": "cdbe088e",
   "metadata": {},
   "outputs": [],
   "source": [
    "\n",
    "def CVTestXGB(nFolds = 5, randomState=2020, features=features, debug=False, *args, **kwargs):\n",
    "    \n",
    "    kf = KFold(n_splits=nFolds, shuffle=True, random_state=randomState)\n",
    "    testResults = []\n",
    "    trainResults = []\n",
    "    predictions = []\n",
    "    indices = []\n",
    "    hists = []\n",
    "    fold = 1\n",
    "    \n",
    "    for train, test in kf.split(df_prim.index.values):\n",
    "        score, trainPred, testPred, train_history, impFig, imp = run_xgb(df_prim.iloc[train], df_prim.iloc[test],\n",
    "                                                                         features, target, debug=debug, *args, **kwargs)\n",
    "        predictions.append(testPred.tolist().copy())\n",
    "        indices.append(df_prim.iloc[test].index.tolist().copy())\n",
    "        trainScore = roc_auc_score(df_prim[target].iloc[train], trainPred)\n",
    "        testScore = roc_auc_score(df_prim[target].iloc[test], testPred)        \n",
    "        trainResults.append(trainScore)\n",
    "        testResults.append(testScore)        \n",
    "        hists.append(train_history.add_suffix('_'+str(fold)))\n",
    "        fold+=1\n",
    "        \n",
    "        if debug:\n",
    "            print(\"Train AUC:\", trainScore,\n",
    "                  \"Test AUC:\", testScore)\n",
    "        \n",
    "    return trainResults, testResults, predictions, indices, pd.concat(hists, axis=1)"
   ]
  },
  {
   "cell_type": "code",
   "execution_count": 153,
   "id": "e4360c9a",
   "metadata": {},
   "outputs": [
    {
     "name": "stderr",
     "output_type": "stream",
     "text": [
      "C:\\Users\\User\\anaconda3\\lib\\site-packages\\xgboost\\core.py:105: UserWarning: ntree_limit is deprecated, use `iteration_range` or model slicing instead.\n",
      "  warnings.warn(\n",
      "C:\\Users\\User\\anaconda3\\lib\\site-packages\\xgboost\\core.py:105: UserWarning: ntree_limit is deprecated, use `iteration_range` or model slicing instead.\n",
      "  warnings.warn(\n",
      "C:\\Users\\User\\anaconda3\\lib\\site-packages\\xgboost\\core.py:105: UserWarning: ntree_limit is deprecated, use `iteration_range` or model slicing instead.\n",
      "  warnings.warn(\n",
      "C:\\Users\\User\\anaconda3\\lib\\site-packages\\xgboost\\core.py:105: UserWarning: ntree_limit is deprecated, use `iteration_range` or model slicing instead.\n",
      "  warnings.warn(\n",
      "C:\\Users\\User\\anaconda3\\lib\\site-packages\\xgboost\\core.py:105: UserWarning: ntree_limit is deprecated, use `iteration_range` or model slicing instead.\n",
      "  warnings.warn(\n"
     ]
    },
    {
     "data": {
      "text/plain": [
       "(0.8567242661701719, 0.8167675659938769)"
      ]
     },
     "execution_count": 153,
     "metadata": {},
     "output_type": "execute_result"
    }
   ],
   "source": [
    "trainResults, testResults, predictions, indices, hists = CVTestXGB(max_depth=7, subsample = 0.7, colsample_bytree = 0.7, # hiperparams\n",
    "            colsample_bylevel=1,lambdaX = 1, alpha=0, gamma=0, debug=False)\n",
    "np.mean(trainResults), np.mean(testResults)"
   ]
  },
  {
   "cell_type": "code",
   "execution_count": 154,
   "id": "de256cad",
   "metadata": {},
   "outputs": [
    {
     "data": {
      "image/png": "[encoded data removed]",
      "text/plain": [
       "<Figure size 1008x432 with 2 Axes>"
      ]
     },
     "metadata": {
      "needs_background": "light"
     },
     "output_type": "display_data"
    }
   ],
   "source": [
    "fig, ax = plt.subplots(1, 2, figsize=(14,6))\n",
    "for x in range(1,6):\n",
    "    hists[['trainAUC'+'_'+str(x)]].iloc[10:].plot(ax=ax[0])\n",
    "    hists[['testAUC'+'_'+str(x)]].iloc[10:].plot(ax=ax[1])\n",
    "plt.show()"
   ]
  },
  {
   "cell_type": "code",
   "execution_count": 155,
   "id": "2f28f3ea",
   "metadata": {},
   "outputs": [
    {
     "name": "stderr",
     "output_type": "stream",
     "text": [
      "C:\\Users\\User\\anaconda3\\lib\\site-packages\\xgboost\\core.py:105: UserWarning: ntree_limit is deprecated, use `iteration_range` or model slicing instead.\n",
      "  warnings.warn(\n",
      "C:\\Users\\User\\anaconda3\\lib\\site-packages\\xgboost\\core.py:105: UserWarning: ntree_limit is deprecated, use `iteration_range` or model slicing instead.\n",
      "  warnings.warn(\n",
      "C:\\Users\\User\\anaconda3\\lib\\site-packages\\xgboost\\core.py:105: UserWarning: ntree_limit is deprecated, use `iteration_range` or model slicing instead.\n",
      "  warnings.warn(\n",
      "C:\\Users\\User\\anaconda3\\lib\\site-packages\\xgboost\\core.py:105: UserWarning: ntree_limit is deprecated, use `iteration_range` or model slicing instead.\n",
      "  warnings.warn(\n",
      "C:\\Users\\User\\anaconda3\\lib\\site-packages\\xgboost\\core.py:105: UserWarning: ntree_limit is deprecated, use `iteration_range` or model slicing instead.\n",
      "  warnings.warn(\n"
     ]
    },
    {
     "name": "stdout",
     "output_type": "stream",
     "text": [
      "0.8175973238663751 [0.8093228013106416, 0.8316567681161902, 0.8188550355925132, 0.8163194795303185, 0.8118325347822125]\n"
     ]
    },
    {
     "name": "stderr",
     "output_type": "stream",
     "text": [
      "C:\\Users\\User\\anaconda3\\lib\\site-packages\\xgboost\\core.py:105: UserWarning: ntree_limit is deprecated, use `iteration_range` or model slicing instead.\n",
      "  warnings.warn(\n",
      "C:\\Users\\User\\anaconda3\\lib\\site-packages\\xgboost\\core.py:105: UserWarning: ntree_limit is deprecated, use `iteration_range` or model slicing instead.\n",
      "  warnings.warn(\n",
      "C:\\Users\\User\\anaconda3\\lib\\site-packages\\xgboost\\core.py:105: UserWarning: ntree_limit is deprecated, use `iteration_range` or model slicing instead.\n",
      "  warnings.warn(\n",
      "C:\\Users\\User\\anaconda3\\lib\\site-packages\\xgboost\\core.py:105: UserWarning: ntree_limit is deprecated, use `iteration_range` or model slicing instead.\n",
      "  warnings.warn(\n",
      "C:\\Users\\User\\anaconda3\\lib\\site-packages\\xgboost\\core.py:105: UserWarning: ntree_limit is deprecated, use `iteration_range` or model slicing instead.\n",
      "  warnings.warn(\n"
     ]
    },
    {
     "name": "stdout",
     "output_type": "stream",
     "text": [
      "0.8182693108127459 [0.8214374247983246, 0.8204580434782904, 0.80920563688559, 0.8179797805709644, 0.8222656683305601]\n"
     ]
    },
    {
     "name": "stderr",
     "output_type": "stream",
     "text": [
      "C:\\Users\\User\\anaconda3\\lib\\site-packages\\xgboost\\core.py:105: UserWarning: ntree_limit is deprecated, use `iteration_range` or model slicing instead.\n",
      "  warnings.warn(\n",
      "C:\\Users\\User\\anaconda3\\lib\\site-packages\\xgboost\\core.py:105: UserWarning: ntree_limit is deprecated, use `iteration_range` or model slicing instead.\n",
      "  warnings.warn(\n",
      "C:\\Users\\User\\anaconda3\\lib\\site-packages\\xgboost\\core.py:105: UserWarning: ntree_limit is deprecated, use `iteration_range` or model slicing instead.\n",
      "  warnings.warn(\n",
      "C:\\Users\\User\\anaconda3\\lib\\site-packages\\xgboost\\core.py:105: UserWarning: ntree_limit is deprecated, use `iteration_range` or model slicing instead.\n",
      "  warnings.warn(\n",
      "C:\\Users\\User\\anaconda3\\lib\\site-packages\\xgboost\\core.py:105: UserWarning: ntree_limit is deprecated, use `iteration_range` or model slicing instead.\n",
      "  warnings.warn(\n"
     ]
    },
    {
     "name": "stdout",
     "output_type": "stream",
     "text": [
      "0.8170314797601176 [0.8272517903689752, 0.814485501429669, 0.8103678612179871, 0.8237717052754785, 0.8092805405084786]\n"
     ]
    },
    {
     "name": "stderr",
     "output_type": "stream",
     "text": [
      "C:\\Users\\User\\anaconda3\\lib\\site-packages\\xgboost\\core.py:105: UserWarning: ntree_limit is deprecated, use `iteration_range` or model slicing instead.\n",
      "  warnings.warn(\n",
      "C:\\Users\\User\\anaconda3\\lib\\site-packages\\xgboost\\core.py:105: UserWarning: ntree_limit is deprecated, use `iteration_range` or model slicing instead.\n",
      "  warnings.warn(\n",
      "C:\\Users\\User\\anaconda3\\lib\\site-packages\\xgboost\\core.py:105: UserWarning: ntree_limit is deprecated, use `iteration_range` or model slicing instead.\n",
      "  warnings.warn(\n",
      "C:\\Users\\User\\anaconda3\\lib\\site-packages\\xgboost\\core.py:105: UserWarning: ntree_limit is deprecated, use `iteration_range` or model slicing instead.\n",
      "  warnings.warn(\n",
      "C:\\Users\\User\\anaconda3\\lib\\site-packages\\xgboost\\core.py:105: UserWarning: ntree_limit is deprecated, use `iteration_range` or model slicing instead.\n",
      "  warnings.warn(\n"
     ]
    },
    {
     "name": "stdout",
     "output_type": "stream",
     "text": [
      "0.817551265643538 [0.8227791036539318, 0.8134154891886106, 0.80621363424908, 0.8206197460726922, 0.8247283550533758]\n"
     ]
    },
    {
     "name": "stderr",
     "output_type": "stream",
     "text": [
      "C:\\Users\\User\\anaconda3\\lib\\site-packages\\xgboost\\core.py:105: UserWarning: ntree_limit is deprecated, use `iteration_range` or model slicing instead.\n",
      "  warnings.warn(\n",
      "C:\\Users\\User\\anaconda3\\lib\\site-packages\\xgboost\\core.py:105: UserWarning: ntree_limit is deprecated, use `iteration_range` or model slicing instead.\n",
      "  warnings.warn(\n",
      "C:\\Users\\User\\anaconda3\\lib\\site-packages\\xgboost\\core.py:105: UserWarning: ntree_limit is deprecated, use `iteration_range` or model slicing instead.\n",
      "  warnings.warn(\n",
      "C:\\Users\\User\\anaconda3\\lib\\site-packages\\xgboost\\core.py:105: UserWarning: ntree_limit is deprecated, use `iteration_range` or model slicing instead.\n",
      "  warnings.warn(\n",
      "C:\\Users\\User\\anaconda3\\lib\\site-packages\\xgboost\\core.py:105: UserWarning: ntree_limit is deprecated, use `iteration_range` or model slicing instead.\n",
      "  warnings.warn(\n"
     ]
    },
    {
     "name": "stdout",
     "output_type": "stream",
     "text": [
      "0.8169740092609183 [0.8070469937165603, 0.8224028286208748, 0.8207998350723511, 0.8231767658465812, 0.8114436230482244]\n"
     ]
    },
    {
     "name": "stderr",
     "output_type": "stream",
     "text": [
      "C:\\Users\\User\\anaconda3\\lib\\site-packages\\xgboost\\core.py:105: UserWarning: ntree_limit is deprecated, use `iteration_range` or model slicing instead.\n",
      "  warnings.warn(\n",
      "C:\\Users\\User\\anaconda3\\lib\\site-packages\\xgboost\\core.py:105: UserWarning: ntree_limit is deprecated, use `iteration_range` or model slicing instead.\n",
      "  warnings.warn(\n",
      "C:\\Users\\User\\anaconda3\\lib\\site-packages\\xgboost\\core.py:105: UserWarning: ntree_limit is deprecated, use `iteration_range` or model slicing instead.\n",
      "  warnings.warn(\n",
      "C:\\Users\\User\\anaconda3\\lib\\site-packages\\xgboost\\core.py:105: UserWarning: ntree_limit is deprecated, use `iteration_range` or model slicing instead.\n",
      "  warnings.warn(\n",
      "C:\\Users\\User\\anaconda3\\lib\\site-packages\\xgboost\\core.py:105: UserWarning: ntree_limit is deprecated, use `iteration_range` or model slicing instead.\n",
      "  warnings.warn(\n"
     ]
    },
    {
     "name": "stdout",
     "output_type": "stream",
     "text": [
      "0.8178551846658682 [0.81996151498994, 0.8186374217188089, 0.8171443646401391, 0.8159830890505587, 0.8175495329298942]\n"
     ]
    },
    {
     "name": "stderr",
     "output_type": "stream",
     "text": [
      "C:\\Users\\User\\anaconda3\\lib\\site-packages\\xgboost\\core.py:105: UserWarning: ntree_limit is deprecated, use `iteration_range` or model slicing instead.\n",
      "  warnings.warn(\n",
      "C:\\Users\\User\\anaconda3\\lib\\site-packages\\xgboost\\core.py:105: UserWarning: ntree_limit is deprecated, use `iteration_range` or model slicing instead.\n",
      "  warnings.warn(\n",
      "C:\\Users\\User\\anaconda3\\lib\\site-packages\\xgboost\\core.py:105: UserWarning: ntree_limit is deprecated, use `iteration_range` or model slicing instead.\n",
      "  warnings.warn(\n",
      "C:\\Users\\User\\anaconda3\\lib\\site-packages\\xgboost\\core.py:105: UserWarning: ntree_limit is deprecated, use `iteration_range` or model slicing instead.\n",
      "  warnings.warn(\n",
      "C:\\Users\\User\\anaconda3\\lib\\site-packages\\xgboost\\core.py:105: UserWarning: ntree_limit is deprecated, use `iteration_range` or model slicing instead.\n",
      "  warnings.warn(\n"
     ]
    },
    {
     "name": "stdout",
     "output_type": "stream",
     "text": [
      "0.8188072477463235 [0.8193336558119158, 0.8193092433699165, 0.8199995294456317, 0.8200354363629926, 0.8153583737411613]\n"
     ]
    },
    {
     "name": "stderr",
     "output_type": "stream",
     "text": [
      "C:\\Users\\User\\anaconda3\\lib\\site-packages\\xgboost\\core.py:105: UserWarning: ntree_limit is deprecated, use `iteration_range` or model slicing instead.\n",
      "  warnings.warn(\n",
      "C:\\Users\\User\\anaconda3\\lib\\site-packages\\xgboost\\core.py:105: UserWarning: ntree_limit is deprecated, use `iteration_range` or model slicing instead.\n",
      "  warnings.warn(\n",
      "C:\\Users\\User\\anaconda3\\lib\\site-packages\\xgboost\\core.py:105: UserWarning: ntree_limit is deprecated, use `iteration_range` or model slicing instead.\n",
      "  warnings.warn(\n",
      "C:\\Users\\User\\anaconda3\\lib\\site-packages\\xgboost\\core.py:105: UserWarning: ntree_limit is deprecated, use `iteration_range` or model slicing instead.\n",
      "  warnings.warn(\n",
      "C:\\Users\\User\\anaconda3\\lib\\site-packages\\xgboost\\core.py:105: UserWarning: ntree_limit is deprecated, use `iteration_range` or model slicing instead.\n",
      "  warnings.warn(\n"
     ]
    },
    {
     "name": "stdout",
     "output_type": "stream",
     "text": [
      "0.8167578294325686 [0.8193071340139502, 0.8324654828053487, 0.8238087192626953, 0.8019000379443552, 0.8063077731364934]\n"
     ]
    },
    {
     "name": "stderr",
     "output_type": "stream",
     "text": [
      "C:\\Users\\User\\anaconda3\\lib\\site-packages\\xgboost\\core.py:105: UserWarning: ntree_limit is deprecated, use `iteration_range` or model slicing instead.\n",
      "  warnings.warn(\n",
      "C:\\Users\\User\\anaconda3\\lib\\site-packages\\xgboost\\core.py:105: UserWarning: ntree_limit is deprecated, use `iteration_range` or model slicing instead.\n",
      "  warnings.warn(\n",
      "C:\\Users\\User\\anaconda3\\lib\\site-packages\\xgboost\\core.py:105: UserWarning: ntree_limit is deprecated, use `iteration_range` or model slicing instead.\n",
      "  warnings.warn(\n",
      "C:\\Users\\User\\anaconda3\\lib\\site-packages\\xgboost\\core.py:105: UserWarning: ntree_limit is deprecated, use `iteration_range` or model slicing instead.\n",
      "  warnings.warn(\n",
      "C:\\Users\\User\\anaconda3\\lib\\site-packages\\xgboost\\core.py:105: UserWarning: ntree_limit is deprecated, use `iteration_range` or model slicing instead.\n",
      "  warnings.warn(\n"
     ]
    },
    {
     "name": "stdout",
     "output_type": "stream",
     "text": [
      "0.8172760603714215 [0.8181325195061373, 0.8196657576581219, 0.8102651228891851, 0.8278631403399146, 0.8104537614637487]\n"
     ]
    },
    {
     "name": "stderr",
     "output_type": "stream",
     "text": [
      "C:\\Users\\User\\anaconda3\\lib\\site-packages\\xgboost\\core.py:105: UserWarning: ntree_limit is deprecated, use `iteration_range` or model slicing instead.\n",
      "  warnings.warn(\n",
      "C:\\Users\\User\\anaconda3\\lib\\site-packages\\xgboost\\core.py:105: UserWarning: ntree_limit is deprecated, use `iteration_range` or model slicing instead.\n",
      "  warnings.warn(\n",
      "C:\\Users\\User\\anaconda3\\lib\\site-packages\\xgboost\\core.py:105: UserWarning: ntree_limit is deprecated, use `iteration_range` or model slicing instead.\n",
      "  warnings.warn(\n",
      "C:\\Users\\User\\anaconda3\\lib\\site-packages\\xgboost\\core.py:105: UserWarning: ntree_limit is deprecated, use `iteration_range` or model slicing instead.\n",
      "  warnings.warn(\n"
     ]
    },
    {
     "name": "stdout",
     "output_type": "stream",
     "text": [
      "0.8179572273704176 [0.8236764477819934, 0.8052804842416666, 0.8124190470560291, 0.8302963497578052, 0.8181138080145934]\n"
     ]
    },
    {
     "name": "stderr",
     "output_type": "stream",
     "text": [
      "C:\\Users\\User\\anaconda3\\lib\\site-packages\\xgboost\\core.py:105: UserWarning: ntree_limit is deprecated, use `iteration_range` or model slicing instead.\n",
      "  warnings.warn(\n"
     ]
    }
   ],
   "source": [
    "resList = []\n",
    "for k in range(10):\n",
    "    trainResults, testResults, predictions, indices, hists = CVTestXGB(randomState=randint(1,10000),\n",
    "        max_depth=6, lambdaX=1, subsample=0.8, colsample_bytree=0.6, gamma=0.01, debug=False)\n",
    "    resList.append(np.mean(testResults))\n",
    "    print(np.mean(testResults), testResults)"
   ]
  },
  {
   "cell_type": "code",
   "execution_count": 156,
   "id": "aadc02cb",
   "metadata": {},
   "outputs": [
    {
     "name": "stdout",
     "output_type": "stream",
     "text": [
      "[0.818, 0.818, 0.817, 0.818, 0.817, 0.818, 0.819, 0.817, 0.817, 0.818]\n",
      "0.8176076938930293\n"
     ]
    }
   ],
   "source": [
    "print([round(x, 3) for x in resList])\n",
    "print(np.mean(resList))"
   ]
  },
  {
   "cell_type": "code",
   "execution_count": 157,
   "id": "d51921b0",
   "metadata": {},
   "outputs": [
    {
     "name": "stderr",
     "output_type": "stream",
     "text": [
      "C:\\Users\\User\\anaconda3\\lib\\site-packages\\xgboost\\core.py:105: UserWarning: ntree_limit is deprecated, use `iteration_range` or model slicing instead.\n",
      "  warnings.warn(\n",
      "C:\\Users\\User\\anaconda3\\lib\\site-packages\\xgboost\\core.py:105: UserWarning: ntree_limit is deprecated, use `iteration_range` or model slicing instead.\n",
      "  warnings.warn(\n",
      "C:\\Users\\User\\anaconda3\\lib\\site-packages\\xgboost\\core.py:105: UserWarning: ntree_limit is deprecated, use `iteration_range` or model slicing instead.\n",
      "  warnings.warn(\n",
      "C:\\Users\\User\\anaconda3\\lib\\site-packages\\xgboost\\core.py:105: UserWarning: ntree_limit is deprecated, use `iteration_range` or model slicing instead.\n",
      "  warnings.warn(\n",
      "C:\\Users\\User\\anaconda3\\lib\\site-packages\\xgboost\\core.py:105: UserWarning: ntree_limit is deprecated, use `iteration_range` or model slicing instead.\n",
      "  warnings.warn(\n"
     ]
    },
    {
     "name": "stdout",
     "output_type": "stream",
     "text": [
      "4 0.8153049362939381\n"
     ]
    },
    {
     "name": "stderr",
     "output_type": "stream",
     "text": [
      "C:\\Users\\User\\anaconda3\\lib\\site-packages\\xgboost\\core.py:105: UserWarning: ntree_limit is deprecated, use `iteration_range` or model slicing instead.\n",
      "  warnings.warn(\n",
      "C:\\Users\\User\\anaconda3\\lib\\site-packages\\xgboost\\core.py:105: UserWarning: ntree_limit is deprecated, use `iteration_range` or model slicing instead.\n",
      "  warnings.warn(\n",
      "C:\\Users\\User\\anaconda3\\lib\\site-packages\\xgboost\\core.py:105: UserWarning: ntree_limit is deprecated, use `iteration_range` or model slicing instead.\n",
      "  warnings.warn(\n",
      "C:\\Users\\User\\anaconda3\\lib\\site-packages\\xgboost\\core.py:105: UserWarning: ntree_limit is deprecated, use `iteration_range` or model slicing instead.\n",
      "  warnings.warn(\n",
      "C:\\Users\\User\\anaconda3\\lib\\site-packages\\xgboost\\core.py:105: UserWarning: ntree_limit is deprecated, use `iteration_range` or model slicing instead.\n",
      "  warnings.warn(\n"
     ]
    },
    {
     "name": "stdout",
     "output_type": "stream",
     "text": [
      "5 0.816683067426158\n"
     ]
    },
    {
     "name": "stderr",
     "output_type": "stream",
     "text": [
      "C:\\Users\\User\\anaconda3\\lib\\site-packages\\xgboost\\core.py:105: UserWarning: ntree_limit is deprecated, use `iteration_range` or model slicing instead.\n",
      "  warnings.warn(\n",
      "C:\\Users\\User\\anaconda3\\lib\\site-packages\\xgboost\\core.py:105: UserWarning: ntree_limit is deprecated, use `iteration_range` or model slicing instead.\n",
      "  warnings.warn(\n",
      "C:\\Users\\User\\anaconda3\\lib\\site-packages\\xgboost\\core.py:105: UserWarning: ntree_limit is deprecated, use `iteration_range` or model slicing instead.\n",
      "  warnings.warn(\n",
      "C:\\Users\\User\\anaconda3\\lib\\site-packages\\xgboost\\core.py:105: UserWarning: ntree_limit is deprecated, use `iteration_range` or model slicing instead.\n",
      "  warnings.warn(\n",
      "C:\\Users\\User\\anaconda3\\lib\\site-packages\\xgboost\\core.py:105: UserWarning: ntree_limit is deprecated, use `iteration_range` or model slicing instead.\n",
      "  warnings.warn(\n"
     ]
    },
    {
     "name": "stdout",
     "output_type": "stream",
     "text": [
      "6 0.8172168683371284\n"
     ]
    },
    {
     "name": "stderr",
     "output_type": "stream",
     "text": [
      "C:\\Users\\User\\anaconda3\\lib\\site-packages\\xgboost\\core.py:105: UserWarning: ntree_limit is deprecated, use `iteration_range` or model slicing instead.\n",
      "  warnings.warn(\n",
      "C:\\Users\\User\\anaconda3\\lib\\site-packages\\xgboost\\core.py:105: UserWarning: ntree_limit is deprecated, use `iteration_range` or model slicing instead.\n",
      "  warnings.warn(\n",
      "C:\\Users\\User\\anaconda3\\lib\\site-packages\\xgboost\\core.py:105: UserWarning: ntree_limit is deprecated, use `iteration_range` or model slicing instead.\n",
      "  warnings.warn(\n",
      "C:\\Users\\User\\anaconda3\\lib\\site-packages\\xgboost\\core.py:105: UserWarning: ntree_limit is deprecated, use `iteration_range` or model slicing instead.\n",
      "  warnings.warn(\n",
      "C:\\Users\\User\\anaconda3\\lib\\site-packages\\xgboost\\core.py:105: UserWarning: ntree_limit is deprecated, use `iteration_range` or model slicing instead.\n",
      "  warnings.warn(\n"
     ]
    },
    {
     "name": "stdout",
     "output_type": "stream",
     "text": [
      "7 0.8167675659938769\n"
     ]
    },
    {
     "name": "stderr",
     "output_type": "stream",
     "text": [
      "C:\\Users\\User\\anaconda3\\lib\\site-packages\\xgboost\\core.py:105: UserWarning: ntree_limit is deprecated, use `iteration_range` or model slicing instead.\n",
      "  warnings.warn(\n",
      "C:\\Users\\User\\anaconda3\\lib\\site-packages\\xgboost\\core.py:105: UserWarning: ntree_limit is deprecated, use `iteration_range` or model slicing instead.\n",
      "  warnings.warn(\n",
      "C:\\Users\\User\\anaconda3\\lib\\site-packages\\xgboost\\core.py:105: UserWarning: ntree_limit is deprecated, use `iteration_range` or model slicing instead.\n",
      "  warnings.warn(\n",
      "C:\\Users\\User\\anaconda3\\lib\\site-packages\\xgboost\\core.py:105: UserWarning: ntree_limit is deprecated, use `iteration_range` or model slicing instead.\n",
      "  warnings.warn(\n",
      "C:\\Users\\User\\anaconda3\\lib\\site-packages\\xgboost\\core.py:105: UserWarning: ntree_limit is deprecated, use `iteration_range` or model slicing instead.\n",
      "  warnings.warn(\n"
     ]
    },
    {
     "name": "stdout",
     "output_type": "stream",
     "text": [
      "8 0.8166648025118507\n"
     ]
    },
    {
     "name": "stderr",
     "output_type": "stream",
     "text": [
      "C:\\Users\\User\\anaconda3\\lib\\site-packages\\xgboost\\core.py:105: UserWarning: ntree_limit is deprecated, use `iteration_range` or model slicing instead.\n",
      "  warnings.warn(\n",
      "C:\\Users\\User\\anaconda3\\lib\\site-packages\\xgboost\\core.py:105: UserWarning: ntree_limit is deprecated, use `iteration_range` or model slicing instead.\n",
      "  warnings.warn(\n",
      "C:\\Users\\User\\anaconda3\\lib\\site-packages\\xgboost\\core.py:105: UserWarning: ntree_limit is deprecated, use `iteration_range` or model slicing instead.\n",
      "  warnings.warn(\n",
      "C:\\Users\\User\\anaconda3\\lib\\site-packages\\xgboost\\core.py:105: UserWarning: ntree_limit is deprecated, use `iteration_range` or model slicing instead.\n",
      "  warnings.warn(\n",
      "C:\\Users\\User\\anaconda3\\lib\\site-packages\\xgboost\\core.py:105: UserWarning: ntree_limit is deprecated, use `iteration_range` or model slicing instead.\n",
      "  warnings.warn(\n"
     ]
    },
    {
     "name": "stdout",
     "output_type": "stream",
     "text": [
      "9 0.8158948228646844\n"
     ]
    },
    {
     "name": "stderr",
     "output_type": "stream",
     "text": [
      "C:\\Users\\User\\anaconda3\\lib\\site-packages\\xgboost\\core.py:105: UserWarning: ntree_limit is deprecated, use `iteration_range` or model slicing instead.\n",
      "  warnings.warn(\n",
      "C:\\Users\\User\\anaconda3\\lib\\site-packages\\xgboost\\core.py:105: UserWarning: ntree_limit is deprecated, use `iteration_range` or model slicing instead.\n",
      "  warnings.warn(\n",
      "C:\\Users\\User\\anaconda3\\lib\\site-packages\\xgboost\\core.py:105: UserWarning: ntree_limit is deprecated, use `iteration_range` or model slicing instead.\n",
      "  warnings.warn(\n",
      "C:\\Users\\User\\anaconda3\\lib\\site-packages\\xgboost\\core.py:105: UserWarning: ntree_limit is deprecated, use `iteration_range` or model slicing instead.\n",
      "  warnings.warn(\n",
      "C:\\Users\\User\\anaconda3\\lib\\site-packages\\xgboost\\core.py:105: UserWarning: ntree_limit is deprecated, use `iteration_range` or model slicing instead.\n",
      "  warnings.warn(\n"
     ]
    },
    {
     "name": "stdout",
     "output_type": "stream",
     "text": [
      "10 0.81448080118956\n"
     ]
    },
    {
     "name": "stderr",
     "output_type": "stream",
     "text": [
      "C:\\Users\\User\\anaconda3\\lib\\site-packages\\xgboost\\core.py:105: UserWarning: ntree_limit is deprecated, use `iteration_range` or model slicing instead.\n",
      "  warnings.warn(\n",
      "C:\\Users\\User\\anaconda3\\lib\\site-packages\\xgboost\\core.py:105: UserWarning: ntree_limit is deprecated, use `iteration_range` or model slicing instead.\n",
      "  warnings.warn(\n",
      "C:\\Users\\User\\anaconda3\\lib\\site-packages\\xgboost\\core.py:105: UserWarning: ntree_limit is deprecated, use `iteration_range` or model slicing instead.\n",
      "  warnings.warn(\n",
      "C:\\Users\\User\\anaconda3\\lib\\site-packages\\xgboost\\core.py:105: UserWarning: ntree_limit is deprecated, use `iteration_range` or model slicing instead.\n",
      "  warnings.warn(\n",
      "C:\\Users\\User\\anaconda3\\lib\\site-packages\\xgboost\\core.py:105: UserWarning: ntree_limit is deprecated, use `iteration_range` or model slicing instead.\n",
      "  warnings.warn(\n"
     ]
    },
    {
     "name": "stdout",
     "output_type": "stream",
     "text": [
      "11 0.8137934314596663\n"
     ]
    },
    {
     "data": {
      "image/png": "[encoded data removed]",
      "text/plain": [
       "<Figure size 432x288 with 1 Axes>"
      ]
     },
     "metadata": {
      "needs_background": "light"
     },
     "output_type": "display_data"
    }
   ],
   "source": [
    "rang = range(4,12)\n",
    "results = []\n",
    "for x in rang:\n",
    "    trainResults, testResults, predictions, indices, hists = CVTestXGB(\n",
    "        max_depth=x)\n",
    "    print(x, np.mean(testResults))\n",
    "    results.append(np.mean(testResults))\n",
    "    \n",
    "plt.plot(list(rang), results)\n",
    "plt.show()"
   ]
  },
  {
   "cell_type": "code",
   "execution_count": 158,
   "id": "6c3f57ac",
   "metadata": {},
   "outputs": [
    {
     "name": "stderr",
     "output_type": "stream",
     "text": [
      "C:\\Users\\User\\anaconda3\\lib\\site-packages\\xgboost\\core.py:105: UserWarning: ntree_limit is deprecated, use `iteration_range` or model slicing instead.\n",
      "  warnings.warn(\n",
      "C:\\Users\\User\\anaconda3\\lib\\site-packages\\xgboost\\core.py:105: UserWarning: ntree_limit is deprecated, use `iteration_range` or model slicing instead.\n",
      "  warnings.warn(\n",
      "C:\\Users\\User\\anaconda3\\lib\\site-packages\\xgboost\\core.py:105: UserWarning: ntree_limit is deprecated, use `iteration_range` or model slicing instead.\n",
      "  warnings.warn(\n",
      "C:\\Users\\User\\anaconda3\\lib\\site-packages\\xgboost\\core.py:105: UserWarning: ntree_limit is deprecated, use `iteration_range` or model slicing instead.\n",
      "  warnings.warn(\n",
      "C:\\Users\\User\\anaconda3\\lib\\site-packages\\xgboost\\core.py:105: UserWarning: ntree_limit is deprecated, use `iteration_range` or model slicing instead.\n",
      "  warnings.warn(\n"
     ]
    },
    {
     "name": "stdout",
     "output_type": "stream",
     "text": [
      "2 0.8135412857853777\n"
     ]
    },
    {
     "name": "stderr",
     "output_type": "stream",
     "text": [
      "C:\\Users\\User\\anaconda3\\lib\\site-packages\\xgboost\\core.py:105: UserWarning: ntree_limit is deprecated, use `iteration_range` or model slicing instead.\n",
      "  warnings.warn(\n",
      "C:\\Users\\User\\anaconda3\\lib\\site-packages\\xgboost\\core.py:105: UserWarning: ntree_limit is deprecated, use `iteration_range` or model slicing instead.\n",
      "  warnings.warn(\n",
      "C:\\Users\\User\\anaconda3\\lib\\site-packages\\xgboost\\core.py:105: UserWarning: ntree_limit is deprecated, use `iteration_range` or model slicing instead.\n",
      "  warnings.warn(\n",
      "C:\\Users\\User\\anaconda3\\lib\\site-packages\\xgboost\\core.py:105: UserWarning: ntree_limit is deprecated, use `iteration_range` or model slicing instead.\n",
      "  warnings.warn(\n",
      "C:\\Users\\User\\anaconda3\\lib\\site-packages\\xgboost\\core.py:105: UserWarning: ntree_limit is deprecated, use `iteration_range` or model slicing instead.\n",
      "  warnings.warn(\n"
     ]
    },
    {
     "name": "stdout",
     "output_type": "stream",
     "text": [
      "3 0.8153632873714848\n"
     ]
    },
    {
     "name": "stderr",
     "output_type": "stream",
     "text": [
      "C:\\Users\\User\\anaconda3\\lib\\site-packages\\xgboost\\core.py:105: UserWarning: ntree_limit is deprecated, use `iteration_range` or model slicing instead.\n",
      "  warnings.warn(\n",
      "C:\\Users\\User\\anaconda3\\lib\\site-packages\\xgboost\\core.py:105: UserWarning: ntree_limit is deprecated, use `iteration_range` or model slicing instead.\n",
      "  warnings.warn(\n",
      "C:\\Users\\User\\anaconda3\\lib\\site-packages\\xgboost\\core.py:105: UserWarning: ntree_limit is deprecated, use `iteration_range` or model slicing instead.\n",
      "  warnings.warn(\n",
      "C:\\Users\\User\\anaconda3\\lib\\site-packages\\xgboost\\core.py:105: UserWarning: ntree_limit is deprecated, use `iteration_range` or model slicing instead.\n",
      "  warnings.warn(\n",
      "C:\\Users\\User\\anaconda3\\lib\\site-packages\\xgboost\\core.py:105: UserWarning: ntree_limit is deprecated, use `iteration_range` or model slicing instead.\n",
      "  warnings.warn(\n"
     ]
    },
    {
     "name": "stdout",
     "output_type": "stream",
     "text": [
      "4 0.8168382062395256\n"
     ]
    },
    {
     "name": "stderr",
     "output_type": "stream",
     "text": [
      "C:\\Users\\User\\anaconda3\\lib\\site-packages\\xgboost\\core.py:105: UserWarning: ntree_limit is deprecated, use `iteration_range` or model slicing instead.\n",
      "  warnings.warn(\n",
      "C:\\Users\\User\\anaconda3\\lib\\site-packages\\xgboost\\core.py:105: UserWarning: ntree_limit is deprecated, use `iteration_range` or model slicing instead.\n",
      "  warnings.warn(\n",
      "C:\\Users\\User\\anaconda3\\lib\\site-packages\\xgboost\\core.py:105: UserWarning: ntree_limit is deprecated, use `iteration_range` or model slicing instead.\n",
      "  warnings.warn(\n",
      "C:\\Users\\User\\anaconda3\\lib\\site-packages\\xgboost\\core.py:105: UserWarning: ntree_limit is deprecated, use `iteration_range` or model slicing instead.\n",
      "  warnings.warn(\n",
      "C:\\Users\\User\\anaconda3\\lib\\site-packages\\xgboost\\core.py:105: UserWarning: ntree_limit is deprecated, use `iteration_range` or model slicing instead.\n",
      "  warnings.warn(\n"
     ]
    },
    {
     "name": "stdout",
     "output_type": "stream",
     "text": [
      "5 0.8171549875835333\n"
     ]
    },
    {
     "name": "stderr",
     "output_type": "stream",
     "text": [
      "C:\\Users\\User\\anaconda3\\lib\\site-packages\\xgboost\\core.py:105: UserWarning: ntree_limit is deprecated, use `iteration_range` or model slicing instead.\n",
      "  warnings.warn(\n",
      "C:\\Users\\User\\anaconda3\\lib\\site-packages\\xgboost\\core.py:105: UserWarning: ntree_limit is deprecated, use `iteration_range` or model slicing instead.\n",
      "  warnings.warn(\n",
      "C:\\Users\\User\\anaconda3\\lib\\site-packages\\xgboost\\core.py:105: UserWarning: ntree_limit is deprecated, use `iteration_range` or model slicing instead.\n",
      "  warnings.warn(\n",
      "C:\\Users\\User\\anaconda3\\lib\\site-packages\\xgboost\\core.py:105: UserWarning: ntree_limit is deprecated, use `iteration_range` or model slicing instead.\n",
      "  warnings.warn(\n",
      "C:\\Users\\User\\anaconda3\\lib\\site-packages\\xgboost\\core.py:105: UserWarning: ntree_limit is deprecated, use `iteration_range` or model slicing instead.\n",
      "  warnings.warn(\n"
     ]
    },
    {
     "name": "stdout",
     "output_type": "stream",
     "text": [
      "6 0.8167727007460274\n"
     ]
    },
    {
     "name": "stderr",
     "output_type": "stream",
     "text": [
      "C:\\Users\\User\\anaconda3\\lib\\site-packages\\xgboost\\core.py:105: UserWarning: ntree_limit is deprecated, use `iteration_range` or model slicing instead.\n",
      "  warnings.warn(\n",
      "C:\\Users\\User\\anaconda3\\lib\\site-packages\\xgboost\\core.py:105: UserWarning: ntree_limit is deprecated, use `iteration_range` or model slicing instead.\n",
      "  warnings.warn(\n",
      "C:\\Users\\User\\anaconda3\\lib\\site-packages\\xgboost\\core.py:105: UserWarning: ntree_limit is deprecated, use `iteration_range` or model slicing instead.\n",
      "  warnings.warn(\n",
      "C:\\Users\\User\\anaconda3\\lib\\site-packages\\xgboost\\core.py:105: UserWarning: ntree_limit is deprecated, use `iteration_range` or model slicing instead.\n",
      "  warnings.warn(\n",
      "C:\\Users\\User\\anaconda3\\lib\\site-packages\\xgboost\\core.py:105: UserWarning: ntree_limit is deprecated, use `iteration_range` or model slicing instead.\n",
      "  warnings.warn(\n"
     ]
    },
    {
     "name": "stdout",
     "output_type": "stream",
     "text": [
      "7 0.8172168683371284\n"
     ]
    },
    {
     "name": "stderr",
     "output_type": "stream",
     "text": [
      "C:\\Users\\User\\anaconda3\\lib\\site-packages\\xgboost\\core.py:105: UserWarning: ntree_limit is deprecated, use `iteration_range` or model slicing instead.\n",
      "  warnings.warn(\n",
      "C:\\Users\\User\\anaconda3\\lib\\site-packages\\xgboost\\core.py:105: UserWarning: ntree_limit is deprecated, use `iteration_range` or model slicing instead.\n",
      "  warnings.warn(\n",
      "C:\\Users\\User\\anaconda3\\lib\\site-packages\\xgboost\\core.py:105: UserWarning: ntree_limit is deprecated, use `iteration_range` or model slicing instead.\n",
      "  warnings.warn(\n",
      "C:\\Users\\User\\anaconda3\\lib\\site-packages\\xgboost\\core.py:105: UserWarning: ntree_limit is deprecated, use `iteration_range` or model slicing instead.\n",
      "  warnings.warn(\n",
      "C:\\Users\\User\\anaconda3\\lib\\site-packages\\xgboost\\core.py:105: UserWarning: ntree_limit is deprecated, use `iteration_range` or model slicing instead.\n",
      "  warnings.warn(\n"
     ]
    },
    {
     "name": "stdout",
     "output_type": "stream",
     "text": [
      "8 0.8166254888463321\n"
     ]
    },
    {
     "name": "stderr",
     "output_type": "stream",
     "text": [
      "C:\\Users\\User\\anaconda3\\lib\\site-packages\\xgboost\\core.py:105: UserWarning: ntree_limit is deprecated, use `iteration_range` or model slicing instead.\n",
      "  warnings.warn(\n",
      "C:\\Users\\User\\anaconda3\\lib\\site-packages\\xgboost\\core.py:105: UserWarning: ntree_limit is deprecated, use `iteration_range` or model slicing instead.\n",
      "  warnings.warn(\n",
      "C:\\Users\\User\\anaconda3\\lib\\site-packages\\xgboost\\core.py:105: UserWarning: ntree_limit is deprecated, use `iteration_range` or model slicing instead.\n",
      "  warnings.warn(\n",
      "C:\\Users\\User\\anaconda3\\lib\\site-packages\\xgboost\\core.py:105: UserWarning: ntree_limit is deprecated, use `iteration_range` or model slicing instead.\n",
      "  warnings.warn(\n",
      "C:\\Users\\User\\anaconda3\\lib\\site-packages\\xgboost\\core.py:105: UserWarning: ntree_limit is deprecated, use `iteration_range` or model slicing instead.\n",
      "  warnings.warn(\n"
     ]
    },
    {
     "name": "stdout",
     "output_type": "stream",
     "text": [
      "9 0.8167853924984587\n"
     ]
    },
    {
     "data": {
      "image/png": "[encoded data removed]",
      "text/plain": [
       "<Figure size 432x288 with 1 Axes>"
      ]
     },
     "metadata": {
      "needs_background": "light"
     },
     "output_type": "display_data"
    }
   ],
   "source": [
    "rang = range(2,10)\n",
    "results = []\n",
    "for x in rang:\n",
    "    trainResults, testResults, predictions, indices, hists = CVTestXGB(\n",
    "        max_depth=6, subsample = x/10)\n",
    "    print(x, np.mean(testResults))\n",
    "    results.append(np.mean(testResults))\n",
    "    \n",
    "plt.plot(list(rang), results)\n",
    "plt.show()"
   ]
  },
  {
   "cell_type": "code",
   "execution_count": 159,
   "id": "8cffdfcc",
   "metadata": {},
   "outputs": [
    {
     "name": "stderr",
     "output_type": "stream",
     "text": [
      "C:\\Users\\User\\anaconda3\\lib\\site-packages\\xgboost\\core.py:105: UserWarning: ntree_limit is deprecated, use `iteration_range` or model slicing instead.\n",
      "  warnings.warn(\n",
      "C:\\Users\\User\\anaconda3\\lib\\site-packages\\xgboost\\core.py:105: UserWarning: ntree_limit is deprecated, use `iteration_range` or model slicing instead.\n",
      "  warnings.warn(\n",
      "C:\\Users\\User\\anaconda3\\lib\\site-packages\\xgboost\\core.py:105: UserWarning: ntree_limit is deprecated, use `iteration_range` or model slicing instead.\n",
      "  warnings.warn(\n",
      "C:\\Users\\User\\anaconda3\\lib\\site-packages\\xgboost\\core.py:105: UserWarning: ntree_limit is deprecated, use `iteration_range` or model slicing instead.\n",
      "  warnings.warn(\n",
      "C:\\Users\\User\\anaconda3\\lib\\site-packages\\xgboost\\core.py:105: UserWarning: ntree_limit is deprecated, use `iteration_range` or model slicing instead.\n",
      "  warnings.warn(\n"
     ]
    },
    {
     "name": "stdout",
     "output_type": "stream",
     "text": [
      "2 0.8113673594113451\n"
     ]
    },
    {
     "name": "stderr",
     "output_type": "stream",
     "text": [
      "C:\\Users\\User\\anaconda3\\lib\\site-packages\\xgboost\\core.py:105: UserWarning: ntree_limit is deprecated, use `iteration_range` or model slicing instead.\n",
      "  warnings.warn(\n",
      "C:\\Users\\User\\anaconda3\\lib\\site-packages\\xgboost\\core.py:105: UserWarning: ntree_limit is deprecated, use `iteration_range` or model slicing instead.\n",
      "  warnings.warn(\n",
      "C:\\Users\\User\\anaconda3\\lib\\site-packages\\xgboost\\core.py:105: UserWarning: ntree_limit is deprecated, use `iteration_range` or model slicing instead.\n",
      "  warnings.warn(\n",
      "C:\\Users\\User\\anaconda3\\lib\\site-packages\\xgboost\\core.py:105: UserWarning: ntree_limit is deprecated, use `iteration_range` or model slicing instead.\n",
      "  warnings.warn(\n",
      "C:\\Users\\User\\anaconda3\\lib\\site-packages\\xgboost\\core.py:105: UserWarning: ntree_limit is deprecated, use `iteration_range` or model slicing instead.\n",
      "  warnings.warn(\n"
     ]
    },
    {
     "name": "stdout",
     "output_type": "stream",
     "text": [
      "3 0.813846917930312\n"
     ]
    },
    {
     "name": "stderr",
     "output_type": "stream",
     "text": [
      "C:\\Users\\User\\anaconda3\\lib\\site-packages\\xgboost\\core.py:105: UserWarning: ntree_limit is deprecated, use `iteration_range` or model slicing instead.\n",
      "  warnings.warn(\n",
      "C:\\Users\\User\\anaconda3\\lib\\site-packages\\xgboost\\core.py:105: UserWarning: ntree_limit is deprecated, use `iteration_range` or model slicing instead.\n",
      "  warnings.warn(\n",
      "C:\\Users\\User\\anaconda3\\lib\\site-packages\\xgboost\\core.py:105: UserWarning: ntree_limit is deprecated, use `iteration_range` or model slicing instead.\n",
      "  warnings.warn(\n",
      "C:\\Users\\User\\anaconda3\\lib\\site-packages\\xgboost\\core.py:105: UserWarning: ntree_limit is deprecated, use `iteration_range` or model slicing instead.\n",
      "  warnings.warn(\n",
      "C:\\Users\\User\\anaconda3\\lib\\site-packages\\xgboost\\core.py:105: UserWarning: ntree_limit is deprecated, use `iteration_range` or model slicing instead.\n",
      "  warnings.warn(\n"
     ]
    },
    {
     "name": "stdout",
     "output_type": "stream",
     "text": [
      "4 0.8158495689418945\n"
     ]
    },
    {
     "name": "stderr",
     "output_type": "stream",
     "text": [
      "C:\\Users\\User\\anaconda3\\lib\\site-packages\\xgboost\\core.py:105: UserWarning: ntree_limit is deprecated, use `iteration_range` or model slicing instead.\n",
      "  warnings.warn(\n",
      "C:\\Users\\User\\anaconda3\\lib\\site-packages\\xgboost\\core.py:105: UserWarning: ntree_limit is deprecated, use `iteration_range` or model slicing instead.\n",
      "  warnings.warn(\n",
      "C:\\Users\\User\\anaconda3\\lib\\site-packages\\xgboost\\core.py:105: UserWarning: ntree_limit is deprecated, use `iteration_range` or model slicing instead.\n",
      "  warnings.warn(\n",
      "C:\\Users\\User\\anaconda3\\lib\\site-packages\\xgboost\\core.py:105: UserWarning: ntree_limit is deprecated, use `iteration_range` or model slicing instead.\n",
      "  warnings.warn(\n",
      "C:\\Users\\User\\anaconda3\\lib\\site-packages\\xgboost\\core.py:105: UserWarning: ntree_limit is deprecated, use `iteration_range` or model slicing instead.\n",
      "  warnings.warn(\n"
     ]
    },
    {
     "name": "stdout",
     "output_type": "stream",
     "text": [
      "5 0.8165601215788278\n"
     ]
    },
    {
     "name": "stderr",
     "output_type": "stream",
     "text": [
      "C:\\Users\\User\\anaconda3\\lib\\site-packages\\xgboost\\core.py:105: UserWarning: ntree_limit is deprecated, use `iteration_range` or model slicing instead.\n",
      "  warnings.warn(\n",
      "C:\\Users\\User\\anaconda3\\lib\\site-packages\\xgboost\\core.py:105: UserWarning: ntree_limit is deprecated, use `iteration_range` or model slicing instead.\n",
      "  warnings.warn(\n",
      "C:\\Users\\User\\anaconda3\\lib\\site-packages\\xgboost\\core.py:105: UserWarning: ntree_limit is deprecated, use `iteration_range` or model slicing instead.\n",
      "  warnings.warn(\n",
      "C:\\Users\\User\\anaconda3\\lib\\site-packages\\xgboost\\core.py:105: UserWarning: ntree_limit is deprecated, use `iteration_range` or model slicing instead.\n",
      "  warnings.warn(\n",
      "C:\\Users\\User\\anaconda3\\lib\\site-packages\\xgboost\\core.py:105: UserWarning: ntree_limit is deprecated, use `iteration_range` or model slicing instead.\n",
      "  warnings.warn(\n"
     ]
    },
    {
     "name": "stdout",
     "output_type": "stream",
     "text": [
      "6 0.8165952854094296\n"
     ]
    },
    {
     "name": "stderr",
     "output_type": "stream",
     "text": [
      "C:\\Users\\User\\anaconda3\\lib\\site-packages\\xgboost\\core.py:105: UserWarning: ntree_limit is deprecated, use `iteration_range` or model slicing instead.\n",
      "  warnings.warn(\n",
      "C:\\Users\\User\\anaconda3\\lib\\site-packages\\xgboost\\core.py:105: UserWarning: ntree_limit is deprecated, use `iteration_range` or model slicing instead.\n",
      "  warnings.warn(\n",
      "C:\\Users\\User\\anaconda3\\lib\\site-packages\\xgboost\\core.py:105: UserWarning: ntree_limit is deprecated, use `iteration_range` or model slicing instead.\n",
      "  warnings.warn(\n",
      "C:\\Users\\User\\anaconda3\\lib\\site-packages\\xgboost\\core.py:105: UserWarning: ntree_limit is deprecated, use `iteration_range` or model slicing instead.\n",
      "  warnings.warn(\n",
      "C:\\Users\\User\\anaconda3\\lib\\site-packages\\xgboost\\core.py:105: UserWarning: ntree_limit is deprecated, use `iteration_range` or model slicing instead.\n",
      "  warnings.warn(\n"
     ]
    },
    {
     "name": "stdout",
     "output_type": "stream",
     "text": [
      "7 0.8172168683371284\n"
     ]
    },
    {
     "name": "stderr",
     "output_type": "stream",
     "text": [
      "C:\\Users\\User\\anaconda3\\lib\\site-packages\\xgboost\\core.py:105: UserWarning: ntree_limit is deprecated, use `iteration_range` or model slicing instead.\n",
      "  warnings.warn(\n",
      "C:\\Users\\User\\anaconda3\\lib\\site-packages\\xgboost\\core.py:105: UserWarning: ntree_limit is deprecated, use `iteration_range` or model slicing instead.\n",
      "  warnings.warn(\n",
      "C:\\Users\\User\\anaconda3\\lib\\site-packages\\xgboost\\core.py:105: UserWarning: ntree_limit is deprecated, use `iteration_range` or model slicing instead.\n",
      "  warnings.warn(\n",
      "C:\\Users\\User\\anaconda3\\lib\\site-packages\\xgboost\\core.py:105: UserWarning: ntree_limit is deprecated, use `iteration_range` or model slicing instead.\n",
      "  warnings.warn(\n",
      "C:\\Users\\User\\anaconda3\\lib\\site-packages\\xgboost\\core.py:105: UserWarning: ntree_limit is deprecated, use `iteration_range` or model slicing instead.\n",
      "  warnings.warn(\n"
     ]
    },
    {
     "name": "stdout",
     "output_type": "stream",
     "text": [
      "8 0.8171770775823047\n"
     ]
    },
    {
     "name": "stderr",
     "output_type": "stream",
     "text": [
      "C:\\Users\\User\\anaconda3\\lib\\site-packages\\xgboost\\core.py:105: UserWarning: ntree_limit is deprecated, use `iteration_range` or model slicing instead.\n",
      "  warnings.warn(\n",
      "C:\\Users\\User\\anaconda3\\lib\\site-packages\\xgboost\\core.py:105: UserWarning: ntree_limit is deprecated, use `iteration_range` or model slicing instead.\n",
      "  warnings.warn(\n",
      "C:\\Users\\User\\anaconda3\\lib\\site-packages\\xgboost\\core.py:105: UserWarning: ntree_limit is deprecated, use `iteration_range` or model slicing instead.\n",
      "  warnings.warn(\n",
      "C:\\Users\\User\\anaconda3\\lib\\site-packages\\xgboost\\core.py:105: UserWarning: ntree_limit is deprecated, use `iteration_range` or model slicing instead.\n",
      "  warnings.warn(\n",
      "C:\\Users\\User\\anaconda3\\lib\\site-packages\\xgboost\\core.py:105: UserWarning: ntree_limit is deprecated, use `iteration_range` or model slicing instead.\n",
      "  warnings.warn(\n"
     ]
    },
    {
     "name": "stdout",
     "output_type": "stream",
     "text": [
      "9 0.8168782313153846\n"
     ]
    },
    {
     "data": {
      "image/png": "[encoded data removed]",
      "text/plain": [
       "<Figure size 432x288 with 1 Axes>"
      ]
     },
     "metadata": {
      "needs_background": "light"
     },
     "output_type": "display_data"
    }
   ],
   "source": [
    "rang = range(2,10)\n",
    "results = []\n",
    "for x in rang:\n",
    "    trainResults, testResults, predictions, indices, hists = CVTestXGB(\n",
    "        max_depth=6, subsample = 0.7, colsample_bytree = x/10)\n",
    "    print(x, np.mean(testResults))\n",
    "    results.append(np.mean(testResults))\n",
    "    \n",
    "plt.plot(list(rang), results)\n",
    "plt.show()"
   ]
  },
  {
   "cell_type": "code",
   "execution_count": 160,
   "id": "8ff89538",
   "metadata": {},
   "outputs": [
    {
     "name": "stderr",
     "output_type": "stream",
     "text": [
      "C:\\Users\\User\\anaconda3\\lib\\site-packages\\xgboost\\core.py:105: UserWarning: ntree_limit is deprecated, use `iteration_range` or model slicing instead.\n",
      "  warnings.warn(\n",
      "C:\\Users\\User\\anaconda3\\lib\\site-packages\\xgboost\\core.py:105: UserWarning: ntree_limit is deprecated, use `iteration_range` or model slicing instead.\n",
      "  warnings.warn(\n",
      "C:\\Users\\User\\anaconda3\\lib\\site-packages\\xgboost\\core.py:105: UserWarning: ntree_limit is deprecated, use `iteration_range` or model slicing instead.\n",
      "  warnings.warn(\n",
      "C:\\Users\\User\\anaconda3\\lib\\site-packages\\xgboost\\core.py:105: UserWarning: ntree_limit is deprecated, use `iteration_range` or model slicing instead.\n",
      "  warnings.warn(\n",
      "C:\\Users\\User\\anaconda3\\lib\\site-packages\\xgboost\\core.py:105: UserWarning: ntree_limit is deprecated, use `iteration_range` or model slicing instead.\n",
      "  warnings.warn(\n"
     ]
    },
    {
     "name": "stdout",
     "output_type": "stream",
     "text": [
      "0 0.8169540168676257\n"
     ]
    },
    {
     "name": "stderr",
     "output_type": "stream",
     "text": [
      "C:\\Users\\User\\anaconda3\\lib\\site-packages\\xgboost\\core.py:105: UserWarning: ntree_limit is deprecated, use `iteration_range` or model slicing instead.\n",
      "  warnings.warn(\n",
      "C:\\Users\\User\\anaconda3\\lib\\site-packages\\xgboost\\core.py:105: UserWarning: ntree_limit is deprecated, use `iteration_range` or model slicing instead.\n",
      "  warnings.warn(\n",
      "C:\\Users\\User\\anaconda3\\lib\\site-packages\\xgboost\\core.py:105: UserWarning: ntree_limit is deprecated, use `iteration_range` or model slicing instead.\n",
      "  warnings.warn(\n",
      "C:\\Users\\User\\anaconda3\\lib\\site-packages\\xgboost\\core.py:105: UserWarning: ntree_limit is deprecated, use `iteration_range` or model slicing instead.\n",
      "  warnings.warn(\n",
      "C:\\Users\\User\\anaconda3\\lib\\site-packages\\xgboost\\core.py:105: UserWarning: ntree_limit is deprecated, use `iteration_range` or model slicing instead.\n",
      "  warnings.warn(\n"
     ]
    },
    {
     "name": "stdout",
     "output_type": "stream",
     "text": [
      "1 0.8172168683371284\n"
     ]
    },
    {
     "name": "stderr",
     "output_type": "stream",
     "text": [
      "C:\\Users\\User\\anaconda3\\lib\\site-packages\\xgboost\\core.py:105: UserWarning: ntree_limit is deprecated, use `iteration_range` or model slicing instead.\n",
      "  warnings.warn(\n",
      "C:\\Users\\User\\anaconda3\\lib\\site-packages\\xgboost\\core.py:105: UserWarning: ntree_limit is deprecated, use `iteration_range` or model slicing instead.\n",
      "  warnings.warn(\n",
      "C:\\Users\\User\\anaconda3\\lib\\site-packages\\xgboost\\core.py:105: UserWarning: ntree_limit is deprecated, use `iteration_range` or model slicing instead.\n",
      "  warnings.warn(\n",
      "C:\\Users\\User\\anaconda3\\lib\\site-packages\\xgboost\\core.py:105: UserWarning: ntree_limit is deprecated, use `iteration_range` or model slicing instead.\n",
      "  warnings.warn(\n",
      "C:\\Users\\User\\anaconda3\\lib\\site-packages\\xgboost\\core.py:105: UserWarning: ntree_limit is deprecated, use `iteration_range` or model slicing instead.\n",
      "  warnings.warn(\n"
     ]
    },
    {
     "name": "stdout",
     "output_type": "stream",
     "text": [
      "4 0.8170522341215273\n"
     ]
    },
    {
     "name": "stderr",
     "output_type": "stream",
     "text": [
      "C:\\Users\\User\\anaconda3\\lib\\site-packages\\xgboost\\core.py:105: UserWarning: ntree_limit is deprecated, use `iteration_range` or model slicing instead.\n",
      "  warnings.warn(\n",
      "C:\\Users\\User\\anaconda3\\lib\\site-packages\\xgboost\\core.py:105: UserWarning: ntree_limit is deprecated, use `iteration_range` or model slicing instead.\n",
      "  warnings.warn(\n",
      "C:\\Users\\User\\anaconda3\\lib\\site-packages\\xgboost\\core.py:105: UserWarning: ntree_limit is deprecated, use `iteration_range` or model slicing instead.\n",
      "  warnings.warn(\n",
      "C:\\Users\\User\\anaconda3\\lib\\site-packages\\xgboost\\core.py:105: UserWarning: ntree_limit is deprecated, use `iteration_range` or model slicing instead.\n",
      "  warnings.warn(\n",
      "C:\\Users\\User\\anaconda3\\lib\\site-packages\\xgboost\\core.py:105: UserWarning: ntree_limit is deprecated, use `iteration_range` or model slicing instead.\n",
      "  warnings.warn(\n"
     ]
    },
    {
     "name": "stdout",
     "output_type": "stream",
     "text": [
      "9 0.8173144131423358\n"
     ]
    },
    {
     "name": "stderr",
     "output_type": "stream",
     "text": [
      "C:\\Users\\User\\anaconda3\\lib\\site-packages\\xgboost\\core.py:105: UserWarning: ntree_limit is deprecated, use `iteration_range` or model slicing instead.\n",
      "  warnings.warn(\n",
      "C:\\Users\\User\\anaconda3\\lib\\site-packages\\xgboost\\core.py:105: UserWarning: ntree_limit is deprecated, use `iteration_range` or model slicing instead.\n",
      "  warnings.warn(\n",
      "C:\\Users\\User\\anaconda3\\lib\\site-packages\\xgboost\\core.py:105: UserWarning: ntree_limit is deprecated, use `iteration_range` or model slicing instead.\n",
      "  warnings.warn(\n",
      "C:\\Users\\User\\anaconda3\\lib\\site-packages\\xgboost\\core.py:105: UserWarning: ntree_limit is deprecated, use `iteration_range` or model slicing instead.\n",
      "  warnings.warn(\n",
      "C:\\Users\\User\\anaconda3\\lib\\site-packages\\xgboost\\core.py:105: UserWarning: ntree_limit is deprecated, use `iteration_range` or model slicing instead.\n",
      "  warnings.warn(\n"
     ]
    },
    {
     "name": "stdout",
     "output_type": "stream",
     "text": [
      "16 0.816762920253824\n"
     ]
    },
    {
     "name": "stderr",
     "output_type": "stream",
     "text": [
      "C:\\Users\\User\\anaconda3\\lib\\site-packages\\xgboost\\core.py:105: UserWarning: ntree_limit is deprecated, use `iteration_range` or model slicing instead.\n",
      "  warnings.warn(\n",
      "C:\\Users\\User\\anaconda3\\lib\\site-packages\\xgboost\\core.py:105: UserWarning: ntree_limit is deprecated, use `iteration_range` or model slicing instead.\n",
      "  warnings.warn(\n",
      "C:\\Users\\User\\anaconda3\\lib\\site-packages\\xgboost\\core.py:105: UserWarning: ntree_limit is deprecated, use `iteration_range` or model slicing instead.\n",
      "  warnings.warn(\n",
      "C:\\Users\\User\\anaconda3\\lib\\site-packages\\xgboost\\core.py:105: UserWarning: ntree_limit is deprecated, use `iteration_range` or model slicing instead.\n",
      "  warnings.warn(\n",
      "C:\\Users\\User\\anaconda3\\lib\\site-packages\\xgboost\\core.py:105: UserWarning: ntree_limit is deprecated, use `iteration_range` or model slicing instead.\n",
      "  warnings.warn(\n"
     ]
    },
    {
     "name": "stdout",
     "output_type": "stream",
     "text": [
      "25 0.8163474224089897\n"
     ]
    },
    {
     "name": "stderr",
     "output_type": "stream",
     "text": [
      "C:\\Users\\User\\anaconda3\\lib\\site-packages\\xgboost\\core.py:105: UserWarning: ntree_limit is deprecated, use `iteration_range` or model slicing instead.\n",
      "  warnings.warn(\n",
      "C:\\Users\\User\\anaconda3\\lib\\site-packages\\xgboost\\core.py:105: UserWarning: ntree_limit is deprecated, use `iteration_range` or model slicing instead.\n",
      "  warnings.warn(\n",
      "C:\\Users\\User\\anaconda3\\lib\\site-packages\\xgboost\\core.py:105: UserWarning: ntree_limit is deprecated, use `iteration_range` or model slicing instead.\n",
      "  warnings.warn(\n",
      "C:\\Users\\User\\anaconda3\\lib\\site-packages\\xgboost\\core.py:105: UserWarning: ntree_limit is deprecated, use `iteration_range` or model slicing instead.\n",
      "  warnings.warn(\n",
      "C:\\Users\\User\\anaconda3\\lib\\site-packages\\xgboost\\core.py:105: UserWarning: ntree_limit is deprecated, use `iteration_range` or model slicing instead.\n",
      "  warnings.warn(\n"
     ]
    },
    {
     "name": "stdout",
     "output_type": "stream",
     "text": [
      "36 0.8161227632046255\n"
     ]
    },
    {
     "name": "stderr",
     "output_type": "stream",
     "text": [
      "C:\\Users\\User\\anaconda3\\lib\\site-packages\\xgboost\\core.py:105: UserWarning: ntree_limit is deprecated, use `iteration_range` or model slicing instead.\n",
      "  warnings.warn(\n",
      "C:\\Users\\User\\anaconda3\\lib\\site-packages\\xgboost\\core.py:105: UserWarning: ntree_limit is deprecated, use `iteration_range` or model slicing instead.\n",
      "  warnings.warn(\n",
      "C:\\Users\\User\\anaconda3\\lib\\site-packages\\xgboost\\core.py:105: UserWarning: ntree_limit is deprecated, use `iteration_range` or model slicing instead.\n",
      "  warnings.warn(\n",
      "C:\\Users\\User\\anaconda3\\lib\\site-packages\\xgboost\\core.py:105: UserWarning: ntree_limit is deprecated, use `iteration_range` or model slicing instead.\n",
      "  warnings.warn(\n",
      "C:\\Users\\User\\anaconda3\\lib\\site-packages\\xgboost\\core.py:105: UserWarning: ntree_limit is deprecated, use `iteration_range` or model slicing instead.\n",
      "  warnings.warn(\n"
     ]
    },
    {
     "name": "stdout",
     "output_type": "stream",
     "text": [
      "49 0.8158499336391827\n"
     ]
    },
    {
     "data": {
      "image/png": "[encoded data removed]",
      "text/plain": [
       "<Figure size 432x288 with 1 Axes>"
      ]
     },
     "metadata": {
      "needs_background": "light"
     },
     "output_type": "display_data"
    }
   ],
   "source": [
    "rang = range(0,8)\n",
    "results = []\n",
    "for x in rang:\n",
    "    trainResults, testResults, predictions, indices, hists = CVTestXGB(\n",
    "        max_depth=6, subsample = 0.7, colsample_bytree = 0.7, lambdaX=x**2)\n",
    "    print(x**2, np.mean(testResults))\n",
    "    results.append(np.mean(testResults))\n",
    "    \n",
    "plt.plot(list(rang), results)\n",
    "plt.show()"
   ]
  },
  {
   "cell_type": "code",
   "execution_count": 163,
   "id": "e0999e0a",
   "metadata": {},
   "outputs": [
    {
     "name": "stderr",
     "output_type": "stream",
     "text": [
      "C:\\Users\\User\\anaconda3\\lib\\site-packages\\xgboost\\core.py:105: UserWarning: ntree_limit is deprecated, use `iteration_range` or model slicing instead.\n",
      "  warnings.warn(\n",
      "C:\\Users\\User\\anaconda3\\lib\\site-packages\\xgboost\\core.py:105: UserWarning: ntree_limit is deprecated, use `iteration_range` or model slicing instead.\n",
      "  warnings.warn(\n",
      "C:\\Users\\User\\anaconda3\\lib\\site-packages\\xgboost\\core.py:105: UserWarning: ntree_limit is deprecated, use `iteration_range` or model slicing instead.\n",
      "  warnings.warn(\n",
      "C:\\Users\\User\\anaconda3\\lib\\site-packages\\xgboost\\core.py:105: UserWarning: ntree_limit is deprecated, use `iteration_range` or model slicing instead.\n",
      "  warnings.warn(\n",
      "C:\\Users\\User\\anaconda3\\lib\\site-packages\\xgboost\\core.py:105: UserWarning: ntree_limit is deprecated, use `iteration_range` or model slicing instead.\n",
      "  warnings.warn(\n"
     ]
    },
    {
     "name": "stdout",
     "output_type": "stream",
     "text": [
      "0.01 0.8169845210659863\n"
     ]
    },
    {
     "name": "stderr",
     "output_type": "stream",
     "text": [
      "C:\\Users\\User\\anaconda3\\lib\\site-packages\\xgboost\\core.py:105: UserWarning: ntree_limit is deprecated, use `iteration_range` or model slicing instead.\n",
      "  warnings.warn(\n",
      "C:\\Users\\User\\anaconda3\\lib\\site-packages\\xgboost\\core.py:105: UserWarning: ntree_limit is deprecated, use `iteration_range` or model slicing instead.\n",
      "  warnings.warn(\n",
      "C:\\Users\\User\\anaconda3\\lib\\site-packages\\xgboost\\core.py:105: UserWarning: ntree_limit is deprecated, use `iteration_range` or model slicing instead.\n",
      "  warnings.warn(\n",
      "C:\\Users\\User\\anaconda3\\lib\\site-packages\\xgboost\\core.py:105: UserWarning: ntree_limit is deprecated, use `iteration_range` or model slicing instead.\n",
      "  warnings.warn(\n",
      "C:\\Users\\User\\anaconda3\\lib\\site-packages\\xgboost\\core.py:105: UserWarning: ntree_limit is deprecated, use `iteration_range` or model slicing instead.\n",
      "  warnings.warn(\n"
     ]
    },
    {
     "name": "stdout",
     "output_type": "stream",
     "text": [
      "0.1 0.8170598503192468\n"
     ]
    },
    {
     "name": "stderr",
     "output_type": "stream",
     "text": [
      "C:\\Users\\User\\anaconda3\\lib\\site-packages\\xgboost\\core.py:105: UserWarning: ntree_limit is deprecated, use `iteration_range` or model slicing instead.\n",
      "  warnings.warn(\n",
      "C:\\Users\\User\\anaconda3\\lib\\site-packages\\xgboost\\core.py:105: UserWarning: ntree_limit is deprecated, use `iteration_range` or model slicing instead.\n",
      "  warnings.warn(\n",
      "C:\\Users\\User\\anaconda3\\lib\\site-packages\\xgboost\\core.py:105: UserWarning: ntree_limit is deprecated, use `iteration_range` or model slicing instead.\n",
      "  warnings.warn(\n",
      "C:\\Users\\User\\anaconda3\\lib\\site-packages\\xgboost\\core.py:105: UserWarning: ntree_limit is deprecated, use `iteration_range` or model slicing instead.\n",
      "  warnings.warn(\n",
      "C:\\Users\\User\\anaconda3\\lib\\site-packages\\xgboost\\core.py:105: UserWarning: ntree_limit is deprecated, use `iteration_range` or model slicing instead.\n",
      "  warnings.warn(\n"
     ]
    },
    {
     "name": "stdout",
     "output_type": "stream",
     "text": [
      "0.5 0.8173154684377562\n"
     ]
    },
    {
     "name": "stderr",
     "output_type": "stream",
     "text": [
      "C:\\Users\\User\\anaconda3\\lib\\site-packages\\xgboost\\core.py:105: UserWarning: ntree_limit is deprecated, use `iteration_range` or model slicing instead.\n",
      "  warnings.warn(\n",
      "C:\\Users\\User\\anaconda3\\lib\\site-packages\\xgboost\\core.py:105: UserWarning: ntree_limit is deprecated, use `iteration_range` or model slicing instead.\n",
      "  warnings.warn(\n",
      "C:\\Users\\User\\anaconda3\\lib\\site-packages\\xgboost\\core.py:105: UserWarning: ntree_limit is deprecated, use `iteration_range` or model slicing instead.\n",
      "  warnings.warn(\n",
      "C:\\Users\\User\\anaconda3\\lib\\site-packages\\xgboost\\core.py:105: UserWarning: ntree_limit is deprecated, use `iteration_range` or model slicing instead.\n",
      "  warnings.warn(\n",
      "C:\\Users\\User\\anaconda3\\lib\\site-packages\\xgboost\\core.py:105: UserWarning: ntree_limit is deprecated, use `iteration_range` or model slicing instead.\n",
      "  warnings.warn(\n"
     ]
    },
    {
     "name": "stdout",
     "output_type": "stream",
     "text": [
      "1 0.8174111578112406\n"
     ]
    },
    {
     "name": "stderr",
     "output_type": "stream",
     "text": [
      "C:\\Users\\User\\anaconda3\\lib\\site-packages\\xgboost\\core.py:105: UserWarning: ntree_limit is deprecated, use `iteration_range` or model slicing instead.\n",
      "  warnings.warn(\n",
      "C:\\Users\\User\\anaconda3\\lib\\site-packages\\xgboost\\core.py:105: UserWarning: ntree_limit is deprecated, use `iteration_range` or model slicing instead.\n",
      "  warnings.warn(\n",
      "C:\\Users\\User\\anaconda3\\lib\\site-packages\\xgboost\\core.py:105: UserWarning: ntree_limit is deprecated, use `iteration_range` or model slicing instead.\n",
      "  warnings.warn(\n",
      "C:\\Users\\User\\anaconda3\\lib\\site-packages\\xgboost\\core.py:105: UserWarning: ntree_limit is deprecated, use `iteration_range` or model slicing instead.\n",
      "  warnings.warn(\n",
      "C:\\Users\\User\\anaconda3\\lib\\site-packages\\xgboost\\core.py:105: UserWarning: ntree_limit is deprecated, use `iteration_range` or model slicing instead.\n",
      "  warnings.warn(\n"
     ]
    },
    {
     "name": "stdout",
     "output_type": "stream",
     "text": [
      "2 0.8170203155033994\n"
     ]
    },
    {
     "name": "stderr",
     "output_type": "stream",
     "text": [
      "C:\\Users\\User\\anaconda3\\lib\\site-packages\\xgboost\\core.py:105: UserWarning: ntree_limit is deprecated, use `iteration_range` or model slicing instead.\n",
      "  warnings.warn(\n",
      "C:\\Users\\User\\anaconda3\\lib\\site-packages\\xgboost\\core.py:105: UserWarning: ntree_limit is deprecated, use `iteration_range` or model slicing instead.\n",
      "  warnings.warn(\n",
      "C:\\Users\\User\\anaconda3\\lib\\site-packages\\xgboost\\core.py:105: UserWarning: ntree_limit is deprecated, use `iteration_range` or model slicing instead.\n",
      "  warnings.warn(\n",
      "C:\\Users\\User\\anaconda3\\lib\\site-packages\\xgboost\\core.py:105: UserWarning: ntree_limit is deprecated, use `iteration_range` or model slicing instead.\n",
      "  warnings.warn(\n",
      "C:\\Users\\User\\anaconda3\\lib\\site-packages\\xgboost\\core.py:105: UserWarning: ntree_limit is deprecated, use `iteration_range` or model slicing instead.\n",
      "  warnings.warn(\n"
     ]
    },
    {
     "name": "stdout",
     "output_type": "stream",
     "text": [
      "4 0.8174176082305818\n"
     ]
    },
    {
     "name": "stderr",
     "output_type": "stream",
     "text": [
      "C:\\Users\\User\\anaconda3\\lib\\site-packages\\xgboost\\core.py:105: UserWarning: ntree_limit is deprecated, use `iteration_range` or model slicing instead.\n",
      "  warnings.warn(\n",
      "C:\\Users\\User\\anaconda3\\lib\\site-packages\\xgboost\\core.py:105: UserWarning: ntree_limit is deprecated, use `iteration_range` or model slicing instead.\n",
      "  warnings.warn(\n",
      "C:\\Users\\User\\anaconda3\\lib\\site-packages\\xgboost\\core.py:105: UserWarning: ntree_limit is deprecated, use `iteration_range` or model slicing instead.\n",
      "  warnings.warn(\n",
      "C:\\Users\\User\\anaconda3\\lib\\site-packages\\xgboost\\core.py:105: UserWarning: ntree_limit is deprecated, use `iteration_range` or model slicing instead.\n",
      "  warnings.warn(\n",
      "C:\\Users\\User\\anaconda3\\lib\\site-packages\\xgboost\\core.py:105: UserWarning: ntree_limit is deprecated, use `iteration_range` or model slicing instead.\n",
      "  warnings.warn(\n"
     ]
    },
    {
     "name": "stdout",
     "output_type": "stream",
     "text": [
      "6 0.8164734561080623\n"
     ]
    },
    {
     "name": "stderr",
     "output_type": "stream",
     "text": [
      "C:\\Users\\User\\anaconda3\\lib\\site-packages\\xgboost\\core.py:105: UserWarning: ntree_limit is deprecated, use `iteration_range` or model slicing instead.\n",
      "  warnings.warn(\n",
      "C:\\Users\\User\\anaconda3\\lib\\site-packages\\xgboost\\core.py:105: UserWarning: ntree_limit is deprecated, use `iteration_range` or model slicing instead.\n",
      "  warnings.warn(\n",
      "C:\\Users\\User\\anaconda3\\lib\\site-packages\\xgboost\\core.py:105: UserWarning: ntree_limit is deprecated, use `iteration_range` or model slicing instead.\n",
      "  warnings.warn(\n",
      "C:\\Users\\User\\anaconda3\\lib\\site-packages\\xgboost\\core.py:105: UserWarning: ntree_limit is deprecated, use `iteration_range` or model slicing instead.\n",
      "  warnings.warn(\n",
      "C:\\Users\\User\\anaconda3\\lib\\site-packages\\xgboost\\core.py:105: UserWarning: ntree_limit is deprecated, use `iteration_range` or model slicing instead.\n",
      "  warnings.warn(\n"
     ]
    },
    {
     "name": "stdout",
     "output_type": "stream",
     "text": [
      "8 0.8155297341061918\n"
     ]
    },
    {
     "name": "stderr",
     "output_type": "stream",
     "text": [
      "C:\\Users\\User\\anaconda3\\lib\\site-packages\\xgboost\\core.py:105: UserWarning: ntree_limit is deprecated, use `iteration_range` or model slicing instead.\n",
      "  warnings.warn(\n",
      "C:\\Users\\User\\anaconda3\\lib\\site-packages\\xgboost\\core.py:105: UserWarning: ntree_limit is deprecated, use `iteration_range` or model slicing instead.\n",
      "  warnings.warn(\n",
      "C:\\Users\\User\\anaconda3\\lib\\site-packages\\xgboost\\core.py:105: UserWarning: ntree_limit is deprecated, use `iteration_range` or model slicing instead.\n",
      "  warnings.warn(\n",
      "C:\\Users\\User\\anaconda3\\lib\\site-packages\\xgboost\\core.py:105: UserWarning: ntree_limit is deprecated, use `iteration_range` or model slicing instead.\n",
      "  warnings.warn(\n",
      "C:\\Users\\User\\anaconda3\\lib\\site-packages\\xgboost\\core.py:105: UserWarning: ntree_limit is deprecated, use `iteration_range` or model slicing instead.\n",
      "  warnings.warn(\n"
     ]
    },
    {
     "name": "stdout",
     "output_type": "stream",
     "text": [
      "10 0.8139737666810449\n"
     ]
    },
    {
     "name": "stderr",
     "output_type": "stream",
     "text": [
      "C:\\Users\\User\\anaconda3\\lib\\site-packages\\xgboost\\core.py:105: UserWarning: ntree_limit is deprecated, use `iteration_range` or model slicing instead.\n",
      "  warnings.warn(\n",
      "C:\\Users\\User\\anaconda3\\lib\\site-packages\\xgboost\\core.py:105: UserWarning: ntree_limit is deprecated, use `iteration_range` or model slicing instead.\n",
      "  warnings.warn(\n",
      "C:\\Users\\User\\anaconda3\\lib\\site-packages\\xgboost\\core.py:105: UserWarning: ntree_limit is deprecated, use `iteration_range` or model slicing instead.\n",
      "  warnings.warn(\n",
      "C:\\Users\\User\\anaconda3\\lib\\site-packages\\xgboost\\core.py:105: UserWarning: ntree_limit is deprecated, use `iteration_range` or model slicing instead.\n",
      "  warnings.warn(\n",
      "C:\\Users\\User\\anaconda3\\lib\\site-packages\\xgboost\\core.py:105: UserWarning: ntree_limit is deprecated, use `iteration_range` or model slicing instead.\n",
      "  warnings.warn(\n"
     ]
    },
    {
     "name": "stdout",
     "output_type": "stream",
     "text": [
      "15 0.812001051647161\n"
     ]
    },
    {
     "data": {
      "image/png": "[encoded data removed]",
      "text/plain": [
       "<Figure size 432x288 with 1 Axes>"
      ]
     },
     "metadata": {
      "needs_background": "light"
     },
     "output_type": "display_data"
    }
   ],
   "source": [
    "rang = [0.01, 0.1, 0.5, 1, 2, 4, 6, 8, 10, 15]\n",
    "results = []\n",
    "for x in rang:\n",
    "    trainResults, testResults, predictions, indices, hists = CVTestXGB(\n",
    "        max_depth=6, subsample = 0.7, colsample_bytree = 0.7, lambdaX=9, gamma=x)\n",
    "    print(x, np.mean(testResults))\n",
    "    results.append(np.mean(testResults))\n",
    "    \n",
    "plt.plot(list(rang), results)\n",
    "plt.show()"
   ]
  },
  {
   "cell_type": "markdown",
   "id": "d09f9cbe",
   "metadata": {},
   "source": [
    "MODEL XGB - BEST PARAMS"
   ]
  },
  {
   "cell_type": "code",
   "execution_count": 164,
   "id": "5286db69",
   "metadata": {
    "scrolled": true
   },
   "outputs": [
    {
     "name": "stderr",
     "output_type": "stream",
     "text": [
      "C:\\Users\\User\\anaconda3\\lib\\site-packages\\xgboost\\core.py:105: UserWarning: ntree_limit is deprecated, use `iteration_range` or model slicing instead.\n",
      "  warnings.warn(\n",
      "C:\\Users\\User\\anaconda3\\lib\\site-packages\\xgboost\\core.py:105: UserWarning: ntree_limit is deprecated, use `iteration_range` or model slicing instead.\n",
      "  warnings.warn(\n",
      "C:\\Users\\User\\anaconda3\\lib\\site-packages\\xgboost\\core.py:105: UserWarning: ntree_limit is deprecated, use `iteration_range` or model slicing instead.\n",
      "  warnings.warn(\n",
      "C:\\Users\\User\\anaconda3\\lib\\site-packages\\xgboost\\core.py:105: UserWarning: ntree_limit is deprecated, use `iteration_range` or model slicing instead.\n",
      "  warnings.warn(\n"
     ]
    },
    {
     "name": "stdout",
     "output_type": "stream",
     "text": [
      "0.8174176082305818\n"
     ]
    },
    {
     "name": "stderr",
     "output_type": "stream",
     "text": [
      "C:\\Users\\User\\anaconda3\\lib\\site-packages\\xgboost\\core.py:105: UserWarning: ntree_limit is deprecated, use `iteration_range` or model slicing instead.\n",
      "  warnings.warn(\n"
     ]
    }
   ],
   "source": [
    "trainResults, testResults, predictions, indices, hists = CVTestXGB(\n",
    "        max_depth=6, subsample = 0.7, colsample_bytree = 0.7, lambdaX=9, gamma=4)\n",
    "print(np.mean(testResults))\n",
    "\n",
    "\n",
    "modelXGB = {\n",
    "    \"name\":\"XGB\",\n",
    "    \"specification\":'max_depth=6, subsample = 0.7, colsample_bytree = 0.7, lambdaX=9, gamma=4)',\n",
    "    \"trainResults\":trainResults.copy(),\n",
    "    \"testResults\":testResults.copy(),\n",
    "    \"predictions\":predictions.copy(),\n",
    "    \"indices\":indices.copy(),\n",
    "}\n"
   ]
  },
  {
   "cell_type": "markdown",
   "id": "996111e7",
   "metadata": {},
   "source": [
    "   "
   ]
  },
  {
   "cell_type": "markdown",
   "id": "539cf3f0",
   "metadata": {},
   "source": [
    "LIFT"
   ]
  },
  {
   "cell_type": "code",
   "execution_count": 165,
   "id": "1e3bf5a7",
   "metadata": {},
   "outputs": [],
   "source": [
    "true_xgb = df_prim[target].sort_index()\n",
    "pred_xgb = pd.Series(sum(modelXGB[\"predictions\"], []), index=sum(modelXGB[\"indices\"], [])).sort_index()\n",
    "\n",
    "\n",
    "fpr_xgb, tpr_xgb, thresholds_xgb = metrics.roc_curve(true_xgb, pred_xgb)\n",
    "roc_auc_xgb = metrics.auc(fpr_xgb, tpr_xgb)"
   ]
  },
  {
   "cell_type": "code",
   "execution_count": 166,
   "id": "0535faff",
   "metadata": {},
   "outputs": [],
   "source": [
    "#LIFT!!!!!!!!!!!!!\n",
    "df_prim['pred_xgb'] = pred_xgb\n",
    "lift = df_prim[['pred_xgb', 'test_control_flag', 'y']].sort_values(by='pred_xgb', ascending=False)\n",
    "lift['camp'] = lift.test_control_flag.replace(0, 'yes').replace(1, 'no')\n",
    "lift['camp'] = (lift['camp']==\"yes\").astype(int)\n"
   ]
  },
  {
   "cell_type": "code",
   "execution_count": 179,
   "id": "0eb6057a",
   "metadata": {},
   "outputs": [
    {
     "data": {
      "text/plain": [
       "0    13992\n",
       "1     2484\n",
       "Name: y, dtype: int64"
      ]
     },
     "execution_count": 179,
     "metadata": {},
     "output_type": "execute_result"
    }
   ],
   "source": [
    "lift.loc[lift['camp'] == 1]['y'].value_counts()"
   ]
  },
  {
   "cell_type": "code",
   "execution_count": 184,
   "id": "ab40fb6c",
   "metadata": {},
   "outputs": [
    {
     "data": {
      "text/plain": [
       "0    12359\n",
       "1     4117\n",
       "Name: y, dtype: int64"
      ]
     },
     "execution_count": 184,
     "metadata": {},
     "output_type": "execute_result"
    }
   ],
   "source": [
    "lift[:16476]['y'].value_counts()"
   ]
  },
  {
   "cell_type": "markdown",
   "id": "03d63b39",
   "metadata": {},
   "source": [
    "            "
   ]
  },
  {
   "cell_type": "markdown",
   "id": "40ed77cd",
   "metadata": {},
   "source": [
    "          "
   ]
  },
  {
   "cell_type": "markdown",
   "id": "a588ab60",
   "metadata": {},
   "source": [
    "ROC AND PRECISION-RECALL"
   ]
  },
  {
   "cell_type": "markdown",
   "id": "eaef944c",
   "metadata": {},
   "source": [
    "    "
   ]
  },
  {
   "cell_type": "code",
   "execution_count": 167,
   "id": "1aeb6d00",
   "metadata": {},
   "outputs": [],
   "source": [
    "fpr_los, tpr_los, thresholds_los = metrics.roc_curve(lift.camp, lift.pred_xgb)\n",
    "roc_auc_los = metrics.auc(fpr_los, tpr_los)"
   ]
  },
  {
   "cell_type": "code",
   "execution_count": 168,
   "id": "30d44db6",
   "metadata": {},
   "outputs": [
    {
     "data": {
      "image/png": "[encoded data removed]",
      "text/plain": [
       "<Figure size 432x288 with 1 Axes>"
      ]
     },
     "metadata": {
      "needs_background": "light"
     },
     "output_type": "display_data"
    }
   ],
   "source": [
    "plt.figure()\n",
    "lw = 2\n",
    "plt.plot(\n",
    "    fpr_xgb,\n",
    "    tpr_xgb,\n",
    "    color=\"darkorange\",\n",
    "    lw=lw,\n",
    "    label=\"ROC curve (area = %0.2f)\" % roc_auc_xgb,\n",
    ")\n",
    "plt.plot([0, 1], [0, 1], color=\"navy\", lw=lw, linestyle=\"--\")\n",
    "plt.xlim([0.0, 1.0])\n",
    "plt.ylim([0.0, 1.05])\n",
    "plt.xlabel(\"False Positive Rate\")\n",
    "plt.ylabel(\"True Positive Rate\")\n",
    "plt.title(\"Receiver operating characteristic\")\n",
    "plt.legend(loc=\"lower right\")\n",
    "plt.show()"
   ]
  },
  {
   "cell_type": "code",
   "execution_count": 169,
   "id": "97eaf231",
   "metadata": {},
   "outputs": [
    {
     "data": {
      "image/png": "[encoded data removed]",
      "text/plain": [
       "<Figure size 360x324 with 1 Axes>"
      ]
     },
     "metadata": {
      "needs_background": "light"
     },
     "output_type": "display_data"
    }
   ],
   "source": [
    "\n",
    "precision, recall, thresholds = precision_recall_curve(true_xgb, pred_xgb)\n",
    "\n",
    "average_precision = average_precision_score(true_xgb, pred_xgb)\n",
    "average_precision = round(average_precision, 2)\n",
    "\n",
    "fig, ax = plt.subplots(figsize=(5,4.5))\n",
    "\n",
    "\n",
    "lw = 2\n",
    "\n",
    "\n",
    "ax.plot(recall, precision, color='g', lw=lw, label=f'PR curve: {average_precision}')\n",
    "\n",
    "\n",
    "ax.set_xlim([0, 1])\n",
    "ax.set_ylim([0.0, 1.01])\n",
    "ax.set_xlabel('Recall')\n",
    "ax.set_ylabel('Precision')\n",
    "ax.set_title(f'Precision Recall Curve - {average_precision}')\n",
    "ax.legend(loc=\"lower right\")\n",
    "plt.show()"
   ]
  },
  {
   "cell_type": "code",
   "execution_count": 758,
   "id": "d27d2b0e",
   "metadata": {},
   "outputs": [
    {
     "data": {
      "image/png": "[encoded data removed]",
      "text/plain": [
       "<Figure size 432x288 with 1 Axes>"
      ]
     },
     "metadata": {
      "needs_background": "light"
     },
     "output_type": "display_data"
    }
   ],
   "source": [
    "plt.figure()\n",
    "lw = 2\n",
    "plt.plot(\n",
    "    fpr_los,\n",
    "    tpr_los,\n",
    "    color=\"darkorange\",\n",
    "    lw=lw,\n",
    "    label=\"ROC curve (area = %0.2f)\" % roc_auc_los,\n",
    ")\n",
    "plt.plot([0, 1], [0, 1], color=\"navy\", lw=lw, linestyle=\"--\")\n",
    "plt.xlim([0.0, 1.0])\n",
    "plt.ylim([0.0, 1.05])\n",
    "plt.xlabel(\"False Positive Rate\")\n",
    "plt.ylabel(\"True Positive Rate\")\n",
    "plt.title(\"Receiver operating characteristic\")\n",
    "plt.legend(loc=\"lower right\")\n",
    "plt.show()"
   ]
  },
  {
   "cell_type": "markdown",
   "id": "3a7ccee9",
   "metadata": {},
   "source": [
    "    "
   ]
  },
  {
   "cell_type": "markdown",
   "id": "87076239",
   "metadata": {},
   "source": [
    "    "
   ]
  },
  {
   "cell_type": "markdown",
   "id": "43d04302",
   "metadata": {},
   "source": [
    "   "
   ]
  },
  {
   "cell_type": "markdown",
   "id": "6abd99e4",
   "metadata": {},
   "source": [
    "     "
   ]
  },
  {
   "cell_type": "markdown",
   "id": "4e6d0953",
   "metadata": {},
   "source": [
    "LOGISTIC REGRESSION WHICH I DID BEFORE XGBOOST"
   ]
  },
  {
   "cell_type": "code",
   "execution_count": 506,
   "id": "d131d1f9",
   "metadata": {},
   "outputs": [
    {
     "data": {
      "text/html": [
       "<div>\n",
       "<style scoped>\n",
       "    .dataframe tbody tr th:only-of-type {\n",
       "        vertical-align: middle;\n",
       "    }\n",
       "\n",
       "    .dataframe tbody tr th {\n",
       "        vertical-align: top;\n",
       "    }\n",
       "\n",
       "    .dataframe thead th {\n",
       "        text-align: right;\n",
       "    }\n",
       "</style>\n",
       "<table border=\"1\" class=\"dataframe\">\n",
       "  <thead>\n",
       "    <tr style=\"text-align: right;\">\n",
       "      <th></th>\n",
       "      <th>age</th>\n",
       "      <th>job</th>\n",
       "      <th>marital</th>\n",
       "      <th>education</th>\n",
       "      <th>default</th>\n",
       "      <th>housing</th>\n",
       "      <th>loan</th>\n",
       "      <th>contact</th>\n",
       "      <th>month</th>\n",
       "      <th>day_of_week</th>\n",
       "      <th>...</th>\n",
       "      <th>pdays</th>\n",
       "      <th>previous</th>\n",
       "      <th>poutcome</th>\n",
       "      <th>emp_var_rate</th>\n",
       "      <th>cons_price_idx</th>\n",
       "      <th>cons_conf_idx</th>\n",
       "      <th>euribor3m</th>\n",
       "      <th>nr_employed</th>\n",
       "      <th>y</th>\n",
       "      <th>test_control_flag</th>\n",
       "    </tr>\n",
       "  </thead>\n",
       "  <tbody>\n",
       "    <tr>\n",
       "      <th>0</th>\n",
       "      <td>37</td>\n",
       "      <td>services</td>\n",
       "      <td>married</td>\n",
       "      <td>high.school</td>\n",
       "      <td>no</td>\n",
       "      <td>yes</td>\n",
       "      <td>no</td>\n",
       "      <td>telephone</td>\n",
       "      <td>may</td>\n",
       "      <td>mon</td>\n",
       "      <td>...</td>\n",
       "      <td>yes</td>\n",
       "      <td>0</td>\n",
       "      <td>nonexistent</td>\n",
       "      <td>1.1</td>\n",
       "      <td>93.994</td>\n",
       "      <td>-36.4</td>\n",
       "      <td>4.857</td>\n",
       "      <td>5191.0</td>\n",
       "      <td>no</td>\n",
       "      <td>campaign group</td>\n",
       "    </tr>\n",
       "    <tr>\n",
       "      <th>1</th>\n",
       "      <td>56</td>\n",
       "      <td>services</td>\n",
       "      <td>married</td>\n",
       "      <td>high.school</td>\n",
       "      <td>no</td>\n",
       "      <td>no</td>\n",
       "      <td>yes</td>\n",
       "      <td>telephone</td>\n",
       "      <td>may</td>\n",
       "      <td>mon</td>\n",
       "      <td>...</td>\n",
       "      <td>yes</td>\n",
       "      <td>0</td>\n",
       "      <td>nonexistent</td>\n",
       "      <td>1.1</td>\n",
       "      <td>93.994</td>\n",
       "      <td>-36.4</td>\n",
       "      <td>4.857</td>\n",
       "      <td>5191.0</td>\n",
       "      <td>no</td>\n",
       "      <td>campaign group</td>\n",
       "    </tr>\n",
       "    <tr>\n",
       "      <th>2</th>\n",
       "      <td>41</td>\n",
       "      <td>blue-collar</td>\n",
       "      <td>married</td>\n",
       "      <td>unknown</td>\n",
       "      <td>unknown</td>\n",
       "      <td>no</td>\n",
       "      <td>no</td>\n",
       "      <td>telephone</td>\n",
       "      <td>may</td>\n",
       "      <td>mon</td>\n",
       "      <td>...</td>\n",
       "      <td>yes</td>\n",
       "      <td>0</td>\n",
       "      <td>nonexistent</td>\n",
       "      <td>1.1</td>\n",
       "      <td>93.994</td>\n",
       "      <td>-36.4</td>\n",
       "      <td>4.857</td>\n",
       "      <td>5191.0</td>\n",
       "      <td>yes</td>\n",
       "      <td>campaign group</td>\n",
       "    </tr>\n",
       "    <tr>\n",
       "      <th>3</th>\n",
       "      <td>25</td>\n",
       "      <td>services</td>\n",
       "      <td>single</td>\n",
       "      <td>high.school</td>\n",
       "      <td>no</td>\n",
       "      <td>yes</td>\n",
       "      <td>no</td>\n",
       "      <td>telephone</td>\n",
       "      <td>may</td>\n",
       "      <td>mon</td>\n",
       "      <td>...</td>\n",
       "      <td>yes</td>\n",
       "      <td>0</td>\n",
       "      <td>nonexistent</td>\n",
       "      <td>1.1</td>\n",
       "      <td>93.994</td>\n",
       "      <td>-36.4</td>\n",
       "      <td>4.857</td>\n",
       "      <td>5191.0</td>\n",
       "      <td>no</td>\n",
       "      <td>campaign group</td>\n",
       "    </tr>\n",
       "    <tr>\n",
       "      <th>4</th>\n",
       "      <td>25</td>\n",
       "      <td>services</td>\n",
       "      <td>single</td>\n",
       "      <td>high.school</td>\n",
       "      <td>no</td>\n",
       "      <td>yes</td>\n",
       "      <td>no</td>\n",
       "      <td>telephone</td>\n",
       "      <td>may</td>\n",
       "      <td>mon</td>\n",
       "      <td>...</td>\n",
       "      <td>yes</td>\n",
       "      <td>0</td>\n",
       "      <td>nonexistent</td>\n",
       "      <td>1.1</td>\n",
       "      <td>93.994</td>\n",
       "      <td>-36.4</td>\n",
       "      <td>4.857</td>\n",
       "      <td>5191.0</td>\n",
       "      <td>no</td>\n",
       "      <td>campaign group</td>\n",
       "    </tr>\n",
       "    <tr>\n",
       "      <th>...</th>\n",
       "      <td>...</td>\n",
       "      <td>...</td>\n",
       "      <td>...</td>\n",
       "      <td>...</td>\n",
       "      <td>...</td>\n",
       "      <td>...</td>\n",
       "      <td>...</td>\n",
       "      <td>...</td>\n",
       "      <td>...</td>\n",
       "      <td>...</td>\n",
       "      <td>...</td>\n",
       "      <td>...</td>\n",
       "      <td>...</td>\n",
       "      <td>...</td>\n",
       "      <td>...</td>\n",
       "      <td>...</td>\n",
       "      <td>...</td>\n",
       "      <td>...</td>\n",
       "      <td>...</td>\n",
       "      <td>...</td>\n",
       "      <td>...</td>\n",
       "    </tr>\n",
       "    <tr>\n",
       "      <th>41183</th>\n",
       "      <td>29</td>\n",
       "      <td>unemployed</td>\n",
       "      <td>single</td>\n",
       "      <td>basic.4y</td>\n",
       "      <td>no</td>\n",
       "      <td>yes</td>\n",
       "      <td>no</td>\n",
       "      <td>NaN</td>\n",
       "      <td>NaN</td>\n",
       "      <td>NaN</td>\n",
       "      <td>...</td>\n",
       "      <td>no</td>\n",
       "      <td>1</td>\n",
       "      <td>success</td>\n",
       "      <td>-1.1</td>\n",
       "      <td>94.767</td>\n",
       "      <td>-50.8</td>\n",
       "      <td>1.028</td>\n",
       "      <td>4963.6</td>\n",
       "      <td>no</td>\n",
       "      <td>control group</td>\n",
       "    </tr>\n",
       "    <tr>\n",
       "      <th>41184</th>\n",
       "      <td>46</td>\n",
       "      <td>blue-collar</td>\n",
       "      <td>married</td>\n",
       "      <td>professional.course</td>\n",
       "      <td>no</td>\n",
       "      <td>no</td>\n",
       "      <td>no</td>\n",
       "      <td>NaN</td>\n",
       "      <td>NaN</td>\n",
       "      <td>NaN</td>\n",
       "      <td>...</td>\n",
       "      <td>yes</td>\n",
       "      <td>0</td>\n",
       "      <td>nonexistent</td>\n",
       "      <td>-1.1</td>\n",
       "      <td>94.767</td>\n",
       "      <td>-50.8</td>\n",
       "      <td>1.028</td>\n",
       "      <td>4963.6</td>\n",
       "      <td>no</td>\n",
       "      <td>control group</td>\n",
       "    </tr>\n",
       "    <tr>\n",
       "      <th>41185</th>\n",
       "      <td>56</td>\n",
       "      <td>retired</td>\n",
       "      <td>married</td>\n",
       "      <td>university.degree</td>\n",
       "      <td>no</td>\n",
       "      <td>yes</td>\n",
       "      <td>no</td>\n",
       "      <td>NaN</td>\n",
       "      <td>NaN</td>\n",
       "      <td>NaN</td>\n",
       "      <td>...</td>\n",
       "      <td>yes</td>\n",
       "      <td>0</td>\n",
       "      <td>nonexistent</td>\n",
       "      <td>-1.1</td>\n",
       "      <td>94.767</td>\n",
       "      <td>-50.8</td>\n",
       "      <td>1.028</td>\n",
       "      <td>4963.6</td>\n",
       "      <td>no</td>\n",
       "      <td>control group</td>\n",
       "    </tr>\n",
       "    <tr>\n",
       "      <th>41186</th>\n",
       "      <td>44</td>\n",
       "      <td>technician</td>\n",
       "      <td>married</td>\n",
       "      <td>professional.course</td>\n",
       "      <td>no</td>\n",
       "      <td>no</td>\n",
       "      <td>no</td>\n",
       "      <td>NaN</td>\n",
       "      <td>NaN</td>\n",
       "      <td>NaN</td>\n",
       "      <td>...</td>\n",
       "      <td>yes</td>\n",
       "      <td>0</td>\n",
       "      <td>nonexistent</td>\n",
       "      <td>-1.1</td>\n",
       "      <td>94.767</td>\n",
       "      <td>-50.8</td>\n",
       "      <td>1.028</td>\n",
       "      <td>4963.6</td>\n",
       "      <td>yes</td>\n",
       "      <td>control group</td>\n",
       "    </tr>\n",
       "    <tr>\n",
       "      <th>41187</th>\n",
       "      <td>74</td>\n",
       "      <td>retired</td>\n",
       "      <td>married</td>\n",
       "      <td>professional.course</td>\n",
       "      <td>no</td>\n",
       "      <td>yes</td>\n",
       "      <td>no</td>\n",
       "      <td>NaN</td>\n",
       "      <td>NaN</td>\n",
       "      <td>NaN</td>\n",
       "      <td>...</td>\n",
       "      <td>yes</td>\n",
       "      <td>1</td>\n",
       "      <td>failure</td>\n",
       "      <td>-1.1</td>\n",
       "      <td>94.767</td>\n",
       "      <td>-50.8</td>\n",
       "      <td>1.028</td>\n",
       "      <td>4963.6</td>\n",
       "      <td>no</td>\n",
       "      <td>control group</td>\n",
       "    </tr>\n",
       "  </tbody>\n",
       "</table>\n",
       "<p>41188 rows × 22 columns</p>\n",
       "</div>"
      ],
      "text/plain": [
       "       age          job  marital            education  default housing loan  \\\n",
       "0       37     services  married          high.school       no     yes   no   \n",
       "1       56     services  married          high.school       no      no  yes   \n",
       "2       41  blue-collar  married              unknown  unknown      no   no   \n",
       "3       25     services   single          high.school       no     yes   no   \n",
       "4       25     services   single          high.school       no     yes   no   \n",
       "...    ...          ...      ...                  ...      ...     ...  ...   \n",
       "41183   29   unemployed   single             basic.4y       no     yes   no   \n",
       "41184   46  blue-collar  married  professional.course       no      no   no   \n",
       "41185   56      retired  married    university.degree       no     yes   no   \n",
       "41186   44   technician  married  professional.course       no      no   no   \n",
       "41187   74      retired  married  professional.course       no     yes   no   \n",
       "\n",
       "         contact month day_of_week  ...  pdays  previous     poutcome  \\\n",
       "0      telephone   may         mon  ...    yes         0  nonexistent   \n",
       "1      telephone   may         mon  ...    yes         0  nonexistent   \n",
       "2      telephone   may         mon  ...    yes         0  nonexistent   \n",
       "3      telephone   may         mon  ...    yes         0  nonexistent   \n",
       "4      telephone   may         mon  ...    yes         0  nonexistent   \n",
       "...          ...   ...         ...  ...    ...       ...          ...   \n",
       "41183        NaN   NaN         NaN  ...     no         1      success   \n",
       "41184        NaN   NaN         NaN  ...    yes         0  nonexistent   \n",
       "41185        NaN   NaN         NaN  ...    yes         0  nonexistent   \n",
       "41186        NaN   NaN         NaN  ...    yes         0  nonexistent   \n",
       "41187        NaN   NaN         NaN  ...    yes         1      failure   \n",
       "\n",
       "       emp_var_rate cons_price_idx  cons_conf_idx  euribor3m  nr_employed  \\\n",
       "0               1.1         93.994          -36.4      4.857       5191.0   \n",
       "1               1.1         93.994          -36.4      4.857       5191.0   \n",
       "2               1.1         93.994          -36.4      4.857       5191.0   \n",
       "3               1.1         93.994          -36.4      4.857       5191.0   \n",
       "4               1.1         93.994          -36.4      4.857       5191.0   \n",
       "...             ...            ...            ...        ...          ...   \n",
       "41183          -1.1         94.767          -50.8      1.028       4963.6   \n",
       "41184          -1.1         94.767          -50.8      1.028       4963.6   \n",
       "41185          -1.1         94.767          -50.8      1.028       4963.6   \n",
       "41186          -1.1         94.767          -50.8      1.028       4963.6   \n",
       "41187          -1.1         94.767          -50.8      1.028       4963.6   \n",
       "\n",
       "         y  test_control_flag  \n",
       "0       no     campaign group  \n",
       "1       no     campaign group  \n",
       "2      yes     campaign group  \n",
       "3       no     campaign group  \n",
       "4       no     campaign group  \n",
       "...    ...                ...  \n",
       "41183   no      control group  \n",
       "41184   no      control group  \n",
       "41185   no      control group  \n",
       "41186  yes      control group  \n",
       "41187   no      control group  \n",
       "\n",
       "[41188 rows x 22 columns]"
      ]
     },
     "execution_count": 506,
     "metadata": {},
     "output_type": "execute_result"
    }
   ],
   "source": [
    "df_bis = df.copy()\n",
    "df_bis"
   ]
  },
  {
   "cell_type": "markdown",
   "id": "40cc0f10",
   "metadata": {},
   "source": [
    "NAN filling"
   ]
  },
  {
   "cell_type": "code",
   "execution_count": 617,
   "id": "7ee010f2",
   "metadata": {},
   "outputs": [],
   "source": [
    "df_bis = df.copy()\n",
    "df_bis['day_of_week'] = df_bis['day_of_week'].replace(np.NaN, 'Unknown')\n",
    "df_bis['month'] = df_bis['month'].replace(np.NaN, 'Unknown')\n",
    "df_bis['contact'] = df_bis['contact'].replace(np.NaN, 'Unknown')"
   ]
  },
  {
   "cell_type": "code",
   "execution_count": 619,
   "id": "b3cc4157",
   "metadata": {},
   "outputs": [],
   "source": [
    "#ENCODING\n",
    "df_prim2 = df_bis.copy()\n",
    "from sklearn import preprocessing\n",
    "\n",
    "mapy2 = {}\n",
    "for feature in catFeatures:\n",
    "    le2 = preprocessing.LabelEncoder()\n",
    "    df_prim2[feature] = le2.fit_transform(df_bis[feature])\n",
    "    mapy2[feature] = le2"
   ]
  },
  {
   "cell_type": "code",
   "execution_count": 621,
   "id": "9289a690",
   "metadata": {
    "scrolled": true
   },
   "outputs": [
    {
     "name": "stdout",
     "output_type": "stream",
     "text": [
      "       age  job  marital  education  default  housing  loan  contact  month  \\\n",
      "0       37    7        1          3        0        2     0        2      7   \n",
      "1       56    7        1          3        0        0     2        2      7   \n",
      "2       41    1        1          7        1        0     0        2      7   \n",
      "3       25    7        2          3        0        2     0        2      7   \n",
      "4       25    7        2          3        0        2     0        2      7   \n",
      "...    ...  ...      ...        ...      ...      ...   ...      ...    ...   \n",
      "41183   29   10        2          0        0        2     0        0      0   \n",
      "41184   46    1        1          5        0        0     0        0      0   \n",
      "41185   56    5        1          6        0        2     0        0      0   \n",
      "41186   44    9        1          5        0        0     0        0      0   \n",
      "41187   74    5        1          5        0        2     0        0      0   \n",
      "\n",
      "       day_of_week  ...  pdays  previous  poutcome  emp_var_rate  \\\n",
      "0                2  ...      1         0         1           1.1   \n",
      "1                2  ...      1         0         1           1.1   \n",
      "2                2  ...      1         0         1           1.1   \n",
      "3                2  ...      1         0         1           1.1   \n",
      "4                2  ...      1         0         1           1.1   \n",
      "...            ...  ...    ...       ...       ...           ...   \n",
      "41183            0  ...      0         1         2          -1.1   \n",
      "41184            0  ...      1         0         1          -1.1   \n",
      "41185            0  ...      1         0         1          -1.1   \n",
      "41186            0  ...      1         0         1          -1.1   \n",
      "41187            0  ...      1         1         0          -1.1   \n",
      "\n",
      "       cons_price_idx  cons_conf_idx  euribor3m  nr_employed  y  \\\n",
      "0               226.0          -36.4      4.857       5191.0  0   \n",
      "1               307.0          -36.4      4.857       5191.0  0   \n",
      "2               217.0          -36.4      4.857       5191.0  1   \n",
      "3                50.0          -36.4      4.857       5191.0  0   \n",
      "4               222.0          -36.4      4.857       5191.0  0   \n",
      "...               ...            ...        ...          ... ..   \n",
      "41183           180.0          -50.8      1.028       4963.6  0   \n",
      "41184           180.0          -50.8      1.028       4963.6  0   \n",
      "41185           180.0          -50.8      1.028       4963.6  0   \n",
      "41186           180.0          -50.8      1.028       4963.6  1   \n",
      "41187           180.0          -50.8      1.028       4963.6  0   \n",
      "\n",
      "       test_control_flag  \n",
      "0                      0  \n",
      "1                      0  \n",
      "2                      0  \n",
      "3                      0  \n",
      "4                      0  \n",
      "...                  ...  \n",
      "41183                  1  \n",
      "41184                  1  \n",
      "41185                  1  \n",
      "41186                  1  \n",
      "41187                  1  \n",
      "\n",
      "[41188 rows x 22 columns]\n"
     ]
    }
   ],
   "source": [
    "#IMPUTING BY MEDIAN\n",
    "df_prim2[target] = (df_prim2[target]==\"yes\").astype(int)\n",
    "df_prim2['campaign'] = df_prim2['campaign'].fillna(df_prim2['campaign'].median())\n",
    "df_prim2['duration'] = df_prim2['duration'].fillna(df_prim2['duration'].median())\n",
    " \n",
    "df_prim2['cons_price_idx'] = df_prim2['duration'].fillna(df_prim2['duration'].median())\n",
    "print(df_prim2)"
   ]
  },
  {
   "cell_type": "code",
   "execution_count": 624,
   "id": "f3ddb9e1",
   "metadata": {},
   "outputs": [
    {
     "data": {
      "text/plain": [
       "'age+job+marital+education+default+housing+loan+contact+month+day_of_week+duration+campaign+pdays+previous+poutcome+emp_var_rate+cons_price_idx+cons_conf_idx+euribor3m+nr_employed+test_control_flag'"
      ]
     },
     "execution_count": 624,
     "metadata": {},
     "output_type": "execute_result"
    }
   ],
   "source": [
    "\"+\".join(features)"
   ]
  },
  {
   "cell_type": "code",
   "execution_count": 767,
   "id": "ee9c102d",
   "metadata": {},
   "outputs": [
    {
     "data": {
      "text/html": [
       "<table class=\"simpletable\">\n",
       "<caption>Generalized Linear Model Regression Results</caption>\n",
       "<tr>\n",
       "  <th>Dep. Variable:</th>           <td>y</td>        <th>  No. Observations:  </th>  <td> 41188</td> \n",
       "</tr>\n",
       "<tr>\n",
       "  <th>Model:</th>                  <td>GLM</td>       <th>  Df Residuals:      </th>  <td> 41167</td> \n",
       "</tr>\n",
       "<tr>\n",
       "  <th>Model Family:</th>        <td>Binomial</td>     <th>  Df Model:          </th>  <td>    20</td> \n",
       "</tr>\n",
       "<tr>\n",
       "  <th>Link Function:</th>         <td>logit</td>      <th>  Scale:             </th> <td>  1.0000</td>\n",
       "</tr>\n",
       "<tr>\n",
       "  <th>Method:</th>                <td>IRLS</td>       <th>  Log-Likelihood:    </th> <td> -12661.</td>\n",
       "</tr>\n",
       "<tr>\n",
       "  <th>Date:</th>            <td>Mon, 04 Apr 2022</td> <th>  Deviance:          </th> <td>  25323.</td>\n",
       "</tr>\n",
       "<tr>\n",
       "  <th>Time:</th>                <td>05:28:11</td>     <th>  Pearson chi2:      </th> <td>1.57e+05</td>\n",
       "</tr>\n",
       "<tr>\n",
       "  <th>No. Iterations:</th>          <td>6</td>        <th>                     </th>     <td> </td>   \n",
       "</tr>\n",
       "<tr>\n",
       "  <th>Covariance Type:</th>     <td>nonrobust</td>    <th>                     </th>     <td> </td>   \n",
       "</tr>\n",
       "</table>\n",
       "<table class=\"simpletable\">\n",
       "<tr>\n",
       "          <td></td>             <th>coef</th>     <th>std err</th>      <th>z</th>      <th>P>|z|</th>  <th>[0.025</th>    <th>0.975]</th>  \n",
       "</tr>\n",
       "<tr>\n",
       "  <th>Intercept</th>         <td>   58.2445</td> <td>    3.893</td> <td>   14.961</td> <td> 0.000</td> <td>   50.614</td> <td>   65.875</td>\n",
       "</tr>\n",
       "<tr>\n",
       "  <th>test_control_flag</th> <td>   -0.4011</td> <td>    0.107</td> <td>   -3.756</td> <td> 0.000</td> <td>   -0.610</td> <td>   -0.192</td>\n",
       "</tr>\n",
       "<tr>\n",
       "  <th>age</th>               <td>    0.0072</td> <td>    0.002</td> <td>    4.484</td> <td> 0.000</td> <td>    0.004</td> <td>    0.010</td>\n",
       "</tr>\n",
       "<tr>\n",
       "  <th>job</th>               <td>    0.0070</td> <td>    0.005</td> <td>    1.511</td> <td> 0.131</td> <td>   -0.002</td> <td>    0.016</td>\n",
       "</tr>\n",
       "<tr>\n",
       "  <th>marital</th>           <td>    0.2908</td> <td>    0.030</td> <td>    9.590</td> <td> 0.000</td> <td>    0.231</td> <td>    0.350</td>\n",
       "</tr>\n",
       "<tr>\n",
       "  <th>education</th>         <td>    0.0064</td> <td>    0.008</td> <td>    0.796</td> <td> 0.426</td> <td>   -0.009</td> <td>    0.022</td>\n",
       "</tr>\n",
       "<tr>\n",
       "  <th>default</th>           <td>   -0.2875</td> <td>    0.051</td> <td>   -5.689</td> <td> 0.000</td> <td>   -0.387</td> <td>   -0.188</td>\n",
       "</tr>\n",
       "<tr>\n",
       "  <th>housing</th>           <td>   -0.0856</td> <td>    0.017</td> <td>   -5.083</td> <td> 0.000</td> <td>   -0.119</td> <td>   -0.053</td>\n",
       "</tr>\n",
       "<tr>\n",
       "  <th>loan</th>              <td>   -0.0658</td> <td>    0.024</td> <td>   -2.780</td> <td> 0.005</td> <td>   -0.112</td> <td>   -0.019</td>\n",
       "</tr>\n",
       "<tr>\n",
       "  <th>contact</th>           <td>   -0.0365</td> <td>    0.061</td> <td>   -0.600</td> <td> 0.549</td> <td>   -0.156</td> <td>    0.083</td>\n",
       "</tr>\n",
       "<tr>\n",
       "  <th>month</th>             <td>   -0.0674</td> <td>    0.011</td> <td>   -6.363</td> <td> 0.000</td> <td>   -0.088</td> <td>   -0.047</td>\n",
       "</tr>\n",
       "<tr>\n",
       "  <th>day_of_week</th>       <td>    0.0196</td> <td>    0.018</td> <td>    1.090</td> <td> 0.276</td> <td>   -0.016</td> <td>    0.055</td>\n",
       "</tr>\n",
       "<tr>\n",
       "  <th>duration</th>          <td>    0.0015</td> <td> 4.33e-05</td> <td>   33.986</td> <td> 0.000</td> <td>    0.001</td> <td>    0.002</td>\n",
       "</tr>\n",
       "<tr>\n",
       "  <th>campaign</th>          <td>    0.0028</td> <td>    0.011</td> <td>    0.249</td> <td> 0.803</td> <td>   -0.019</td> <td>    0.025</td>\n",
       "</tr>\n",
       "<tr>\n",
       "  <th>pdays</th>             <td>   -0.8915</td> <td>    0.144</td> <td>   -6.204</td> <td> 0.000</td> <td>   -1.173</td> <td>   -0.610</td>\n",
       "</tr>\n",
       "<tr>\n",
       "  <th>previous</th>          <td>    0.0289</td> <td>    0.051</td> <td>    0.564</td> <td> 0.573</td> <td>   -0.071</td> <td>    0.129</td>\n",
       "</tr>\n",
       "<tr>\n",
       "  <th>poutcome</th>          <td>    0.3720</td> <td>    0.069</td> <td>    5.407</td> <td> 0.000</td> <td>    0.237</td> <td>    0.507</td>\n",
       "</tr>\n",
       "<tr>\n",
       "  <th>emp_var_rate</th>      <td>   -0.2893</td> <td>    0.048</td> <td>   -5.976</td> <td> 0.000</td> <td>   -0.384</td> <td>   -0.194</td>\n",
       "</tr>\n",
       "<tr>\n",
       "  <th>cons_price_idx</th>    <td>    0.0015</td> <td> 4.33e-05</td> <td>   33.986</td> <td> 0.000</td> <td>    0.001</td> <td>    0.002</td>\n",
       "</tr>\n",
       "<tr>\n",
       "  <th>cons_conf_idx</th>     <td>    0.0017</td> <td>    0.004</td> <td>    0.380</td> <td> 0.704</td> <td>   -0.007</td> <td>    0.010</td>\n",
       "</tr>\n",
       "<tr>\n",
       "  <th>euribor3m</th>         <td>    0.3470</td> <td>    0.069</td> <td>    5.038</td> <td> 0.000</td> <td>    0.212</td> <td>    0.482</td>\n",
       "</tr>\n",
       "<tr>\n",
       "  <th>nr_employed</th>       <td>   -0.0120</td> <td>    0.001</td> <td>  -14.914</td> <td> 0.000</td> <td>   -0.014</td> <td>   -0.010</td>\n",
       "</tr>\n",
       "</table>"
      ],
      "text/plain": [
       "<class 'statsmodels.iolib.summary.Summary'>\n",
       "\"\"\"\n",
       "                 Generalized Linear Model Regression Results                  \n",
       "==============================================================================\n",
       "Dep. Variable:                      y   No. Observations:                41188\n",
       "Model:                            GLM   Df Residuals:                    41167\n",
       "Model Family:                Binomial   Df Model:                           20\n",
       "Link Function:                  logit   Scale:                          1.0000\n",
       "Method:                          IRLS   Log-Likelihood:                -12661.\n",
       "Date:                Mon, 04 Apr 2022   Deviance:                       25323.\n",
       "Time:                        05:28:11   Pearson chi2:                 1.57e+05\n",
       "No. Iterations:                     6                                         \n",
       "Covariance Type:            nonrobust                                         \n",
       "=====================================================================================\n",
       "                        coef    std err          z      P>|z|      [0.025      0.975]\n",
       "-------------------------------------------------------------------------------------\n",
       "Intercept            58.2445      3.893     14.961      0.000      50.614      65.875\n",
       "test_control_flag    -0.4011      0.107     -3.756      0.000      -0.610      -0.192\n",
       "age                   0.0072      0.002      4.484      0.000       0.004       0.010\n",
       "job                   0.0070      0.005      1.511      0.131      -0.002       0.016\n",
       "marital               0.2908      0.030      9.590      0.000       0.231       0.350\n",
       "education             0.0064      0.008      0.796      0.426      -0.009       0.022\n",
       "default              -0.2875      0.051     -5.689      0.000      -0.387      -0.188\n",
       "housing              -0.0856      0.017     -5.083      0.000      -0.119      -0.053\n",
       "loan                 -0.0658      0.024     -2.780      0.005      -0.112      -0.019\n",
       "contact              -0.0365      0.061     -0.600      0.549      -0.156       0.083\n",
       "month                -0.0674      0.011     -6.363      0.000      -0.088      -0.047\n",
       "day_of_week           0.0196      0.018      1.090      0.276      -0.016       0.055\n",
       "duration              0.0015   4.33e-05     33.986      0.000       0.001       0.002\n",
       "campaign              0.0028      0.011      0.249      0.803      -0.019       0.025\n",
       "pdays                -0.8915      0.144     -6.204      0.000      -1.173      -0.610\n",
       "previous              0.0289      0.051      0.564      0.573      -0.071       0.129\n",
       "poutcome              0.3720      0.069      5.407      0.000       0.237       0.507\n",
       "emp_var_rate         -0.2893      0.048     -5.976      0.000      -0.384      -0.194\n",
       "cons_price_idx        0.0015   4.33e-05     33.986      0.000       0.001       0.002\n",
       "cons_conf_idx         0.0017      0.004      0.380      0.704      -0.007       0.010\n",
       "euribor3m             0.3470      0.069      5.038      0.000       0.212       0.482\n",
       "nr_employed          -0.0120      0.001    -14.914      0.000      -0.014      -0.010\n",
       "=====================================================================================\n",
       "\"\"\""
      ]
     },
     "execution_count": 767,
     "metadata": {},
     "output_type": "execute_result"
    }
   ],
   "source": [
    "mod = sm.GLM.from_formula(formula=\"y ~ test_control_flag+age+job+marital+education+default+housing+loan+contact+month+day_of_week+duration+campaign+pdays+previous+poutcome+emp_var_rate+cons_price_idx+cons_conf_idx+euribor3m+nr_employed\",\n",
    "                            data=df_prim2, family=sm.families.Binomial())\n",
    "res = mod.fit()\n",
    "res.summary()"
   ]
  },
  {
   "cell_type": "code",
   "execution_count": 683,
   "id": "3aa14dc0",
   "metadata": {},
   "outputs": [
    {
     "data": {
      "text/plain": [
       "array([0.06889303, 0.10080009, 0.06101364, ..., 0.38270986, 0.40802463,\n",
       "       0.33234704])"
      ]
     },
     "execution_count": 683,
     "metadata": {},
     "output_type": "execute_result"
    }
   ],
   "source": [
    "probs = res.predict()\n",
    "probs"
   ]
  },
  {
   "cell_type": "code",
   "execution_count": 685,
   "id": "a25ce578",
   "metadata": {
    "scrolled": true
   },
   "outputs": [],
   "source": [
    "fpr_log, tpr_log, thresholds_log = metrics.roc_curve(df_prim2.y, probs)\n",
    "roc_auc_log = metrics.auc(fpr_log, tpr_log)"
   ]
  },
  {
   "cell_type": "markdown",
   "id": "f4180ac8",
   "metadata": {},
   "source": [
    "LOGISTIC REGRESSION FOR ALL SAMPLE ROC CURVE"
   ]
  },
  {
   "cell_type": "code",
   "execution_count": 686,
   "id": "c591ee82",
   "metadata": {},
   "outputs": [
    {
     "data": {
      "image/png": "[encoded data removed]",
      "text/plain": [
       "<Figure size 360x324 with 1 Axes>"
      ]
     },
     "metadata": {
      "needs_background": "light"
     },
     "output_type": "display_data"
    }
   ],
   "source": [
    "rocScore = roc_auc_score(df_prim2.y, probs)\n",
    "rocScore = round(rocScore, 2)\n",
    "\n",
    "fig, ax = plt.subplots(figsize=(5,4.5))\n",
    "\n",
    "\n",
    "lw = 2\n",
    "\n",
    "ax.plot(fpr_log, tpr_log, color='darkorange', lw=lw, label=f'ROC curve: {rocScore}')\n",
    "\n",
    "ax.plot([0, 1], [0, 1], color='navy', lw=lw, linestyle='--')\n",
    "\n",
    "ax.set_xlim([-0.01, 1.0])\n",
    "ax.set_ylim([0.0, 1.01])\n",
    "ax.set_xlabel('False Positive Rate')\n",
    "ax.set_ylabel('True Positive Rate')\n",
    "ax.set_title(f'Receiver operating characteristic - {rocScore}')\n",
    "ax.legend(loc=\"lower right\")\n",
    "plt.show()"
   ]
  },
  {
   "cell_type": "code",
   "execution_count": 687,
   "id": "c742ab53",
   "metadata": {},
   "outputs": [],
   "source": [
    "probs = res.predict()\n",
    "cutoff = 0.5\n",
    "preds = np.array([1 if x<cutoff else 0 for x in probs])"
   ]
  },
  {
   "cell_type": "code",
   "execution_count": 688,
   "id": "5a8d6536",
   "metadata": {},
   "outputs": [
    {
     "data": {
      "text/html": [
       "<div>\n",
       "<style scoped>\n",
       "    .dataframe tbody tr th:only-of-type {\n",
       "        vertical-align: middle;\n",
       "    }\n",
       "\n",
       "    .dataframe tbody tr th {\n",
       "        vertical-align: top;\n",
       "    }\n",
       "\n",
       "    .dataframe thead th {\n",
       "        text-align: right;\n",
       "    }\n",
       "</style>\n",
       "<table border=\"1\" class=\"dataframe\">\n",
       "  <thead>\n",
       "    <tr style=\"text-align: right;\">\n",
       "      <th>col_0</th>\n",
       "      <th>0</th>\n",
       "      <th>1</th>\n",
       "    </tr>\n",
       "    <tr>\n",
       "      <th>y</th>\n",
       "      <th></th>\n",
       "      <th></th>\n",
       "    </tr>\n",
       "  </thead>\n",
       "  <tbody>\n",
       "    <tr>\n",
       "      <th>no</th>\n",
       "      <td>592</td>\n",
       "      <td>35428</td>\n",
       "    </tr>\n",
       "    <tr>\n",
       "      <th>yes</th>\n",
       "      <td>1090</td>\n",
       "      <td>4078</td>\n",
       "    </tr>\n",
       "  </tbody>\n",
       "</table>\n",
       "</div>"
      ],
      "text/plain": [
       "col_0     0      1\n",
       "y                 \n",
       "no      592  35428\n",
       "yes    1090   4078"
      ]
     },
     "metadata": {},
     "output_type": "display_data"
    },
    {
     "data": {
      "text/html": [
       "<div>\n",
       "<style scoped>\n",
       "    .dataframe tbody tr th:only-of-type {\n",
       "        vertical-align: middle;\n",
       "    }\n",
       "\n",
       "    .dataframe tbody tr th {\n",
       "        vertical-align: top;\n",
       "    }\n",
       "\n",
       "    .dataframe thead th {\n",
       "        text-align: right;\n",
       "    }\n",
       "</style>\n",
       "<table border=\"1\" class=\"dataframe\">\n",
       "  <thead>\n",
       "    <tr style=\"text-align: right;\">\n",
       "      <th>col_0</th>\n",
       "      <th>0</th>\n",
       "      <th>1</th>\n",
       "    </tr>\n",
       "    <tr>\n",
       "      <th>y</th>\n",
       "      <th></th>\n",
       "      <th></th>\n",
       "    </tr>\n",
       "  </thead>\n",
       "  <tbody>\n",
       "    <tr>\n",
       "      <th>no</th>\n",
       "      <td>0.014</td>\n",
       "      <td>0.860</td>\n",
       "    </tr>\n",
       "    <tr>\n",
       "      <th>yes</th>\n",
       "      <td>0.026</td>\n",
       "      <td>0.099</td>\n",
       "    </tr>\n",
       "  </tbody>\n",
       "</table>\n",
       "</div>"
      ],
      "text/plain": [
       "col_0      0      1\n",
       "y                  \n",
       "no     0.014  0.860\n",
       "yes    0.026  0.099"
      ]
     },
     "metadata": {},
     "output_type": "display_data"
    },
    {
     "data": {
      "text/html": [
       "<div>\n",
       "<style scoped>\n",
       "    .dataframe tbody tr th:only-of-type {\n",
       "        vertical-align: middle;\n",
       "    }\n",
       "\n",
       "    .dataframe tbody tr th {\n",
       "        vertical-align: top;\n",
       "    }\n",
       "\n",
       "    .dataframe thead th {\n",
       "        text-align: right;\n",
       "    }\n",
       "</style>\n",
       "<table border=\"1\" class=\"dataframe\">\n",
       "  <thead>\n",
       "    <tr style=\"text-align: right;\">\n",
       "      <th>col_0</th>\n",
       "      <th>0</th>\n",
       "      <th>1</th>\n",
       "      <th>All</th>\n",
       "    </tr>\n",
       "    <tr>\n",
       "      <th>y</th>\n",
       "      <th></th>\n",
       "      <th></th>\n",
       "      <th></th>\n",
       "    </tr>\n",
       "  </thead>\n",
       "  <tbody>\n",
       "    <tr>\n",
       "      <th>no</th>\n",
       "      <td>0.014</td>\n",
       "      <td>0.860</td>\n",
       "      <td>0.875</td>\n",
       "    </tr>\n",
       "    <tr>\n",
       "      <th>yes</th>\n",
       "      <td>0.026</td>\n",
       "      <td>0.099</td>\n",
       "      <td>0.125</td>\n",
       "    </tr>\n",
       "    <tr>\n",
       "      <th>All</th>\n",
       "      <td>0.041</td>\n",
       "      <td>0.959</td>\n",
       "      <td>1.000</td>\n",
       "    </tr>\n",
       "  </tbody>\n",
       "</table>\n",
       "</div>"
      ],
      "text/plain": [
       "col_0      0      1    All\n",
       "y                         \n",
       "no     0.014  0.860  0.875\n",
       "yes    0.026  0.099  0.125\n",
       "All    0.041  0.959  1.000"
      ]
     },
     "metadata": {},
     "output_type": "display_data"
    }
   ],
   "source": [
    "#CONFUSION MARIX WITH RANDOM CUT OFF (arbitralnie ustawiłam na 0.5)\n",
    "display(pd.crosstab(df.y, preds))\n",
    "display(pd.crosstab(df.y, preds, normalize=True).round(3))\n",
    "display(pd.crosstab(df.y, preds, normalize=True, margins=True).round(3))"
   ]
  },
  {
   "cell_type": "markdown",
   "id": "d369dd33",
   "metadata": {},
   "source": [
    "   "
   ]
  },
  {
   "cell_type": "markdown",
   "id": "00de6b27",
   "metadata": {},
   "source": [
    "    "
   ]
  },
  {
   "cell_type": "markdown",
   "id": "6e999db2",
   "metadata": {},
   "source": [
    "    "
   ]
  },
  {
   "cell_type": "markdown",
   "id": "04b11124",
   "metadata": {},
   "source": [
    "   "
   ]
  },
  {
   "cell_type": "markdown",
   "id": "9fdd877f",
   "metadata": {},
   "source": [
    "CORRELATION WHICH I DID BEFORE XGBOOST TO REJECT HIGHY CORRELATED VARIABLES"
   ]
  },
  {
   "cell_type": "code",
   "execution_count": 192,
   "id": "92dfa8ec",
   "metadata": {},
   "outputs": [
    {
     "name": "stderr",
     "output_type": "stream",
     "text": [
      "C:\\Users\\User\\AppData\\Local\\Temp/ipykernel_4896/4248721851.py:2: FutureWarning: this method is deprecated in favour of `Styler.format(precision=..)`\n",
      "  corr.style.background_gradient(cmap='coolwarm').set_precision(2)\n"
     ]
    },
    {
     "data": {
      "text/html": [
       "<style type=\"text/css\">\n",
       "#T_0bb00_row0_col0, #T_0bb00_row1_col1, #T_0bb00_row2_col2, #T_0bb00_row3_col3, #T_0bb00_row4_col4, #T_0bb00_row5_col5, #T_0bb00_row6_col6, #T_0bb00_row7_col7, #T_0bb00_row8_col8, #T_0bb00_row9_col9, #T_0bb00_row10_col10, #T_0bb00_row11_col11, #T_0bb00_row12_col12, #T_0bb00_row13_col13, #T_0bb00_row14_col14, #T_0bb00_row15_col15, #T_0bb00_row16_col16, #T_0bb00_row17_col17 {\n",
       "  background-color: #b40426;\n",
       "  color: #f1f1f1;\n",
       "}\n",
       "#T_0bb00_row0_col1, #T_0bb00_row9_col6, #T_0bb00_row10_col6, #T_0bb00_row11_col6, #T_0bb00_row14_col6 {\n",
       "  background-color: #4358cb;\n",
       "  color: #f1f1f1;\n",
       "}\n",
       "#T_0bb00_row0_col2, #T_0bb00_row2_col0, #T_0bb00_row3_col4, #T_0bb00_row4_col1, #T_0bb00_row4_col3, #T_0bb00_row8_col7, #T_0bb00_row9_col1, #T_0bb00_row9_col10, #T_0bb00_row9_col11, #T_0bb00_row9_col13, #T_0bb00_row9_col15, #T_0bb00_row9_col17, #T_0bb00_row10_col9, #T_0bb00_row12_col5, #T_0bb00_row17_col6, #T_0bb00_row17_col8, #T_0bb00_row17_col12, #T_0bb00_row17_col14, #T_0bb00_row17_col16 {\n",
       "  background-color: #3b4cc0;\n",
       "  color: #f1f1f1;\n",
       "}\n",
       "#T_0bb00_row0_col3, #T_0bb00_row2_col1, #T_0bb00_row3_col7, #T_0bb00_row6_col7, #T_0bb00_row13_col7, #T_0bb00_row15_col16, #T_0bb00_row17_col5 {\n",
       "  background-color: #4b64d5;\n",
       "  color: #f1f1f1;\n",
       "}\n",
       "#T_0bb00_row0_col4, #T_0bb00_row2_col14, #T_0bb00_row11_col0, #T_0bb00_row15_col0 {\n",
       "  background-color: #9dbdff;\n",
       "  color: #000000;\n",
       "}\n",
       "#T_0bb00_row0_col5, #T_0bb00_row2_col7, #T_0bb00_row5_col6, #T_0bb00_row6_col13, #T_0bb00_row10_col4, #T_0bb00_row11_col9, #T_0bb00_row12_col7, #T_0bb00_row17_col1 {\n",
       "  background-color: #506bda;\n",
       "  color: #f1f1f1;\n",
       "}\n",
       "#T_0bb00_row0_col6, #T_0bb00_row7_col8, #T_0bb00_row10_col12, #T_0bb00_row14_col1, #T_0bb00_row14_col5 {\n",
       "  background-color: #4055c8;\n",
       "  color: #f1f1f1;\n",
       "}\n",
       "#T_0bb00_row0_col7, #T_0bb00_row4_col5, #T_0bb00_row10_col14 {\n",
       "  background-color: #4c66d6;\n",
       "  color: #f1f1f1;\n",
       "}\n",
       "#T_0bb00_row0_col8, #T_0bb00_row2_col4, #T_0bb00_row3_col5 {\n",
       "  background-color: #5673e0;\n",
       "  color: #f1f1f1;\n",
       "}\n",
       "#T_0bb00_row0_col9, #T_0bb00_row1_col14 {\n",
       "  background-color: #afcafc;\n",
       "  color: #000000;\n",
       "}\n",
       "#T_0bb00_row0_col10, #T_0bb00_row1_col10, #T_0bb00_row5_col10, #T_0bb00_row7_col10 {\n",
       "  background-color: #bbd1f8;\n",
       "  color: #000000;\n",
       "}\n",
       "#T_0bb00_row0_col11, #T_0bb00_row3_col11, #T_0bb00_row7_col9 {\n",
       "  background-color: #aac7fd;\n",
       "  color: #000000;\n",
       "}\n",
       "#T_0bb00_row0_col12, #T_0bb00_row6_col12, #T_0bb00_row15_col3 {\n",
       "  background-color: #7699f6;\n",
       "  color: #f1f1f1;\n",
       "}\n",
       "#T_0bb00_row0_col13, #T_0bb00_row12_col8 {\n",
       "  background-color: #7b9ff9;\n",
       "  color: #f1f1f1;\n",
       "}\n",
       "#T_0bb00_row0_col14, #T_0bb00_row15_col7 {\n",
       "  background-color: #b3cdfb;\n",
       "  color: #000000;\n",
       "}\n",
       "#T_0bb00_row0_col15, #T_0bb00_row13_col12 {\n",
       "  background-color: #86a9fc;\n",
       "  color: #f1f1f1;\n",
       "}\n",
       "#T_0bb00_row0_col16, #T_0bb00_row2_col16, #T_0bb00_row3_col16, #T_0bb00_row4_col16, #T_0bb00_row6_col5, #T_0bb00_row10_col16, #T_0bb00_row11_col8, #T_0bb00_row11_col16, #T_0bb00_row12_col16, #T_0bb00_row14_col16 {\n",
       "  background-color: #5e7de7;\n",
       "  color: #f1f1f1;\n",
       "}\n",
       "#T_0bb00_row0_col17 {\n",
       "  background-color: #bcd2f7;\n",
       "  color: #000000;\n",
       "}\n",
       "#T_0bb00_row1_col0, #T_0bb00_row6_col2, #T_0bb00_row8_col0, #T_0bb00_row11_col2, #T_0bb00_row16_col0, #T_0bb00_row16_col17 {\n",
       "  background-color: #98b9ff;\n",
       "  color: #000000;\n",
       "}\n",
       "#T_0bb00_row1_col2, #T_0bb00_row10_col0, #T_0bb00_row12_col4 {\n",
       "  background-color: #9ebeff;\n",
       "  color: #000000;\n",
       "}\n",
       "#T_0bb00_row1_col3, #T_0bb00_row2_col15 {\n",
       "  background-color: #94b6ff;\n",
       "  color: #000000;\n",
       "}\n",
       "#T_0bb00_row1_col4, #T_0bb00_row9_col8 {\n",
       "  background-color: #6485ec;\n",
       "  color: #f1f1f1;\n",
       "}\n",
       "#T_0bb00_row1_col5, #T_0bb00_row2_col8, #T_0bb00_row5_col8, #T_0bb00_row13_col1, #T_0bb00_row13_col8 {\n",
       "  background-color: #536edd;\n",
       "  color: #f1f1f1;\n",
       "}\n",
       "#T_0bb00_row1_col6, #T_0bb00_row6_col1, #T_0bb00_row7_col6, #T_0bb00_row13_col6, #T_0bb00_row14_col17 {\n",
       "  background-color: #3f53c6;\n",
       "  color: #f1f1f1;\n",
       "}\n",
       "#T_0bb00_row1_col7, #T_0bb00_row2_col13, #T_0bb00_row5_col13 {\n",
       "  background-color: #4a63d3;\n",
       "  color: #f1f1f1;\n",
       "}\n",
       "#T_0bb00_row1_col8, #T_0bb00_row7_col5, #T_0bb00_row7_col13, #T_0bb00_row8_col13 {\n",
       "  background-color: #516ddb;\n",
       "  color: #f1f1f1;\n",
       "}\n",
       "#T_0bb00_row1_col9, #T_0bb00_row5_col17, #T_0bb00_row6_col14, #T_0bb00_row16_col14 {\n",
       "  background-color: #b1cbfc;\n",
       "  color: #000000;\n",
       "}\n",
       "#T_0bb00_row1_col11, #T_0bb00_row3_col14, #T_0bb00_row7_col14, #T_0bb00_row15_col2 {\n",
       "  background-color: #a9c6fd;\n",
       "  color: #000000;\n",
       "}\n",
       "#T_0bb00_row1_col12, #T_0bb00_row11_col10 {\n",
       "  background-color: #7295f4;\n",
       "  color: #f1f1f1;\n",
       "}\n",
       "#T_0bb00_row1_col13, #T_0bb00_row12_col15 {\n",
       "  background-color: #6384eb;\n",
       "  color: #f1f1f1;\n",
       "}\n",
       "#T_0bb00_row1_col15 {\n",
       "  background-color: #88abfd;\n",
       "  color: #000000;\n",
       "}\n",
       "#T_0bb00_row1_col16, #T_0bb00_row3_col12, #T_0bb00_row5_col12, #T_0bb00_row6_col16, #T_0bb00_row9_col3, #T_0bb00_row13_col16 {\n",
       "  background-color: #5f7fe8;\n",
       "  color: #f1f1f1;\n",
       "}\n",
       "#T_0bb00_row1_col17, #T_0bb00_row2_col10, #T_0bb00_row3_col10, #T_0bb00_row15_col11 {\n",
       "  background-color: #bed2f6;\n",
       "  color: #000000;\n",
       "}\n",
       "#T_0bb00_row2_col3, #T_0bb00_row3_col15, #T_0bb00_row9_col12, #T_0bb00_row11_col13 {\n",
       "  background-color: #8caffe;\n",
       "  color: #000000;\n",
       "}\n",
       "#T_0bb00_row2_col5, #T_0bb00_row14_col10, #T_0bb00_row15_col4 {\n",
       "  background-color: #5470de;\n",
       "  color: #f1f1f1;\n",
       "}\n",
       "#T_0bb00_row2_col6, #T_0bb00_row3_col6, #T_0bb00_row5_col1, #T_0bb00_row14_col7, #T_0bb00_row16_col1, #T_0bb00_row16_col6 {\n",
       "  background-color: #445acc;\n",
       "  color: #f1f1f1;\n",
       "}\n",
       "#T_0bb00_row2_col9, #T_0bb00_row6_col17, #T_0bb00_row7_col11, #T_0bb00_row8_col11 {\n",
       "  background-color: #aec9fc;\n",
       "  color: #000000;\n",
       "}\n",
       "#T_0bb00_row2_col11, #T_0bb00_row4_col12, #T_0bb00_row6_col11, #T_0bb00_row14_col4 {\n",
       "  background-color: #a6c4fe;\n",
       "  color: #000000;\n",
       "}\n",
       "#T_0bb00_row2_col12, #T_0bb00_row12_col13 {\n",
       "  background-color: #6687ed;\n",
       "  color: #f1f1f1;\n",
       "}\n",
       "#T_0bb00_row2_col17 {\n",
       "  background-color: #cfdaea;\n",
       "  color: #000000;\n",
       "}\n",
       "#T_0bb00_row3_col0 {\n",
       "  background-color: #7a9df8;\n",
       "  color: #f1f1f1;\n",
       "}\n",
       "#T_0bb00_row3_col1, #T_0bb00_row16_col3 {\n",
       "  background-color: #6c8ff1;\n",
       "  color: #f1f1f1;\n",
       "}\n",
       "#T_0bb00_row3_col2, #T_0bb00_row11_col12 {\n",
       "  background-color: #b2ccfb;\n",
       "  color: #000000;\n",
       "}\n",
       "#T_0bb00_row3_col8 {\n",
       "  background-color: #5a78e4;\n",
       "  color: #f1f1f1;\n",
       "}\n",
       "#T_0bb00_row3_col9 {\n",
       "  background-color: #adc9fd;\n",
       "  color: #000000;\n",
       "}\n",
       "#T_0bb00_row3_col13, #T_0bb00_row6_col4 {\n",
       "  background-color: #6b8df0;\n",
       "  color: #f1f1f1;\n",
       "}\n",
       "#T_0bb00_row3_col17 {\n",
       "  background-color: #c4d5f3;\n",
       "  color: #000000;\n",
       "}\n",
       "#T_0bb00_row4_col0 {\n",
       "  background-color: #c0d4f5;\n",
       "  color: #000000;\n",
       "}\n",
       "#T_0bb00_row4_col2, #T_0bb00_row9_col4, #T_0bb00_row13_col3 {\n",
       "  background-color: #84a7fc;\n",
       "  color: #f1f1f1;\n",
       "}\n",
       "#T_0bb00_row4_col6, #T_0bb00_row12_col6 {\n",
       "  background-color: #4257c9;\n",
       "  color: #f1f1f1;\n",
       "}\n",
       "#T_0bb00_row4_col7, #T_0bb00_row10_col1, #T_0bb00_row15_col1 {\n",
       "  background-color: #4961d2;\n",
       "  color: #f1f1f1;\n",
       "}\n",
       "#T_0bb00_row4_col8, #T_0bb00_row4_col13, #T_0bb00_row5_col16 {\n",
       "  background-color: #5b7ae5;\n",
       "  color: #f1f1f1;\n",
       "}\n",
       "#T_0bb00_row4_col9, #T_0bb00_row12_col9 {\n",
       "  background-color: #c6d6f1;\n",
       "  color: #000000;\n",
       "}\n",
       "#T_0bb00_row4_col10, #T_0bb00_row10_col2, #T_0bb00_row17_col0 {\n",
       "  background-color: #a1c0ff;\n",
       "  color: #000000;\n",
       "}\n",
       "#T_0bb00_row4_col11, #T_0bb00_row13_col10, #T_0bb00_row14_col13 {\n",
       "  background-color: #abc8fd;\n",
       "  color: #000000;\n",
       "}\n",
       "#T_0bb00_row4_col14 {\n",
       "  background-color: #d7dce3;\n",
       "  color: #000000;\n",
       "}\n",
       "#T_0bb00_row4_col15 {\n",
       "  background-color: #6a8bef;\n",
       "  color: #f1f1f1;\n",
       "}\n",
       "#T_0bb00_row4_col17, #T_0bb00_row9_col2, #T_0bb00_row13_col15 {\n",
       "  background-color: #8db0fe;\n",
       "  color: #000000;\n",
       "}\n",
       "#T_0bb00_row5_col0, #T_0bb00_row12_col0, #T_0bb00_row16_col2 {\n",
       "  background-color: #97b8ff;\n",
       "  color: #000000;\n",
       "}\n",
       "#T_0bb00_row5_col2, #T_0bb00_row7_col2, #T_0bb00_row14_col0 {\n",
       "  background-color: #9abbff;\n",
       "  color: #000000;\n",
       "}\n",
       "#T_0bb00_row5_col3, #T_0bb00_row8_col3, #T_0bb00_row11_col3, #T_0bb00_row16_col15 {\n",
       "  background-color: #7093f3;\n",
       "  color: #f1f1f1;\n",
       "}\n",
       "#T_0bb00_row5_col4, #T_0bb00_row7_col4 {\n",
       "  background-color: #6788ee;\n",
       "  color: #f1f1f1;\n",
       "}\n",
       "#T_0bb00_row5_col7, #T_0bb00_row8_col5, #T_0bb00_row16_col5 {\n",
       "  background-color: #4f69d9;\n",
       "  color: #f1f1f1;\n",
       "}\n",
       "#T_0bb00_row5_col9 {\n",
       "  background-color: #b5cdfa;\n",
       "  color: #000000;\n",
       "}\n",
       "#T_0bb00_row5_col11, #T_0bb00_row5_col14, #T_0bb00_row13_col9 {\n",
       "  background-color: #a3c2fe;\n",
       "  color: #000000;\n",
       "}\n",
       "#T_0bb00_row5_col15, #T_0bb00_row14_col2 {\n",
       "  background-color: #80a3fa;\n",
       "  color: #f1f1f1;\n",
       "}\n",
       "#T_0bb00_row6_col0, #T_0bb00_row7_col0, #T_0bb00_row8_col2 {\n",
       "  background-color: #96b7ff;\n",
       "  color: #000000;\n",
       "}\n",
       "#T_0bb00_row6_col3, #T_0bb00_row16_col4 {\n",
       "  background-color: #6e90f2;\n",
       "  color: #f1f1f1;\n",
       "}\n",
       "#T_0bb00_row6_col8, #T_0bb00_row10_col5, #T_0bb00_row15_col12 {\n",
       "  background-color: #5875e1;\n",
       "  color: #f1f1f1;\n",
       "}\n",
       "#T_0bb00_row6_col9, #T_0bb00_row6_col10, #T_0bb00_row16_col9, #T_0bb00_row16_col10 {\n",
       "  background-color: #b6cefa;\n",
       "  color: #000000;\n",
       "}\n",
       "#T_0bb00_row6_col15 {\n",
       "  background-color: #7da0f9;\n",
       "  color: #f1f1f1;\n",
       "}\n",
       "#T_0bb00_row7_col1, #T_0bb00_row8_col1, #T_0bb00_row9_col7, #T_0bb00_row10_col8, #T_0bb00_row12_col1, #T_0bb00_row14_col15, #T_0bb00_row15_col6 {\n",
       "  background-color: #3e51c5;\n",
       "  color: #f1f1f1;\n",
       "}\n",
       "#T_0bb00_row7_col3 {\n",
       "  background-color: #688aef;\n",
       "  color: #f1f1f1;\n",
       "}\n",
       "#T_0bb00_row7_col12, #T_0bb00_row10_col3, #T_0bb00_row16_col12 {\n",
       "  background-color: #779af7;\n",
       "  color: #f1f1f1;\n",
       "}\n",
       "#T_0bb00_row7_col15, #T_0bb00_row12_col11, #T_0bb00_row17_col11 {\n",
       "  background-color: #d4dbe6;\n",
       "  color: #000000;\n",
       "}\n",
       "#T_0bb00_row7_col16, #T_0bb00_row8_col16, #T_0bb00_row16_col7, #T_0bb00_row16_col8 {\n",
       "  background-color: #000000;\n",
       "  color: #f1f1f1;\n",
       "}\n",
       "#T_0bb00_row7_col17 {\n",
       "  background-color: #f18d6f;\n",
       "  color: #f1f1f1;\n",
       "}\n",
       "#T_0bb00_row8_col4, #T_0bb00_row8_col15, #T_0bb00_row11_col4 {\n",
       "  background-color: #7396f5;\n",
       "  color: #f1f1f1;\n",
       "}\n",
       "#T_0bb00_row8_col6, #T_0bb00_row10_col13, #T_0bb00_row11_col1 {\n",
       "  background-color: #455cce;\n",
       "  color: #f1f1f1;\n",
       "}\n",
       "#T_0bb00_row8_col9 {\n",
       "  background-color: #c1d4f4;\n",
       "  color: #000000;\n",
       "}\n",
       "#T_0bb00_row8_col10 {\n",
       "  background-color: #a5c3fe;\n",
       "  color: #000000;\n",
       "}\n",
       "#T_0bb00_row8_col12 {\n",
       "  background-color: #9bbcff;\n",
       "  color: #000000;\n",
       "}\n",
       "#T_0bb00_row8_col14, #T_0bb00_row13_col11 {\n",
       "  background-color: #cdd9ec;\n",
       "  color: #000000;\n",
       "}\n",
       "#T_0bb00_row8_col17, #T_0bb00_row11_col15 {\n",
       "  background-color: #9fbfff;\n",
       "  color: #000000;\n",
       "}\n",
       "#T_0bb00_row9_col0, #T_0bb00_row13_col2 {\n",
       "  background-color: #8fb1fe;\n",
       "  color: #000000;\n",
       "}\n",
       "#T_0bb00_row9_col5, #T_0bb00_row11_col5, #T_0bb00_row15_col5 {\n",
       "  background-color: #4e68d8;\n",
       "  color: #f1f1f1;\n",
       "}\n",
       "#T_0bb00_row9_col14 {\n",
       "  background-color: #e8d6cc;\n",
       "  color: #000000;\n",
       "}\n",
       "#T_0bb00_row9_col16, #T_0bb00_row10_col11 {\n",
       "  background-color: #5d7ce6;\n",
       "  color: #f1f1f1;\n",
       "}\n",
       "#T_0bb00_row10_col7, #T_0bb00_row12_col3, #T_0bb00_row16_col13 {\n",
       "  background-color: #5572df;\n",
       "  color: #f1f1f1;\n",
       "}\n",
       "#T_0bb00_row10_col15, #T_0bb00_row17_col2 {\n",
       "  background-color: #bad0f8;\n",
       "  color: #000000;\n",
       "}\n",
       "#T_0bb00_row10_col17 {\n",
       "  background-color: #f5c0a7;\n",
       "  color: #000000;\n",
       "}\n",
       "#T_0bb00_row11_col7 {\n",
       "  background-color: #5977e3;\n",
       "  color: #f1f1f1;\n",
       "}\n",
       "#T_0bb00_row11_col14 {\n",
       "  background-color: #d5dbe5;\n",
       "  color: #000000;\n",
       "}\n",
       "#T_0bb00_row11_col17, #T_0bb00_row15_col10 {\n",
       "  background-color: #dcdddd;\n",
       "  color: #000000;\n",
       "}\n",
       "#T_0bb00_row12_col2 {\n",
       "  background-color: #89acfd;\n",
       "  color: #000000;\n",
       "}\n",
       "#T_0bb00_row12_col10 {\n",
       "  background-color: #8badfd;\n",
       "  color: #000000;\n",
       "}\n",
       "#T_0bb00_row12_col14 {\n",
       "  background-color: #ee8468;\n",
       "  color: #f1f1f1;\n",
       "}\n",
       "#T_0bb00_row12_col17, #T_0bb00_row17_col3 {\n",
       "  background-color: #82a6fb;\n",
       "  color: #f1f1f1;\n",
       "}\n",
       "#T_0bb00_row13_col0 {\n",
       "  background-color: #b7cff9;\n",
       "  color: #000000;\n",
       "}\n",
       "#T_0bb00_row13_col4, #T_0bb00_row15_col14 {\n",
       "  background-color: #7597f6;\n",
       "  color: #f1f1f1;\n",
       "}\n",
       "#T_0bb00_row13_col5 {\n",
       "  background-color: #485fd1;\n",
       "  color: #f1f1f1;\n",
       "}\n",
       "#T_0bb00_row13_col14 {\n",
       "  background-color: #e5d8d1;\n",
       "  color: #000000;\n",
       "}\n",
       "#T_0bb00_row13_col17 {\n",
       "  background-color: #c7d7f0;\n",
       "  color: #000000;\n",
       "}\n",
       "#T_0bb00_row14_col3 {\n",
       "  background-color: #6282ea;\n",
       "  color: #f1f1f1;\n",
       "}\n",
       "#T_0bb00_row14_col8 {\n",
       "  background-color: #81a4fb;\n",
       "  color: #f1f1f1;\n",
       "}\n",
       "#T_0bb00_row14_col9 {\n",
       "  background-color: #ead4c8;\n",
       "  color: #000000;\n",
       "}\n",
       "#T_0bb00_row14_col11 {\n",
       "  background-color: #cedaeb;\n",
       "  color: #000000;\n",
       "}\n",
       "#T_0bb00_row14_col12 {\n",
       "  background-color: #f49a7b;\n",
       "  color: #000000;\n",
       "}\n",
       "#T_0bb00_row15_col8 {\n",
       "  background-color: #465ecf;\n",
       "  color: #f1f1f1;\n",
       "}\n",
       "#T_0bb00_row15_col9 {\n",
       "  background-color: #799cf8;\n",
       "  color: #f1f1f1;\n",
       "}\n",
       "#T_0bb00_row15_col13 {\n",
       "  background-color: #6180e9;\n",
       "  color: #f1f1f1;\n",
       "}\n",
       "#T_0bb00_row15_col17 {\n",
       "  background-color: #f7b79b;\n",
       "  color: #000000;\n",
       "}\n",
       "#T_0bb00_row16_col11 {\n",
       "  background-color: #a7c5fe;\n",
       "  color: #000000;\n",
       "}\n",
       "#T_0bb00_row17_col4 {\n",
       "  background-color: #3c4ec2;\n",
       "  color: #f1f1f1;\n",
       "}\n",
       "#T_0bb00_row17_col7 {\n",
       "  background-color: #f7b599;\n",
       "  color: #000000;\n",
       "}\n",
       "#T_0bb00_row17_col9 {\n",
       "  background-color: #3d50c3;\n",
       "  color: #f1f1f1;\n",
       "}\n",
       "#T_0bb00_row17_col10 {\n",
       "  background-color: #f6bfa6;\n",
       "  color: #000000;\n",
       "}\n",
       "#T_0bb00_row17_col13 {\n",
       "  background-color: #6f92f3;\n",
       "  color: #f1f1f1;\n",
       "}\n",
       "#T_0bb00_row17_col15 {\n",
       "  background-color: #f1ccb8;\n",
       "  color: #000000;\n",
       "}\n",
       "</style>\n",
       "<table id=\"T_0bb00_\">\n",
       "  <thead>\n",
       "    <tr>\n",
       "      <th class=\"blank level0\" >&nbsp;</th>\n",
       "      <th class=\"col_heading level0 col0\" >age</th>\n",
       "      <th class=\"col_heading level0 col1\" >job</th>\n",
       "      <th class=\"col_heading level0 col2\" >marital</th>\n",
       "      <th class=\"col_heading level0 col3\" >education</th>\n",
       "      <th class=\"col_heading level0 col4\" >default</th>\n",
       "      <th class=\"col_heading level0 col5\" >housing</th>\n",
       "      <th class=\"col_heading level0 col6\" >loan</th>\n",
       "      <th class=\"col_heading level0 col7\" >duration</th>\n",
       "      <th class=\"col_heading level0 col8\" >campaign</th>\n",
       "      <th class=\"col_heading level0 col9\" >pdays</th>\n",
       "      <th class=\"col_heading level0 col10\" >previous</th>\n",
       "      <th class=\"col_heading level0 col11\" >poutcome</th>\n",
       "      <th class=\"col_heading level0 col12\" >cons_price_idx</th>\n",
       "      <th class=\"col_heading level0 col13\" >cons_conf_idx</th>\n",
       "      <th class=\"col_heading level0 col14\" >euribor3m</th>\n",
       "      <th class=\"col_heading level0 col15\" >y</th>\n",
       "      <th class=\"col_heading level0 col16\" >test_control_flag</th>\n",
       "      <th class=\"col_heading level0 col17\" >pred_xgb</th>\n",
       "    </tr>\n",
       "  </thead>\n",
       "  <tbody>\n",
       "    <tr>\n",
       "      <th id=\"T_0bb00_level0_row0\" class=\"row_heading level0 row0\" >age</th>\n",
       "      <td id=\"T_0bb00_row0_col0\" class=\"data row0 col0\" >1.00</td>\n",
       "      <td id=\"T_0bb00_row0_col1\" class=\"data row0 col1\" >0.00</td>\n",
       "      <td id=\"T_0bb00_row0_col2\" class=\"data row0 col2\" >-0.39</td>\n",
       "      <td id=\"T_0bb00_row0_col3\" class=\"data row0 col3\" >-0.12</td>\n",
       "      <td id=\"T_0bb00_row0_col4\" class=\"data row0 col4\" >0.16</td>\n",
       "      <td id=\"T_0bb00_row0_col5\" class=\"data row0 col5\" >-0.00</td>\n",
       "      <td id=\"T_0bb00_row0_col6\" class=\"data row0 col6\" >-0.01</td>\n",
       "      <td id=\"T_0bb00_row0_col7\" class=\"data row0 col7\" >-0.01</td>\n",
       "      <td id=\"T_0bb00_row0_col8\" class=\"data row0 col8\" >0.01</td>\n",
       "      <td id=\"T_0bb00_row0_col9\" class=\"data row0 col9\" >-0.03</td>\n",
       "      <td id=\"T_0bb00_row0_col10\" class=\"data row0 col10\" >0.02</td>\n",
       "      <td id=\"T_0bb00_row0_col11\" class=\"data row0 col11\" >0.02</td>\n",
       "      <td id=\"T_0bb00_row0_col12\" class=\"data row0 col12\" >0.00</td>\n",
       "      <td id=\"T_0bb00_row0_col13\" class=\"data row0 col13\" >0.13</td>\n",
       "      <td id=\"T_0bb00_row0_col14\" class=\"data row0 col14\" >0.01</td>\n",
       "      <td id=\"T_0bb00_row0_col15\" class=\"data row0 col15\" >0.02</td>\n",
       "      <td id=\"T_0bb00_row0_col16\" class=\"data row0 col16\" >0.00</td>\n",
       "      <td id=\"T_0bb00_row0_col17\" class=\"data row0 col17\" >0.04</td>\n",
       "    </tr>\n",
       "    <tr>\n",
       "      <th id=\"T_0bb00_level0_row1\" class=\"row_heading level0 row1\" >job</th>\n",
       "      <td id=\"T_0bb00_row1_col0\" class=\"data row1 col0\" >0.00</td>\n",
       "      <td id=\"T_0bb00_row1_col1\" class=\"data row1 col1\" >1.00</td>\n",
       "      <td id=\"T_0bb00_row1_col2\" class=\"data row1 col2\" >0.03</td>\n",
       "      <td id=\"T_0bb00_row1_col3\" class=\"data row1 col3\" >0.13</td>\n",
       "      <td id=\"T_0bb00_row1_col4\" class=\"data row1 col4\" >-0.03</td>\n",
       "      <td id=\"T_0bb00_row1_col5\" class=\"data row1 col5\" >0.01</td>\n",
       "      <td id=\"T_0bb00_row1_col6\" class=\"data row1 col6\" >-0.01</td>\n",
       "      <td id=\"T_0bb00_row1_col7\" class=\"data row1 col7\" >-0.01</td>\n",
       "      <td id=\"T_0bb00_row1_col8\" class=\"data row1 col8\" >-0.01</td>\n",
       "      <td id=\"T_0bb00_row1_col9\" class=\"data row1 col9\" >-0.03</td>\n",
       "      <td id=\"T_0bb00_row1_col10\" class=\"data row1 col10\" >0.02</td>\n",
       "      <td id=\"T_0bb00_row1_col11\" class=\"data row1 col11\" >0.01</td>\n",
       "      <td id=\"T_0bb00_row1_col12\" class=\"data row1 col12\" >-0.02</td>\n",
       "      <td id=\"T_0bb00_row1_col13\" class=\"data row1 col13\" >0.05</td>\n",
       "      <td id=\"T_0bb00_row1_col14\" class=\"data row1 col14\" >-0.01</td>\n",
       "      <td id=\"T_0bb00_row1_col15\" class=\"data row1 col15\" >0.02</td>\n",
       "      <td id=\"T_0bb00_row1_col16\" class=\"data row1 col16\" >0.00</td>\n",
       "      <td id=\"T_0bb00_row1_col17\" class=\"data row1 col17\" >0.05</td>\n",
       "    </tr>\n",
       "    <tr>\n",
       "      <th id=\"T_0bb00_level0_row2\" class=\"row_heading level0 row2\" >marital</th>\n",
       "      <td id=\"T_0bb00_row2_col0\" class=\"data row2 col0\" >-0.39</td>\n",
       "      <td id=\"T_0bb00_row2_col1\" class=\"data row2 col1\" >0.03</td>\n",
       "      <td id=\"T_0bb00_row2_col2\" class=\"data row2 col2\" >1.00</td>\n",
       "      <td id=\"T_0bb00_row2_col3\" class=\"data row2 col3\" >0.11</td>\n",
       "      <td id=\"T_0bb00_row2_col4\" class=\"data row2 col4\" >-0.08</td>\n",
       "      <td id=\"T_0bb00_row2_col5\" class=\"data row2 col5\" >0.01</td>\n",
       "      <td id=\"T_0bb00_row2_col6\" class=\"data row2 col6\" >0.01</td>\n",
       "      <td id=\"T_0bb00_row2_col7\" class=\"data row2 col7\" >0.01</td>\n",
       "      <td id=\"T_0bb00_row2_col8\" class=\"data row2 col8\" >-0.01</td>\n",
       "      <td id=\"T_0bb00_row2_col9\" class=\"data row2 col9\" >-0.04</td>\n",
       "      <td id=\"T_0bb00_row2_col10\" class=\"data row2 col10\" >0.04</td>\n",
       "      <td id=\"T_0bb00_row2_col11\" class=\"data row2 col11\" >0.00</td>\n",
       "      <td id=\"T_0bb00_row2_col12\" class=\"data row2 col12\" >-0.06</td>\n",
       "      <td id=\"T_0bb00_row2_col13\" class=\"data row2 col13\" >-0.03</td>\n",
       "      <td id=\"T_0bb00_row2_col14\" class=\"data row2 col14\" >-0.09</td>\n",
       "      <td id=\"T_0bb00_row2_col15\" class=\"data row2 col15\" >0.07</td>\n",
       "      <td id=\"T_0bb00_row2_col16\" class=\"data row2 col16\" >0.00</td>\n",
       "      <td id=\"T_0bb00_row2_col17\" class=\"data row2 col17\" >0.14</td>\n",
       "    </tr>\n",
       "    <tr>\n",
       "      <th id=\"T_0bb00_level0_row3\" class=\"row_heading level0 row3\" >education</th>\n",
       "      <td id=\"T_0bb00_row3_col0\" class=\"data row3 col0\" >-0.12</td>\n",
       "      <td id=\"T_0bb00_row3_col1\" class=\"data row3 col1\" >0.13</td>\n",
       "      <td id=\"T_0bb00_row3_col2\" class=\"data row3 col2\" >0.11</td>\n",
       "      <td id=\"T_0bb00_row3_col3\" class=\"data row3 col3\" >1.00</td>\n",
       "      <td id=\"T_0bb00_row3_col4\" class=\"data row3 col4\" >-0.19</td>\n",
       "      <td id=\"T_0bb00_row3_col5\" class=\"data row3 col5\" >0.02</td>\n",
       "      <td id=\"T_0bb00_row3_col6\" class=\"data row3 col6\" >0.01</td>\n",
       "      <td id=\"T_0bb00_row3_col7\" class=\"data row3 col7\" >-0.01</td>\n",
       "      <td id=\"T_0bb00_row3_col8\" class=\"data row3 col8\" >0.02</td>\n",
       "      <td id=\"T_0bb00_row3_col9\" class=\"data row3 col9\" >-0.05</td>\n",
       "      <td id=\"T_0bb00_row3_col10\" class=\"data row3 col10\" >0.04</td>\n",
       "      <td id=\"T_0bb00_row3_col11\" class=\"data row3 col11\" >0.02</td>\n",
       "      <td id=\"T_0bb00_row3_col12\" class=\"data row3 col12\" >-0.08</td>\n",
       "      <td id=\"T_0bb00_row3_col13\" class=\"data row3 col13\" >0.08</td>\n",
       "      <td id=\"T_0bb00_row3_col14\" class=\"data row3 col14\" >-0.04</td>\n",
       "      <td id=\"T_0bb00_row3_col15\" class=\"data row3 col15\" >0.04</td>\n",
       "      <td id=\"T_0bb00_row3_col16\" class=\"data row3 col16\" >0.00</td>\n",
       "      <td id=\"T_0bb00_row3_col17\" class=\"data row3 col17\" >0.08</td>\n",
       "    </tr>\n",
       "    <tr>\n",
       "      <th id=\"T_0bb00_level0_row4\" class=\"row_heading level0 row4\" >default</th>\n",
       "      <td id=\"T_0bb00_row4_col0\" class=\"data row4 col0\" >0.16</td>\n",
       "      <td id=\"T_0bb00_row4_col1\" class=\"data row4 col1\" >-0.03</td>\n",
       "      <td id=\"T_0bb00_row4_col2\" class=\"data row4 col2\" >-0.08</td>\n",
       "      <td id=\"T_0bb00_row4_col3\" class=\"data row4 col3\" >-0.19</td>\n",
       "      <td id=\"T_0bb00_row4_col4\" class=\"data row4 col4\" >1.00</td>\n",
       "      <td id=\"T_0bb00_row4_col5\" class=\"data row4 col5\" >-0.02</td>\n",
       "      <td id=\"T_0bb00_row4_col6\" class=\"data row4 col6\" >-0.00</td>\n",
       "      <td id=\"T_0bb00_row4_col7\" class=\"data row4 col7\" >-0.02</td>\n",
       "      <td id=\"T_0bb00_row4_col8\" class=\"data row4 col8\" >0.02</td>\n",
       "      <td id=\"T_0bb00_row4_col9\" class=\"data row4 col9\" >0.08</td>\n",
       "      <td id=\"T_0bb00_row4_col10\" class=\"data row4 col10\" >-0.10</td>\n",
       "      <td id=\"T_0bb00_row4_col11\" class=\"data row4 col11\" >0.02</td>\n",
       "      <td id=\"T_0bb00_row4_col12\" class=\"data row4 col12\" >0.17</td>\n",
       "      <td id=\"T_0bb00_row4_col13\" class=\"data row4 col13\" >0.03</td>\n",
       "      <td id=\"T_0bb00_row4_col14\" class=\"data row4 col14\" >0.20</td>\n",
       "      <td id=\"T_0bb00_row4_col15\" class=\"data row4 col15\" >-0.09</td>\n",
       "      <td id=\"T_0bb00_row4_col16\" class=\"data row4 col16\" >0.00</td>\n",
       "      <td id=\"T_0bb00_row4_col17\" class=\"data row4 col17\" >-0.18</td>\n",
       "    </tr>\n",
       "    <tr>\n",
       "      <th id=\"T_0bb00_level0_row5\" class=\"row_heading level0 row5\" >housing</th>\n",
       "      <td id=\"T_0bb00_row5_col0\" class=\"data row5 col0\" >-0.00</td>\n",
       "      <td id=\"T_0bb00_row5_col1\" class=\"data row5 col1\" >0.01</td>\n",
       "      <td id=\"T_0bb00_row5_col2\" class=\"data row5 col2\" >0.01</td>\n",
       "      <td id=\"T_0bb00_row5_col3\" class=\"data row5 col3\" >0.02</td>\n",
       "      <td id=\"T_0bb00_row5_col4\" class=\"data row5 col4\" >-0.02</td>\n",
       "      <td id=\"T_0bb00_row5_col5\" class=\"data row5 col5\" >1.00</td>\n",
       "      <td id=\"T_0bb00_row5_col6\" class=\"data row5 col6\" >0.04</td>\n",
       "      <td id=\"T_0bb00_row5_col7\" class=\"data row5 col7\" >0.00</td>\n",
       "      <td id=\"T_0bb00_row5_col8\" class=\"data row5 col8\" >-0.01</td>\n",
       "      <td id=\"T_0bb00_row5_col9\" class=\"data row5 col9\" >-0.01</td>\n",
       "      <td id=\"T_0bb00_row5_col10\" class=\"data row5 col10\" >0.02</td>\n",
       "      <td id=\"T_0bb00_row5_col11\" class=\"data row5 col11\" >-0.01</td>\n",
       "      <td id=\"T_0bb00_row5_col12\" class=\"data row5 col12\" >-0.08</td>\n",
       "      <td id=\"T_0bb00_row5_col13\" class=\"data row5 col13\" >-0.03</td>\n",
       "      <td id=\"T_0bb00_row5_col14\" class=\"data row5 col14\" >-0.06</td>\n",
       "      <td id=\"T_0bb00_row5_col15\" class=\"data row5 col15\" >-0.01</td>\n",
       "      <td id=\"T_0bb00_row5_col16\" class=\"data row5 col16\" >-0.01</td>\n",
       "      <td id=\"T_0bb00_row5_col17\" class=\"data row5 col17\" >-0.02</td>\n",
       "    </tr>\n",
       "    <tr>\n",
       "      <th id=\"T_0bb00_level0_row6\" class=\"row_heading level0 row6\" >loan</th>\n",
       "      <td id=\"T_0bb00_row6_col0\" class=\"data row6 col0\" >-0.01</td>\n",
       "      <td id=\"T_0bb00_row6_col1\" class=\"data row6 col1\" >-0.01</td>\n",
       "      <td id=\"T_0bb00_row6_col2\" class=\"data row6 col2\" >0.01</td>\n",
       "      <td id=\"T_0bb00_row6_col3\" class=\"data row6 col3\" >0.01</td>\n",
       "      <td id=\"T_0bb00_row6_col4\" class=\"data row6 col4\" >-0.00</td>\n",
       "      <td id=\"T_0bb00_row6_col5\" class=\"data row6 col5\" >0.04</td>\n",
       "      <td id=\"T_0bb00_row6_col6\" class=\"data row6 col6\" >1.00</td>\n",
       "      <td id=\"T_0bb00_row6_col7\" class=\"data row6 col7\" >-0.01</td>\n",
       "      <td id=\"T_0bb00_row6_col8\" class=\"data row6 col8\" >0.01</td>\n",
       "      <td id=\"T_0bb00_row6_col9\" class=\"data row6 col9\" >0.00</td>\n",
       "      <td id=\"T_0bb00_row6_col10\" class=\"data row6 col10\" >-0.00</td>\n",
       "      <td id=\"T_0bb00_row6_col11\" class=\"data row6 col11\" >-0.00</td>\n",
       "      <td id=\"T_0bb00_row6_col12\" class=\"data row6 col12\" >-0.00</td>\n",
       "      <td id=\"T_0bb00_row6_col13\" class=\"data row6 col13\" >-0.01</td>\n",
       "      <td id=\"T_0bb00_row6_col14\" class=\"data row6 col14\" >0.00</td>\n",
       "      <td id=\"T_0bb00_row6_col15\" class=\"data row6 col15\" >-0.02</td>\n",
       "      <td id=\"T_0bb00_row6_col16\" class=\"data row6 col16\" >0.01</td>\n",
       "      <td id=\"T_0bb00_row6_col17\" class=\"data row6 col17\" >-0.03</td>\n",
       "    </tr>\n",
       "    <tr>\n",
       "      <th id=\"T_0bb00_level0_row7\" class=\"row_heading level0 row7\" >duration</th>\n",
       "      <td id=\"T_0bb00_row7_col0\" class=\"data row7 col0\" >-0.01</td>\n",
       "      <td id=\"T_0bb00_row7_col1\" class=\"data row7 col1\" >-0.01</td>\n",
       "      <td id=\"T_0bb00_row7_col2\" class=\"data row7 col2\" >0.01</td>\n",
       "      <td id=\"T_0bb00_row7_col3\" class=\"data row7 col3\" >-0.01</td>\n",
       "      <td id=\"T_0bb00_row7_col4\" class=\"data row7 col4\" >-0.02</td>\n",
       "      <td id=\"T_0bb00_row7_col5\" class=\"data row7 col5\" >0.00</td>\n",
       "      <td id=\"T_0bb00_row7_col6\" class=\"data row7 col6\" >-0.01</td>\n",
       "      <td id=\"T_0bb00_row7_col7\" class=\"data row7 col7\" >1.00</td>\n",
       "      <td id=\"T_0bb00_row7_col8\" class=\"data row7 col8\" >-0.07</td>\n",
       "      <td id=\"T_0bb00_row7_col9\" class=\"data row7 col9\" >-0.06</td>\n",
       "      <td id=\"T_0bb00_row7_col10\" class=\"data row7 col10\" >0.02</td>\n",
       "      <td id=\"T_0bb00_row7_col11\" class=\"data row7 col11\" >0.03</td>\n",
       "      <td id=\"T_0bb00_row7_col12\" class=\"data row7 col12\" >0.00</td>\n",
       "      <td id=\"T_0bb00_row7_col13\" class=\"data row7 col13\" >-0.01</td>\n",
       "      <td id=\"T_0bb00_row7_col14\" class=\"data row7 col14\" >-0.03</td>\n",
       "      <td id=\"T_0bb00_row7_col15\" class=\"data row7 col15\" >0.32</td>\n",
       "      <td id=\"T_0bb00_row7_col16\" class=\"data row7 col16\" >nan</td>\n",
       "      <td id=\"T_0bb00_row7_col17\" class=\"data row7 col17\" >0.65</td>\n",
       "    </tr>\n",
       "    <tr>\n",
       "      <th id=\"T_0bb00_level0_row8\" class=\"row_heading level0 row8\" >campaign</th>\n",
       "      <td id=\"T_0bb00_row8_col0\" class=\"data row8 col0\" >0.01</td>\n",
       "      <td id=\"T_0bb00_row8_col1\" class=\"data row8 col1\" >-0.01</td>\n",
       "      <td id=\"T_0bb00_row8_col2\" class=\"data row8 col2\" >-0.01</td>\n",
       "      <td id=\"T_0bb00_row8_col3\" class=\"data row8 col3\" >0.02</td>\n",
       "      <td id=\"T_0bb00_row8_col4\" class=\"data row8 col4\" >0.02</td>\n",
       "      <td id=\"T_0bb00_row8_col5\" class=\"data row8 col5\" >-0.01</td>\n",
       "      <td id=\"T_0bb00_row8_col6\" class=\"data row8 col6\" >0.01</td>\n",
       "      <td id=\"T_0bb00_row8_col7\" class=\"data row8 col7\" >-0.07</td>\n",
       "      <td id=\"T_0bb00_row8_col8\" class=\"data row8 col8\" >1.00</td>\n",
       "      <td id=\"T_0bb00_row8_col9\" class=\"data row8 col9\" >0.05</td>\n",
       "      <td id=\"T_0bb00_row8_col10\" class=\"data row8 col10\" >-0.08</td>\n",
       "      <td id=\"T_0bb00_row8_col11\" class=\"data row8 col11\" >0.03</td>\n",
       "      <td id=\"T_0bb00_row8_col12\" class=\"data row8 col12\" >0.13</td>\n",
       "      <td id=\"T_0bb00_row8_col13\" class=\"data row8 col13\" >-0.01</td>\n",
       "      <td id=\"T_0bb00_row8_col14\" class=\"data row8 col14\" >0.14</td>\n",
       "      <td id=\"T_0bb00_row8_col15\" class=\"data row8 col15\" >-0.05</td>\n",
       "      <td id=\"T_0bb00_row8_col16\" class=\"data row8 col16\" >nan</td>\n",
       "      <td id=\"T_0bb00_row8_col17\" class=\"data row8 col17\" >-0.10</td>\n",
       "    </tr>\n",
       "    <tr>\n",
       "      <th id=\"T_0bb00_level0_row9\" class=\"row_heading level0 row9\" >pdays</th>\n",
       "      <td id=\"T_0bb00_row9_col0\" class=\"data row9 col0\" >-0.03</td>\n",
       "      <td id=\"T_0bb00_row9_col1\" class=\"data row9 col1\" >-0.03</td>\n",
       "      <td id=\"T_0bb00_row9_col2\" class=\"data row9 col2\" >-0.04</td>\n",
       "      <td id=\"T_0bb00_row9_col3\" class=\"data row9 col3\" >-0.05</td>\n",
       "      <td id=\"T_0bb00_row9_col4\" class=\"data row9 col4\" >0.08</td>\n",
       "      <td id=\"T_0bb00_row9_col5\" class=\"data row9 col5\" >-0.01</td>\n",
       "      <td id=\"T_0bb00_row9_col6\" class=\"data row9 col6\" >0.00</td>\n",
       "      <td id=\"T_0bb00_row9_col7\" class=\"data row9 col7\" >-0.06</td>\n",
       "      <td id=\"T_0bb00_row9_col8\" class=\"data row9 col8\" >0.05</td>\n",
       "      <td id=\"T_0bb00_row9_col9\" class=\"data row9 col9\" >1.00</td>\n",
       "      <td id=\"T_0bb00_row9_col10\" class=\"data row9 col10\" >-0.59</td>\n",
       "      <td id=\"T_0bb00_row9_col11\" class=\"data row9 col11\" >-0.48</td>\n",
       "      <td id=\"T_0bb00_row9_col12\" class=\"data row9 col12\" >0.08</td>\n",
       "      <td id=\"T_0bb00_row9_col13\" class=\"data row9 col13\" >-0.09</td>\n",
       "      <td id=\"T_0bb00_row9_col14\" class=\"data row9 col14\" >0.30</td>\n",
       "      <td id=\"T_0bb00_row9_col15\" class=\"data row9 col15\" >-0.28</td>\n",
       "      <td id=\"T_0bb00_row9_col16\" class=\"data row9 col16\" >-0.00</td>\n",
       "      <td id=\"T_0bb00_row9_col17\" class=\"data row9 col17\" >-0.57</td>\n",
       "    </tr>\n",
       "    <tr>\n",
       "      <th id=\"T_0bb00_level0_row10\" class=\"row_heading level0 row10\" >previous</th>\n",
       "      <td id=\"T_0bb00_row10_col0\" class=\"data row10 col0\" >0.02</td>\n",
       "      <td id=\"T_0bb00_row10_col1\" class=\"data row10 col1\" >0.02</td>\n",
       "      <td id=\"T_0bb00_row10_col2\" class=\"data row10 col2\" >0.04</td>\n",
       "      <td id=\"T_0bb00_row10_col3\" class=\"data row10 col3\" >0.04</td>\n",
       "      <td id=\"T_0bb00_row10_col4\" class=\"data row10 col4\" >-0.10</td>\n",
       "      <td id=\"T_0bb00_row10_col5\" class=\"data row10 col5\" >0.02</td>\n",
       "      <td id=\"T_0bb00_row10_col6\" class=\"data row10 col6\" >-0.00</td>\n",
       "      <td id=\"T_0bb00_row10_col7\" class=\"data row10 col7\" >0.02</td>\n",
       "      <td id=\"T_0bb00_row10_col8\" class=\"data row10 col8\" >-0.08</td>\n",
       "      <td id=\"T_0bb00_row10_col9\" class=\"data row10 col9\" >-0.59</td>\n",
       "      <td id=\"T_0bb00_row10_col10\" class=\"data row10 col10\" >1.00</td>\n",
       "      <td id=\"T_0bb00_row10_col11\" class=\"data row10 col11\" >-0.31</td>\n",
       "      <td id=\"T_0bb00_row10_col12\" class=\"data row10 col12\" >-0.20</td>\n",
       "      <td id=\"T_0bb00_row10_col13\" class=\"data row10 col13\" >-0.05</td>\n",
       "      <td id=\"T_0bb00_row10_col14\" class=\"data row10 col14\" >-0.45</td>\n",
       "      <td id=\"T_0bb00_row10_col15\" class=\"data row10 col15\" >0.21</td>\n",
       "      <td id=\"T_0bb00_row10_col16\" class=\"data row10 col16\" >0.00</td>\n",
       "      <td id=\"T_0bb00_row10_col17\" class=\"data row10 col17\" >0.43</td>\n",
       "    </tr>\n",
       "    <tr>\n",
       "      <th id=\"T_0bb00_level0_row11\" class=\"row_heading level0 row11\" >poutcome</th>\n",
       "      <td id=\"T_0bb00_row11_col0\" class=\"data row11 col0\" >0.02</td>\n",
       "      <td id=\"T_0bb00_row11_col1\" class=\"data row11 col1\" >0.01</td>\n",
       "      <td id=\"T_0bb00_row11_col2\" class=\"data row11 col2\" >0.00</td>\n",
       "      <td id=\"T_0bb00_row11_col3\" class=\"data row11 col3\" >0.02</td>\n",
       "      <td id=\"T_0bb00_row11_col4\" class=\"data row11 col4\" >0.02</td>\n",
       "      <td id=\"T_0bb00_row11_col5\" class=\"data row11 col5\" >-0.01</td>\n",
       "      <td id=\"T_0bb00_row11_col6\" class=\"data row11 col6\" >-0.00</td>\n",
       "      <td id=\"T_0bb00_row11_col7\" class=\"data row11 col7\" >0.03</td>\n",
       "      <td id=\"T_0bb00_row11_col8\" class=\"data row11 col8\" >0.03</td>\n",
       "      <td id=\"T_0bb00_row11_col9\" class=\"data row11 col9\" >-0.48</td>\n",
       "      <td id=\"T_0bb00_row11_col10\" class=\"data row11 col10\" >-0.31</td>\n",
       "      <td id=\"T_0bb00_row11_col11\" class=\"data row11 col11\" >1.00</td>\n",
       "      <td id=\"T_0bb00_row11_col12\" class=\"data row11 col12\" >0.21</td>\n",
       "      <td id=\"T_0bb00_row11_col13\" class=\"data row11 col13\" >0.18</td>\n",
       "      <td id=\"T_0bb00_row11_col14\" class=\"data row11 col14\" >0.18</td>\n",
       "      <td id=\"T_0bb00_row11_col15\" class=\"data row11 col15\" >0.11</td>\n",
       "      <td id=\"T_0bb00_row11_col16\" class=\"data row11 col16\" >0.00</td>\n",
       "      <td id=\"T_0bb00_row11_col17\" class=\"data row11 col17\" >0.21</td>\n",
       "    </tr>\n",
       "    <tr>\n",
       "      <th id=\"T_0bb00_level0_row12\" class=\"row_heading level0 row12\" >cons_price_idx</th>\n",
       "      <td id=\"T_0bb00_row12_col0\" class=\"data row12 col0\" >0.00</td>\n",
       "      <td id=\"T_0bb00_row12_col1\" class=\"data row12 col1\" >-0.02</td>\n",
       "      <td id=\"T_0bb00_row12_col2\" class=\"data row12 col2\" >-0.06</td>\n",
       "      <td id=\"T_0bb00_row12_col3\" class=\"data row12 col3\" >-0.08</td>\n",
       "      <td id=\"T_0bb00_row12_col4\" class=\"data row12 col4\" >0.17</td>\n",
       "      <td id=\"T_0bb00_row12_col5\" class=\"data row12 col5\" >-0.08</td>\n",
       "      <td id=\"T_0bb00_row12_col6\" class=\"data row12 col6\" >-0.00</td>\n",
       "      <td id=\"T_0bb00_row12_col7\" class=\"data row12 col7\" >0.00</td>\n",
       "      <td id=\"T_0bb00_row12_col8\" class=\"data row12 col8\" >0.13</td>\n",
       "      <td id=\"T_0bb00_row12_col9\" class=\"data row12 col9\" >0.08</td>\n",
       "      <td id=\"T_0bb00_row12_col10\" class=\"data row12 col10\" >-0.20</td>\n",
       "      <td id=\"T_0bb00_row12_col11\" class=\"data row12 col11\" >0.21</td>\n",
       "      <td id=\"T_0bb00_row12_col12\" class=\"data row12 col12\" >1.00</td>\n",
       "      <td id=\"T_0bb00_row12_col13\" class=\"data row12 col13\" >0.06</td>\n",
       "      <td id=\"T_0bb00_row12_col14\" class=\"data row12 col14\" >0.69</td>\n",
       "      <td id=\"T_0bb00_row12_col15\" class=\"data row12 col15\" >-0.11</td>\n",
       "      <td id=\"T_0bb00_row12_col16\" class=\"data row12 col16\" >0.00</td>\n",
       "      <td id=\"T_0bb00_row12_col17\" class=\"data row12 col17\" >-0.23</td>\n",
       "    </tr>\n",
       "    <tr>\n",
       "      <th id=\"T_0bb00_level0_row13\" class=\"row_heading level0 row13\" >cons_conf_idx</th>\n",
       "      <td id=\"T_0bb00_row13_col0\" class=\"data row13 col0\" >0.13</td>\n",
       "      <td id=\"T_0bb00_row13_col1\" class=\"data row13 col1\" >0.05</td>\n",
       "      <td id=\"T_0bb00_row13_col2\" class=\"data row13 col2\" >-0.03</td>\n",
       "      <td id=\"T_0bb00_row13_col3\" class=\"data row13 col3\" >0.08</td>\n",
       "      <td id=\"T_0bb00_row13_col4\" class=\"data row13 col4\" >0.03</td>\n",
       "      <td id=\"T_0bb00_row13_col5\" class=\"data row13 col5\" >-0.03</td>\n",
       "      <td id=\"T_0bb00_row13_col6\" class=\"data row13 col6\" >-0.01</td>\n",
       "      <td id=\"T_0bb00_row13_col7\" class=\"data row13 col7\" >-0.01</td>\n",
       "      <td id=\"T_0bb00_row13_col8\" class=\"data row13 col8\" >-0.01</td>\n",
       "      <td id=\"T_0bb00_row13_col9\" class=\"data row13 col9\" >-0.09</td>\n",
       "      <td id=\"T_0bb00_row13_col10\" class=\"data row13 col10\" >-0.05</td>\n",
       "      <td id=\"T_0bb00_row13_col11\" class=\"data row13 col11\" >0.18</td>\n",
       "      <td id=\"T_0bb00_row13_col12\" class=\"data row13 col12\" >0.06</td>\n",
       "      <td id=\"T_0bb00_row13_col13\" class=\"data row13 col13\" >1.00</td>\n",
       "      <td id=\"T_0bb00_row13_col14\" class=\"data row13 col14\" >0.28</td>\n",
       "      <td id=\"T_0bb00_row13_col15\" class=\"data row13 col15\" >0.04</td>\n",
       "      <td id=\"T_0bb00_row13_col16\" class=\"data row13 col16\" >0.00</td>\n",
       "      <td id=\"T_0bb00_row13_col17\" class=\"data row13 col17\" >0.09</td>\n",
       "    </tr>\n",
       "    <tr>\n",
       "      <th id=\"T_0bb00_level0_row14\" class=\"row_heading level0 row14\" >euribor3m</th>\n",
       "      <td id=\"T_0bb00_row14_col0\" class=\"data row14 col0\" >0.01</td>\n",
       "      <td id=\"T_0bb00_row14_col1\" class=\"data row14 col1\" >-0.01</td>\n",
       "      <td id=\"T_0bb00_row14_col2\" class=\"data row14 col2\" >-0.09</td>\n",
       "      <td id=\"T_0bb00_row14_col3\" class=\"data row14 col3\" >-0.04</td>\n",
       "      <td id=\"T_0bb00_row14_col4\" class=\"data row14 col4\" >0.20</td>\n",
       "      <td id=\"T_0bb00_row14_col5\" class=\"data row14 col5\" >-0.06</td>\n",
       "      <td id=\"T_0bb00_row14_col6\" class=\"data row14 col6\" >0.00</td>\n",
       "      <td id=\"T_0bb00_row14_col7\" class=\"data row14 col7\" >-0.03</td>\n",
       "      <td id=\"T_0bb00_row14_col8\" class=\"data row14 col8\" >0.14</td>\n",
       "      <td id=\"T_0bb00_row14_col9\" class=\"data row14 col9\" >0.30</td>\n",
       "      <td id=\"T_0bb00_row14_col10\" class=\"data row14 col10\" >-0.45</td>\n",
       "      <td id=\"T_0bb00_row14_col11\" class=\"data row14 col11\" >0.18</td>\n",
       "      <td id=\"T_0bb00_row14_col12\" class=\"data row14 col12\" >0.69</td>\n",
       "      <td id=\"T_0bb00_row14_col13\" class=\"data row14 col13\" >0.28</td>\n",
       "      <td id=\"T_0bb00_row14_col14\" class=\"data row14 col14\" >1.00</td>\n",
       "      <td id=\"T_0bb00_row14_col15\" class=\"data row14 col15\" >-0.27</td>\n",
       "      <td id=\"T_0bb00_row14_col16\" class=\"data row14 col16\" >0.00</td>\n",
       "      <td id=\"T_0bb00_row14_col17\" class=\"data row14 col17\" >-0.55</td>\n",
       "    </tr>\n",
       "    <tr>\n",
       "      <th id=\"T_0bb00_level0_row15\" class=\"row_heading level0 row15\" >y</th>\n",
       "      <td id=\"T_0bb00_row15_col0\" class=\"data row15 col0\" >0.02</td>\n",
       "      <td id=\"T_0bb00_row15_col1\" class=\"data row15 col1\" >0.02</td>\n",
       "      <td id=\"T_0bb00_row15_col2\" class=\"data row15 col2\" >0.07</td>\n",
       "      <td id=\"T_0bb00_row15_col3\" class=\"data row15 col3\" >0.04</td>\n",
       "      <td id=\"T_0bb00_row15_col4\" class=\"data row15 col4\" >-0.09</td>\n",
       "      <td id=\"T_0bb00_row15_col5\" class=\"data row15 col5\" >-0.01</td>\n",
       "      <td id=\"T_0bb00_row15_col6\" class=\"data row15 col6\" >-0.02</td>\n",
       "      <td id=\"T_0bb00_row15_col7\" class=\"data row15 col7\" >0.32</td>\n",
       "      <td id=\"T_0bb00_row15_col8\" class=\"data row15 col8\" >-0.05</td>\n",
       "      <td id=\"T_0bb00_row15_col9\" class=\"data row15 col9\" >-0.28</td>\n",
       "      <td id=\"T_0bb00_row15_col10\" class=\"data row15 col10\" >0.21</td>\n",
       "      <td id=\"T_0bb00_row15_col11\" class=\"data row15 col11\" >0.11</td>\n",
       "      <td id=\"T_0bb00_row15_col12\" class=\"data row15 col12\" >-0.11</td>\n",
       "      <td id=\"T_0bb00_row15_col13\" class=\"data row15 col13\" >0.04</td>\n",
       "      <td id=\"T_0bb00_row15_col14\" class=\"data row15 col14\" >-0.27</td>\n",
       "      <td id=\"T_0bb00_row15_col15\" class=\"data row15 col15\" >1.00</td>\n",
       "      <td id=\"T_0bb00_row15_col16\" class=\"data row15 col16\" >-0.06</td>\n",
       "      <td id=\"T_0bb00_row15_col17\" class=\"data row15 col17\" >0.48</td>\n",
       "    </tr>\n",
       "    <tr>\n",
       "      <th id=\"T_0bb00_level0_row16\" class=\"row_heading level0 row16\" >test_control_flag</th>\n",
       "      <td id=\"T_0bb00_row16_col0\" class=\"data row16 col0\" >0.00</td>\n",
       "      <td id=\"T_0bb00_row16_col1\" class=\"data row16 col1\" >0.00</td>\n",
       "      <td id=\"T_0bb00_row16_col2\" class=\"data row16 col2\" >0.00</td>\n",
       "      <td id=\"T_0bb00_row16_col3\" class=\"data row16 col3\" >0.00</td>\n",
       "      <td id=\"T_0bb00_row16_col4\" class=\"data row16 col4\" >0.00</td>\n",
       "      <td id=\"T_0bb00_row16_col5\" class=\"data row16 col5\" >-0.01</td>\n",
       "      <td id=\"T_0bb00_row16_col6\" class=\"data row16 col6\" >0.01</td>\n",
       "      <td id=\"T_0bb00_row16_col7\" class=\"data row16 col7\" >nan</td>\n",
       "      <td id=\"T_0bb00_row16_col8\" class=\"data row16 col8\" >nan</td>\n",
       "      <td id=\"T_0bb00_row16_col9\" class=\"data row16 col9\" >-0.00</td>\n",
       "      <td id=\"T_0bb00_row16_col10\" class=\"data row16 col10\" >0.00</td>\n",
       "      <td id=\"T_0bb00_row16_col11\" class=\"data row16 col11\" >0.00</td>\n",
       "      <td id=\"T_0bb00_row16_col12\" class=\"data row16 col12\" >0.00</td>\n",
       "      <td id=\"T_0bb00_row16_col13\" class=\"data row16 col13\" >0.00</td>\n",
       "      <td id=\"T_0bb00_row16_col14\" class=\"data row16 col14\" >0.00</td>\n",
       "      <td id=\"T_0bb00_row16_col15\" class=\"data row16 col15\" >-0.06</td>\n",
       "      <td id=\"T_0bb00_row16_col16\" class=\"data row16 col16\" >1.00</td>\n",
       "      <td id=\"T_0bb00_row16_col17\" class=\"data row16 col17\" >-0.13</td>\n",
       "    </tr>\n",
       "    <tr>\n",
       "      <th id=\"T_0bb00_level0_row17\" class=\"row_heading level0 row17\" >pred_xgb</th>\n",
       "      <td id=\"T_0bb00_row17_col0\" class=\"data row17 col0\" >0.04</td>\n",
       "      <td id=\"T_0bb00_row17_col1\" class=\"data row17 col1\" >0.05</td>\n",
       "      <td id=\"T_0bb00_row17_col2\" class=\"data row17 col2\" >0.14</td>\n",
       "      <td id=\"T_0bb00_row17_col3\" class=\"data row17 col3\" >0.08</td>\n",
       "      <td id=\"T_0bb00_row17_col4\" class=\"data row17 col4\" >-0.18</td>\n",
       "      <td id=\"T_0bb00_row17_col5\" class=\"data row17 col5\" >-0.02</td>\n",
       "      <td id=\"T_0bb00_row17_col6\" class=\"data row17 col6\" >-0.03</td>\n",
       "      <td id=\"T_0bb00_row17_col7\" class=\"data row17 col7\" >0.65</td>\n",
       "      <td id=\"T_0bb00_row17_col8\" class=\"data row17 col8\" >-0.10</td>\n",
       "      <td id=\"T_0bb00_row17_col9\" class=\"data row17 col9\" >-0.57</td>\n",
       "      <td id=\"T_0bb00_row17_col10\" class=\"data row17 col10\" >0.43</td>\n",
       "      <td id=\"T_0bb00_row17_col11\" class=\"data row17 col11\" >0.21</td>\n",
       "      <td id=\"T_0bb00_row17_col12\" class=\"data row17 col12\" >-0.23</td>\n",
       "      <td id=\"T_0bb00_row17_col13\" class=\"data row17 col13\" >0.09</td>\n",
       "      <td id=\"T_0bb00_row17_col14\" class=\"data row17 col14\" >-0.55</td>\n",
       "      <td id=\"T_0bb00_row17_col15\" class=\"data row17 col15\" >0.48</td>\n",
       "      <td id=\"T_0bb00_row17_col16\" class=\"data row17 col16\" >-0.13</td>\n",
       "      <td id=\"T_0bb00_row17_col17\" class=\"data row17 col17\" >1.00</td>\n",
       "    </tr>\n",
       "  </tbody>\n",
       "</table>\n"
      ],
      "text/plain": [
       "<pandas.io.formats.style.Styler at 0x29b8427a040>"
      ]
     },
     "execution_count": 192,
     "metadata": {},
     "output_type": "execute_result"
    }
   ],
   "source": [
    "corr = df_prim.corr()\n",
    "corr.style.background_gradient(cmap='coolwarm').set_precision(2)"
   ]
  },
  {
   "cell_type": "code",
   "execution_count": null,
   "id": "16a0a267",
   "metadata": {},
   "outputs": [],
   "source": []
  }
 ],
 "metadata": {
  "kernelspec": {
   "display_name": "Python 3 (ipykernel)",
   "language": "python",
   "name": "python3"
  },
  "language_info": {
   "codemirror_mode": {
    "name": "ipython",
    "version": 3
   },
   "file_extension": ".py",
   "mimetype": "text/x-python",
   "name": "python",
   "nbconvert_exporter": "python",
   "pygments_lexer": "ipython3",
   "version": "3.10.8"
  }
 },
 "nbformat": 4,
 "nbformat_minor": 5
}
